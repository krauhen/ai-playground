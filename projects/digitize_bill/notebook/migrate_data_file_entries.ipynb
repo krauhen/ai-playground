{
 "cells": [
  {
   "cell_type": "code",
   "execution_count": 9,
   "id": "281dc61f-03af-4b2c-ad39-2cad38b99c73",
   "metadata": {},
   "outputs": [],
   "source": [
    "import json\n",
    "import os\n",
    "import sys"
   ]
  },
  {
   "cell_type": "markdown",
   "id": "b21ea89c-eafe-4fd6-ba01-2727e9e177bc",
   "metadata": {},
   "source": [
    "# Name filenames correct"
   ]
  },
  {
   "cell_type": "code",
   "execution_count": 17,
   "id": "f105aa6e-9f49-4a69-89dc-6efdd74e9414",
   "metadata": {},
   "outputs": [],
   "source": [
    "if sys.platform.startswith('linux'):\n",
    "    split_char = \"/\"\n",
    "else:\n",
    "    split_char = \"\\\\\"\n",
    "\n",
    "FILE_PATH = f\"..{split_char}data\"\n",
    "\n",
    "with open(os.path.join(FILE_PATH, \"data.json\"), \"r\") as f:\n",
    "    data = json.load(f)\n",
    "\n",
    "for i, element in enumerate(data[\"entries\"]):\n",
    "    filename = element[\"filename\"]\n",
    "    if \"/\" in filename:\n",
    "        fileparts = filename.split(\"/\")\n",
    "    else:\n",
    "        fileparts = filename.split(\"\\\\\")\n",
    "    filename = fileparts[-1]\n",
    "    filename = os.path.join(FILE_PATH, \"images\", filename)\n",
    "\n",
    "    data[\"entries\"][i][\"filename\"] = filename\n",
    "\n",
    "with open(os.path.join(FILE_PATH, \"data.json\"), \"w\") as f:\n",
    "    data = json.dump(data, f)"
   ]
  },
  {
   "cell_type": "code",
   "execution_count": null,
   "id": "d49265ad-4d98-4647-8685-0d484f6669de",
   "metadata": {},
   "outputs": [],
   "source": []
  }
 ],
 "metadata": {
  "kernelspec": {
   "display_name": "Python 3 (ipykernel)",
   "language": "python",
   "name": "python3"
  },
  "language_info": {
   "codemirror_mode": {
    "name": "ipython",
    "version": 3
   },
   "file_extension": ".py",
   "mimetype": "text/x-python",
   "name": "python",
   "nbconvert_exporter": "python",
   "pygments_lexer": "ipython3",
   "version": "3.10.11"
  }
 },
 "nbformat": 4,
 "nbformat_minor": 5
}
