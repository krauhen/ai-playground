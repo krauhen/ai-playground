{
 "cells": [
  {
   "cell_type": "code",
   "execution_count": 1,
   "id": "281dc61f-03af-4b2c-ad39-2cad38b99c73",
   "metadata": {},
   "outputs": [],
   "source": [
    "import json\n",
    "import os\n",
    "import sys"
   ]
  },
  {
   "cell_type": "markdown",
   "id": "b21ea89c-eafe-4fd6-ba01-2727e9e177bc",
   "metadata": {},
   "source": [
    "# Name filenames correct"
   ]
  },
  {
   "cell_type": "code",
   "execution_count": 5,
   "id": "f105aa6e-9f49-4a69-89dc-6efdd74e9414",
   "metadata": {},
   "outputs": [],
   "source": [
    "FILE_PATH = f\"../data\"\n",
    "\n",
    "with open(os.path.join(FILE_PATH, \"data.json\"), \"r\") as f:\n",
    "    data = json.load(f)\n",
    "\n",
    "for i, element in enumerate(data[\"entries\"]):\n",
    "    filename = element[\"filename\"]\n",
    "    filename = repr(filename).replace(\"\\\\\", \"/\")\n",
    "    filename = repr(filename).replace(\"//\", \"/\")\n",
    "    fileparts = filename.split(\"/\")\n",
    "    filename = fileparts[-1]\n",
    "    filename = os.path.join(FILE_PATH, \"images\", filename)\n",
    "    filename = filename.replace(\"\\\"\", \"\")\n",
    "    filename = filename.replace(\"\\'\", \"\")\n",
    "\n",
    "    data[\"entries\"][i][\"filename\"] = filename\n",
    "\n",
    "with open(os.path.join(FILE_PATH, \"data.json\"), \"w\") as f:\n",
    "    data = json.dump(data, f)"
   ]
  },
  {
   "cell_type": "code",
   "execution_count": null,
   "id": "d49265ad-4d98-4647-8685-0d484f6669de",
   "metadata": {},
   "outputs": [],
   "source": []
  }
 ],
 "metadata": {
  "kernelspec": {
   "display_name": "Python 3 (ipykernel)",
   "language": "python",
   "name": "python3"
  },
  "language_info": {
   "codemirror_mode": {
    "name": "ipython",
    "version": 3
   },
   "file_extension": ".py",
   "mimetype": "text/x-python",
   "name": "python",
   "nbconvert_exporter": "python",
   "pygments_lexer": "ipython3",
   "version": "3.11.6"
  }
 },
 "nbformat": 4,
 "nbformat_minor": 5
}
