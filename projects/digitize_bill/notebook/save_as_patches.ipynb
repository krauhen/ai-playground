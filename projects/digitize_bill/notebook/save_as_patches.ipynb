{
 "cells": [
  {
   "cell_type": "code",
   "execution_count": null,
   "id": "8ba47123-5b16-4449-b8d6-1c776939ecd1",
   "metadata": {},
   "outputs": [],
   "source": [
    "import cv2\n",
    "import json\n",
    "import os\n",
    "import sys"
   ]
  },
  {
   "cell_type": "code",
   "execution_count": null,
   "id": "f8706f5d-39fb-4b44-ab60-36934e113d6c",
   "metadata": {},
   "outputs": [],
   "source": [
    "FILE_PATH = \"../data\""
   ]
  },
  {
   "cell_type": "code",
   "execution_count": null,
   "id": "0f6833c1-698a-499a-9fc4-10ee4ab1c9a6",
   "metadata": {},
   "outputs": [],
   "source": [
    "with open(os.path.join(FILE_PATH, \"data.json\"), \"r\") as f:\n",
    "    data = json.load(f)"
   ]
  },
  {
   "cell_type": "code",
   "execution_count": null,
   "id": "bac83b82-0e91-48e8-8991-cb851728ecbc",
   "metadata": {},
   "outputs": [],
   "source": [
    "elements = data[\"entries\"]\n",
    "\n",
    "for i, element in enumerate(elements):\n",
    "    filename = element[\"filename\"]\n",
    "    raw_coord = element[\"coord\"]\n",
    "    coord = raw_coord.replace(\")\", \"\")\n",
    "    coord = coord.replace(\"(\", \"\")\n",
    "    xl, yl, xu, yu = coord.split(\",\")\n",
    "    xl = int(xl)\n",
    "    yl = int(yl)\n",
    "    xu = int(xu)\n",
    "    yu = int(yu)\n",
    "\n",
    "    if not os.path.isfile(filename):\n",
    "        continue\n",
    "\n",
    "    img = cv2.imread(filename)\n",
    "    patch = img[yl:yu, xl:xu]\n",
    "    \n",
    "    if sys.platform.startswith('linux'):\n",
    "        split_char = \"/\"\n",
    "    else:\n",
    "        split_char = \"\\\\\"\n",
    "\n",
    "    fileparts = filename.split(split_char)\n",
    "    filename = fileparts[-1].split(\".\")[0] + f\"_{xl}_{yl}_{xu}_{yu}.jpg\"\n",
    "    filename = os.path.join(split_char.join(fileparts[:-1]), filename)\n",
    "    filename = filename.split(split_char)[-1]\n",
    "    filename = os.path.join(FILE_PATH, f\"patches/{filename}\")\n",
    "    \n",
    "    cv2.imwrite(filename, patch)\n",
    "    \n",
    "    print(f\"\\r{i + 1}|{len(elements)}, {filename}\", end=\"\")"
   ]
  },
  {
   "cell_type": "code",
   "execution_count": null,
   "id": "e4f8d4cc-5726-41ff-9560-cff59bac1a6c",
   "metadata": {},
   "outputs": [],
   "source": []
  }
 ],
 "metadata": {
  "kernelspec": {
   "display_name": "Python 3 (ipykernel)",
   "language": "python",
   "name": "python3"
  },
  "language_info": {
   "codemirror_mode": {
    "name": "ipython",
    "version": 3
   },
   "file_extension": ".py",
   "mimetype": "text/x-python",
   "name": "python",
   "nbconvert_exporter": "python",
   "pygments_lexer": "ipython3",
   "version": "3.10.11"
  }
 },
 "nbformat": 4,
 "nbformat_minor": 5
}
