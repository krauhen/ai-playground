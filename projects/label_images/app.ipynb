{
 "cells": [
  {
   "cell_type": "code",
   "execution_count": null,
   "id": "2f786522-9dd9-4828-ab8d-ef65d4fc3ac7",
   "metadata": {},
   "outputs": [],
   "source": [
    "import cv2\n",
    "import glob\n",
    "import json\n",
    "import os\n",
    "\n",
    "import gradio as gr\n",
    "import numpy as np\n",
    "\n",
    "import matplotlib.pyplot as plt"
   ]
  },
  {
   "cell_type": "code",
   "execution_count": null,
   "id": "ef55422e-f520-454a-8f6f-fb30a8505861",
   "metadata": {},
   "outputs": [],
   "source": [
    "def show(filenames):\n",
    "    n = 2\n",
    "    m = 8\n",
    "    fig, axes = plt.subplots(n, m, figsize=(20, 5))\n",
    "    for i in range(n):\n",
    "        for j in range(m):\n",
    "            idx = (i * m) + j\n",
    "            img = cv2.imread(filenames[idx])\n",
    "            img[:, :, [0, 1, 2]] = img[:, :, [2, 1, 0]]\n",
    "            axes[i, j].imshow(img)\n",
    "    plt.show()"
   ]
  },
  {
   "cell_type": "code",
   "execution_count": null,
   "id": "eb93a90e-e486-4fe8-b0c2-2d8cdd2e9fac",
   "metadata": {},
   "outputs": [],
   "source": [
    "filenames = glob.glob(\"/mnt/data/bill_images/*\")"
   ]
  },
  {
   "cell_type": "code",
   "execution_count": null,
   "id": "594ec173-b407-4d5c-ab3d-046cf8b1931a",
   "metadata": {},
   "outputs": [],
   "source": [
    "show(filenames)"
   ]
  },
  {
   "cell_type": "code",
   "execution_count": null,
   "id": "105f634a-0980-4f4f-a4db-03b81b90df82",
   "metadata": {},
   "outputs": [],
   "source": [
    "def append_to_json_file(payload):\n",
    "\n",
    "    filename = \"data.json\"\n",
    "\n",
    "    if not os.path.isfile(filename):\n",
    "        print(f\"Creat file {filename}\")\n",
    "        with open(filename, \"w\") as f:\n",
    "            json.dump({\"entries\": []}, f)\n",
    "    \n",
    "    with open(filename, \"r\") as f:\n",
    "        data = json.load(f)\n",
    "\n",
    "    data[\"entries\"].append(payload)\n",
    "    print(data)\n",
    "    \n",
    "    with open(filename, \"w\") as f:\n",
    "        json.dump(data, f)"
   ]
  },
  {
   "cell_type": "code",
   "execution_count": null,
   "id": "4c8b4a69-08f1-466b-a29e-73857c0b33a0",
   "metadata": {},
   "outputs": [],
   "source": [
    "def create_app():\n",
    "    def get_image_patch(filename, patch_size=(256, 256)):\n",
    "        img = cv2.imread(filename)\n",
    "        img[:, :, [0, 1, 2]] = img[:, :, [2, 1, 0]]\n",
    "        h, w, c = img.shape\n",
    "        ph, pw = patch_size\n",
    "        ry = np.random.randint(0, h - ph)\n",
    "        rx = np.random.randint(0, w - pw)\n",
    "        patch = img[ry:ry + ph, rx:rx + pw]\n",
    "        upper_left = rx, ry\n",
    "        lower_right = rx + pw, ry + ph\n",
    "        coord = upper_left, lower_right\n",
    "        pred_label_visible = None\n",
    "        pred_label_text = None\n",
    "        img = cv2.resize(img, None, fx=0.25, fy=0.25)\n",
    "        return img, patch, coord, pred_label_visible, pred_label_text\n",
    "        \n",
    "    with gr.Blocks(theme=\"adam-haile/DSTheme\") as demo:\n",
    "    \n",
    "        idx = np.random.randint(0, len(filenames))\n",
    "        filename = filenames[idx]\n",
    "        img, patch, coord, pred_label_visible, pred_label_text = get_image_patch(filename)\n",
    "    \n",
    "        label_visible_radio = gr.Radio(value=pred_label_visible, \n",
    "                                       choices=[\"yes\", \"no\", \"unclear\"], \n",
    "                                       label=\"Is the bill visible in the image?\")\n",
    "        \n",
    "        label_text_radio = gr.Radio(value=pred_label_text, \n",
    "                                    choices=[\"yes\", \"no\", \"unclear\"], \n",
    "                                    label=\"Is text visible in the image?\")\n",
    "        \n",
    "        filename_text = gr.Text(filename, \n",
    "                                label=\"filename\", \n",
    "                                interactive=False)\n",
    "        \n",
    "        coord_text = gr.Text(coord, \n",
    "                             label=\"coord\", \n",
    "                             interactive=False)\n",
    "        \n",
    "        output_textbox = gr.Textbox(label=\"Submitted data\", \n",
    "                                    interactive=False)\n",
    "            \n",
    "        button = gr.Button(\"Submit\")\n",
    "    \n",
    "        with gr.Row():\n",
    "            big_image = gr.Image(img, height=500, width=500, label=\"Full image for reference\")\n",
    "            image = gr.Image(patch, height=750, width=750, label=\"Patch to label\")\n",
    "    \n",
    "        @button.click(inputs=[label_visible_radio, \n",
    "                              label_text_radio, \n",
    "                              filename_text, \n",
    "                              coord_text], \n",
    "                      outputs=[output_textbox, \n",
    "                               label_visible_radio, \n",
    "                               label_text_radio, \n",
    "                               filename_text,\n",
    "                               coord_text,\n",
    "                               big_image,\n",
    "                               image])\n",
    "        def submit(label_visible, label_text, filename, coord):\n",
    "            \n",
    "            idx = np.random.randint(0, len(filenames))\n",
    "            new_filename = filenames[idx]\n",
    "            img, patch, new_coord, pred_label_visible, pred_label_text = get_image_patch(filename)\n",
    "    \n",
    "            entry = dict()\n",
    "            entry[\"label_visible\"] = label_visible\n",
    "            entry[\"label_text\"] = label_text\n",
    "            entry[\"filename\"] = filename\n",
    "            entry[\"coord\"] = coord\n",
    "            \n",
    "            append_to_json_file(entry)\n",
    "            text = f\"{label_visible=}, {label_text=}, {filename=}, {coord=}\"\n",
    "    \n",
    "            return text, pred_label_visible, pred_label_text, new_filename, new_coord, img, patch\n",
    "    \n",
    "    _ = demo.launch(inline=False, inbrowser=True)"
   ]
  },
  {
   "cell_type": "code",
   "execution_count": null,
   "id": "af23bee0-82ff-4eaa-b44d-576f9609dafb",
   "metadata": {},
   "outputs": [],
   "source": [
    "create_app()"
   ]
  },
  {
   "cell_type": "code",
   "execution_count": null,
   "id": "2e09a678-137e-468f-b793-c0036fd28d6c",
   "metadata": {},
   "outputs": [],
   "source": []
  }
 ],
 "metadata": {
  "kernelspec": {
   "display_name": "Python 3 (ipykernel)",
   "language": "python",
   "name": "python3"
  },
  "language_info": {
   "codemirror_mode": {
    "name": "ipython",
    "version": 3
   },
   "file_extension": ".py",
   "mimetype": "text/x-python",
   "name": "python",
   "nbconvert_exporter": "python",
   "pygments_lexer": "ipython3",
   "version": "3.11.6"
  }
 },
 "nbformat": 4,
 "nbformat_minor": 5
}
