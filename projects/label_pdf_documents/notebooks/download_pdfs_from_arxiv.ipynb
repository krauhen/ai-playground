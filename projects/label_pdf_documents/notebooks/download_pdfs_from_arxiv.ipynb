{
 "cells": [
  {
   "cell_type": "code",
   "execution_count": null,
   "id": "05937cb7-0e1c-4551-837f-0e1cd5f71c26",
   "metadata": {},
   "outputs": [],
   "source": [
    "import arxivpy\n",
    "import json\n",
    "import os"
   ]
  },
  {
   "cell_type": "code",
   "execution_count": null,
   "id": "c282b68b-a82d-4446-8fdf-fb69a2728194",
   "metadata": {},
   "outputs": [],
   "source": [
    "N = 200\n",
    "categories = []\n",
    "categories.append('cs.CV') # Computer Vision\n",
    "categories.append('stat.ML') # Machine Learning"
   ]
  },
  {
   "cell_type": "code",
   "execution_count": null,
   "id": "1feafb24-5711-43c4-9240-5cada4a2da44",
   "metadata": {
    "scrolled": true
   },
   "outputs": [],
   "source": [
    "articles = arxivpy.query(search_query=categories,\n",
    "                         start_index=0, \n",
    "                         max_index=N, \n",
    "                         results_per_iteration=100,\n",
    "                         wait_time=5.0, \n",
    "                         sort_by='lastUpdatedDate')\n",
    "\n",
    "for article in articles:\n",
    "    with open(os.path.join(\"../data/pdfs/meta/\", article[\"id\"] + \".json\"), \"w\") as f:\n",
    "        json.dump(article, f, indent=4, sort_keys=True, default=str)\n",
    "\n",
    "arxivpy.download(articles, path='../data/pdfs/files')"
   ]
  },
  {
   "cell_type": "code",
   "execution_count": null,
   "id": "bcd34e81-0c39-4928-87ed-30837cec5695",
   "metadata": {},
   "outputs": [],
   "source": []
  }
 ],
 "metadata": {
  "kernelspec": {
   "display_name": "Python 3 (ipykernel)",
   "language": "python",
   "name": "python3"
  },
  "language_info": {
   "codemirror_mode": {
    "name": "ipython",
    "version": 3
   },
   "file_extension": ".py",
   "mimetype": "text/x-python",
   "name": "python",
   "nbconvert_exporter": "python",
   "pygments_lexer": "ipython3",
   "version": "3.11.6"
  }
 },
 "nbformat": 4,
 "nbformat_minor": 5
}
