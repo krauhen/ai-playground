{
 "cells": [
  {
   "cell_type": "code",
   "execution_count": 1,
   "id": "87fce488-7e72-49ba-ab8c-c0ea3550dc13",
   "metadata": {},
   "outputs": [],
   "source": [
    "import cv2\n",
    "import glob\n",
    "import os\n",
    "\n",
    "import numpy as np\n",
    "from pdf2image import convert_from_path"
   ]
  },
  {
   "cell_type": "code",
   "execution_count": null,
   "id": "d8e8f4f6-aa2f-41cb-a054-e8dd999b06e9",
   "metadata": {},
   "outputs": [],
   "source": [
    "images = convert_from_path('../data/pdfs/files/2203.07976v5.pdf')"
   ]
  },
  {
   "cell_type": "code",
   "execution_count": null,
   "id": "2833064d-e778-413e-888e-9c4f6268a0f7",
   "metadata": {},
   "outputs": [],
   "source": [
    "len(images)"
   ]
  },
  {
   "cell_type": "code",
   "execution_count": null,
   "id": "c087766e-112f-4ee4-8b4a-c2a17010708a",
   "metadata": {},
   "outputs": [],
   "source": [
    "images[0]"
   ]
  },
  {
   "cell_type": "code",
   "execution_count": null,
   "id": "fb474d6e-9e7d-4b9f-b975-4e2b2fb084f7",
   "metadata": {
    "scrolled": true
   },
   "outputs": [],
   "source": [
    "filenames = sorted(glob.glob(\"../data/pdfs/files/*\"))\n",
    "for n, filename in enumerate(filenames):\n",
    "    images = convert_from_path(filename)\n",
    "    filename = filename.split(\"/\")[-1]\n",
    "    filename = \".\".join(filename.split(\".\")[:-1])\n",
    "    for i, image in enumerate(images):\n",
    "        print(f\"\\r{n + 1}|{len(filenames)}, {filename}, {i + 1}|{len(images)}\", end=\"\")\n",
    "        out_path = os.path.join(\"../data/images/\", f\"{filename}_{i}.png\")\n",
    "        img = np.asarray(image)\n",
    "        img = cv2.cvtColor(img, cv2.COLOR_BGR2RGB)\n",
    "        cv2.imwrite(out_path, img)\n",
    "    print()"
   ]
  },
  {
   "cell_type": "code",
   "execution_count": null,
   "id": "d71563e9-92cd-4d4d-95b8-7aa969dad958",
   "metadata": {},
   "outputs": [],
   "source": []
  }
 ],
 "metadata": {
  "kernelspec": {
   "display_name": "Python 3 (ipykernel)",
   "language": "python",
   "name": "python3"
  },
  "language_info": {
   "codemirror_mode": {
    "name": "ipython",
    "version": 3
   },
   "file_extension": ".py",
   "mimetype": "text/x-python",
   "name": "python",
   "nbconvert_exporter": "python",
   "pygments_lexer": "ipython3",
   "version": "3.11.6"
  }
 },
 "nbformat": 4,
 "nbformat_minor": 5
}
