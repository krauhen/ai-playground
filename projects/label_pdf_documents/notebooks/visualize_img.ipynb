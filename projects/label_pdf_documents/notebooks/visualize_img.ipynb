{
 "cells": [
  {
   "cell_type": "code",
   "execution_count": null,
   "id": "2a6b0b97-fbd9-440d-a90d-49f639e37b2d",
   "metadata": {},
   "outputs": [],
   "source": [
    "import cv2\n",
    "import json\n",
    "\n",
    "import numpy as np\n",
    "import matplotlib.pyplot as plt"
   ]
  },
  {
   "cell_type": "code",
   "execution_count": null,
   "id": "c9f2f2f7-b830-4e76-b9fe-77ddcd24837e",
   "metadata": {},
   "outputs": [],
   "source": [
    "colors = dict()\n",
    "colors[\"Text\"] = 255, 204, 0\n",
    "colors[\"Header\"] = 204, 0, 0\n",
    "colors[\"Picture\"] = 41, 163, 41\n",
    "colors[\"Caption\"] = 255, 102, 0\n",
    "colors[\"Footnote\"] = 179, 0, 179"
   ]
  },
  {
   "cell_type": "code",
   "execution_count": null,
   "id": "a4ddef65-9ee5-40cb-a8e9-9c6754967750",
   "metadata": {},
   "outputs": [],
   "source": [
    "with open(\"/home/henning/Downloads/project-2-at-2024-04-22-22-27-cad44ef9.json\", \"r\") as f:\n",
    "    data = json.load(f)"
   ]
  },
  {
   "cell_type": "code",
   "execution_count": null,
   "id": "6af5c1d0-45d5-4321-94bd-6a12dd7d6413",
   "metadata": {
    "scrolled": true
   },
   "outputs": [],
   "source": [
    "filename = \"../data/images/2203.07976v5_0.png\"\n",
    "img = cv2.imread(filename)\n",
    "img[:, :, [0, 1, 2]] = img[:, :, [2, 1, 0]]\n",
    "\n",
    "alpha = 0.75\n",
    "draw_img = img.copy()\n",
    "entries = data[0][\"annotations\"][0][\"result\"]\n",
    "for entry in entries:\n",
    "    original_width = entry[\"original_width\"]\n",
    "    original_height = entry[\"original_height\"]\n",
    "    \n",
    "    percentage_x = entry[\"value\"][\"x\"]\n",
    "    percentage_y = entry[\"value\"][\"y\"]\n",
    "    x = int((percentage_x * original_width) / 100)\n",
    "    y = int((percentage_y * original_height) / 100)\n",
    "    \n",
    "    percentage_width = entry[\"value\"][\"width\"]\n",
    "    percentage_height = entry[\"value\"][\"height\"]\n",
    "    width = int((percentage_width * original_width) / 100)\n",
    "    height = int((percentage_height * original_height) / 100)\n",
    "    \n",
    "    label = entry[\"value\"][\"rectanglelabels\"][0]\n",
    "    color = colors[label]\n",
    "    draw_img = cv2.rectangle(draw_img, (x, y), (x + width, y + height), color, -1)\n",
    "img = cv2.addWeighted(img, alpha, draw_img, 1 - alpha, 0)\n",
    "fig, axes = plt.subplots(1, 1, figsize=(20, 20))\n",
    "axes.imshow(img)\n",
    "plt.show()\n",
    "\n",
    "img[:, :, [0, 1, 2]] = img[:, :, [2, 1, 0]]\n",
    "cv2.imwrite(\"/home/henning/test.png\", img)"
   ]
  },
  {
   "cell_type": "code",
   "execution_count": null,
   "id": "af5b1daa-cae9-4f1b-b61b-4e4fbb2b9e98",
   "metadata": {},
   "outputs": [],
   "source": []
  }
 ],
 "metadata": {
  "kernelspec": {
   "display_name": "Python 3 (ipykernel)",
   "language": "python",
   "name": "python3"
  },
  "language_info": {
   "codemirror_mode": {
    "name": "ipython",
    "version": 3
   },
   "file_extension": ".py",
   "mimetype": "text/x-python",
   "name": "python",
   "nbconvert_exporter": "python",
   "pygments_lexer": "ipython3",
   "version": "3.11.6"
  }
 },
 "nbformat": 4,
 "nbformat_minor": 5
}
