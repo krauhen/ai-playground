{
 "cells": [
  {
   "cell_type": "code",
   "execution_count": null,
   "id": "50920e78-a19b-4562-8a7d-63af2cc52c38",
   "metadata": {},
   "outputs": [],
   "source": [
    "import gc\n",
    "import os\n",
    "import torch\n",
    "\n",
    "from datasets import load_dataset\n",
    "from peft import LoraConfig, PeftModel, prepare_model_for_kbit_training\n",
    "from transformers import (\n",
    "    AutoModelForCausalLM,\n",
    "    AutoTokenizer,\n",
    "    BitsAndBytesConfig,\n",
    "    TrainingArguments,\n",
    "    pipeline,\n",
    ")\n",
    "from trl import setup_chat_format"
   ]
  },
  {
   "cell_type": "markdown",
   "id": "9ff5e73b-1c9b-430c-baf2-76518cad860d",
   "metadata": {},
   "source": [
    "# Parameters"
   ]
  },
  {
   "cell_type": "code",
   "execution_count": null,
   "id": "352f9b05-ac46-4326-bb8e-f865b4e2fd47",
   "metadata": {},
   "outputs": [],
   "source": [
    "ACCESS_TOKEN = \"hf_XXX\"\n",
    "\n",
    "ATTN_IMPL = \"flash_attention_2\"\n",
    "TORCH_DTYPE = torch.bfloat16\n",
    "BASE_MODEL = \"meta-llama/Meta-Llama-3-8B\"\n",
    "NEW_MODEL = \"Custom-Llama-3-8B\"\n",
    "\n",
    "N_EPOCHS = 1\n",
    "DEVICE = \"cuda:0\"\n",
    "LR = 8e-6\n",
    "CONTENT_LENGTH = 1024\n",
    "PROMPT_LENGTH = 512\n",
    "N_BATCH_GRADIENT_ACC = 4\n",
    "WARMUP_STEPS = 10\n",
    "NEFTUNE_NOISE_ALPHA = 0.1\n",
    "TEST_SIZE = 0.05\n",
    "TRAIN_BATCH_SIZE = 2\n",
    "EVAL_BATCH_SIZE = 2\n",
    "N_DATA = 100\n",
    "EVAL_STEPS = 1\n",
    "LOGGING_STEPS = 1\n",
    "\n",
    "LORA_RANK = 16\n",
    "LORA_ALPHA = 16\n",
    "LORA_DROPOUT = 0.05"
   ]
  },
  {
   "cell_type": "markdown",
   "id": "b51233d0-5935-49fe-893b-e0b13cb099c2",
   "metadata": {},
   "source": [
    "# Config"
   ]
  },
  {
   "cell_type": "markdown",
   "id": "dc4be951-df41-4dc6-9ab2-75430683ddbe",
   "metadata": {},
   "source": [
    "## Quantization config"
   ]
  },
  {
   "cell_type": "code",
   "execution_count": null,
   "id": "6b98716a-c9b8-4ae1-ad6d-b9dfd14a9c7c",
   "metadata": {},
   "outputs": [],
   "source": [
    "bnb_config = BitsAndBytesConfig(\n",
    "    load_in_4bit=True,\n",
    "    bnb_4bit_quant_type=\"nf4\",\n",
    "    bnb_4bit_compute_dtype=TORCH_DTYPE,\n",
    "    bnb_4bit_use_double_quant=True,\n",
    ")"
   ]
  },
  {
   "cell_type": "markdown",
   "id": "0b597f99-c764-4a7e-a09c-9edfe12bded2",
   "metadata": {},
   "source": [
    "## PEFT / LoRA config"
   ]
  },
  {
   "cell_type": "code",
   "execution_count": null,
   "id": "ab8f4b51-4975-41cf-9d6c-ba197600c89f",
   "metadata": {},
   "outputs": [],
   "source": [
    "peft_config = LoraConfig(\n",
    "    r=LORA_RANK,\n",
    "    lora_alpha=LORA_ALPHA,\n",
    "    lora_dropout=LORA_DROPOUT,\n",
    "    bias=\"none\",\n",
    "    task_type=\"CAUSAL_LM\",\n",
    "    target_modules=['up_proj', 'down_proj', 'gate_proj', 'k_proj', 'q_proj', 'v_proj', 'o_proj']\n",
    ")"
   ]
  },
  {
   "cell_type": "markdown",
   "id": "1fa6b9c1-933f-4554-9f75-8f24c5c2fd12",
   "metadata": {},
   "source": [
    "## Training config"
   ]
  },
  {
   "cell_type": "code",
   "execution_count": null,
   "id": "5ba1e524-e6ac-4c3f-a1bd-b8744c639342",
   "metadata": {},
   "outputs": [],
   "source": [
    "training_args = TrainingArguments(\n",
    "    learning_rate=LR,\n",
    "    lr_scheduler_type=\"linear\",\n",
    "    per_device_train_batch_size=TRAIN_BATCH_SIZE,\n",
    "    per_device_eval_batch_size=EVAL_BATCH_SIZE,\n",
    "    gradient_accumulation_steps=N_BATCH_GRADIENT_ACC,\n",
    "    optim=\"paged_adamw_8bit\",\n",
    "    num_train_epochs=N_EPOCHS,\n",
    "    evaluation_strategy=\"steps\",\n",
    "    eval_steps=EVAL_STEPS,\n",
    "    logging_steps=LOGGING_STEPS,\n",
    "    warmup_steps=WARMUP_STEPS,\n",
    "    output_dir=\"./results/\",\n",
    "    remove_unused_columns=False,\n",
    "    neftune_noise_alpha=NEFTUNE_NOISE_ALPHA\n",
    ")"
   ]
  },
  {
   "cell_type": "markdown",
   "id": "aba39ed9-de6e-4f35-891c-e6290181c33e",
   "metadata": {},
   "source": [
    "# Prepare LLM"
   ]
  },
  {
   "cell_type": "markdown",
   "id": "2536a65a-5bff-450d-892a-88ab59dcdb43",
   "metadata": {},
   "source": [
    "## Tokenizer"
   ]
  },
  {
   "cell_type": "code",
   "execution_count": null,
   "id": "5ca71a88-a3cb-4630-83f5-a6d4f0b88612",
   "metadata": {},
   "outputs": [],
   "source": [
    "tokenizer = AutoTokenizer.from_pretrained(\n",
    "    BASE_MODEL,\n",
    "    token=ACCESS_TOKEN\n",
    ")"
   ]
  },
  {
   "cell_type": "markdown",
   "id": "f9ee3b24-f13c-4102-8906-65087735d563",
   "metadata": {},
   "source": [
    "## LLM-Model"
   ]
  },
  {
   "cell_type": "code",
   "execution_count": null,
   "id": "f7192881-a7ad-46ff-a743-105fde819f96",
   "metadata": {},
   "outputs": [],
   "source": [
    "model = AutoModelForCausalLM.from_pretrained(\n",
    "    BASE_MODEL,\n",
    "    quantization_config=bnb_config,\n",
    "    device_map=DEVICE,\n",
    "    attn_implementation=ATTN_IMPL,\n",
    "    token=ACCESS_TOKEN\n",
    ")"
   ]
  },
  {
   "cell_type": "markdown",
   "id": "c24f3bfa-b556-451e-b971-2222b117f77d",
   "metadata": {},
   "source": [
    "## Setup model and tokenizer"
   ]
  },
  {
   "cell_type": "code",
   "execution_count": null,
   "id": "a6775f6c-9107-401d-ae9c-33f783546835",
   "metadata": {},
   "outputs": [],
   "source": [
    "model, tokenizer = setup_chat_format(model, tokenizer)"
   ]
  },
  {
   "cell_type": "markdown",
   "id": "216437f8-24bc-4dd2-89e0-500e9928a017",
   "metadata": {},
   "source": [
    "## Prepare model for quantization"
   ]
  },
  {
   "cell_type": "code",
   "execution_count": null,
   "id": "20cdac40-1e77-4ba2-bc8e-552665d9abe0",
   "metadata": {},
   "outputs": [],
   "source": [
    "model = prepare_model_for_kbit_training(model)"
   ]
  },
  {
   "cell_type": "markdown",
   "id": "ff328601-7cc4-43c4-832f-d97ca52ed58f",
   "metadata": {},
   "source": [
    "# Prepare dataset"
   ]
  },
  {
   "cell_type": "markdown",
   "id": "3703b040-be41-45d7-9677-b1fb8b9f04b2",
   "metadata": {},
   "source": [
    "## Load"
   ]
  },
  {
   "cell_type": "code",
   "execution_count": null,
   "id": "2b693ce8-d948-4c03-9537-c77f5c512e22",
   "metadata": {},
   "outputs": [],
   "source": [
    "dataset_name = \"mlabonne/orpo-dpo-mix-40k\"\n",
    "dataset = load_dataset(dataset_name, split=\"all\")\n",
    "dataset = dataset.shuffle(seed=42)\n",
    "dataset = dataset.select(range(N_DATA))"
   ]
  },
  {
   "cell_type": "markdown",
   "id": "2cde90db-b8bb-4c22-9e43-6d3f7ec5c5e1",
   "metadata": {},
   "source": [
    "## Transform"
   ]
  },
  {
   "cell_type": "code",
   "execution_count": null,
   "id": "62f436bf-d5cd-474b-91df-bc9b33b175be",
   "metadata": {},
   "outputs": [],
   "source": [
    "def format_chat_template(row):\n",
    "    row[\"chosen\"] = tokenizer.apply_chat_template(row[\"chosen\"], tokenize=False)\n",
    "    row[\"rejected\"] = tokenizer.apply_chat_template(row[\"rejected\"], tokenize=False)\n",
    "    return row\n",
    "\n",
    "dataset = dataset.map(\n",
    "    format_chat_template,\n",
    "    num_proc= os.cpu_count(),\n",
    ")"
   ]
  },
  {
   "cell_type": "markdown",
   "id": "7067094e-9dca-44fe-ba7b-f1e175df1108",
   "metadata": {},
   "source": [
    "## Split"
   ]
  },
  {
   "cell_type": "code",
   "execution_count": null,
   "id": "7119758f-a2de-4fa2-b1e6-bc50b6113fbe",
   "metadata": {},
   "outputs": [],
   "source": [
    "dataset = dataset.train_test_split(test_size=TEST_SIZE)"
   ]
  },
  {
   "cell_type": "markdown",
   "id": "6ba0509f-8576-48e4-b52d-d0a69e49282b",
   "metadata": {},
   "source": [
    "# Training"
   ]
  },
  {
   "cell_type": "markdown",
   "id": "32631d6f-fa93-42c8-bee1-30cb16a21da6",
   "metadata": {},
   "source": [
    "## Trainer"
   ]
  },
  {
   "cell_type": "code",
   "execution_count": null,
   "id": "e3a36611-7f26-43b3-af96-663f6b991c10",
   "metadata": {},
   "outputs": [],
   "source": [
    "trainer = Trainer(\n",
    "    model=model,\n",
    "    args=training_args,\n",
    "    train_dataset=dataset[\"train\"],\n",
    "    eval_dataset=dataset[\"test\"],\n",
    "    peft_config=peft_config,\n",
    "    tokenizer=tokenizer\n",
    ")"
   ]
  },
  {
   "cell_type": "markdown",
   "id": "f6392098-f7a2-4628-afa7-03e045593d93",
   "metadata": {},
   "source": [
    "## Train model"
   ]
  },
  {
   "cell_type": "code",
   "execution_count": null,
   "id": "e303e385-414c-4f13-bf91-1a8a1f89ed13",
   "metadata": {},
   "outputs": [],
   "source": [
    "trainer.train()\n",
    "trainer.save_model(new_model)"
   ]
  },
  {
   "cell_type": "markdown",
   "id": "198594c4-e0e3-4b77-b239-1e1479c82024",
   "metadata": {},
   "source": [
    "# Clean-up"
   ]
  },
  {
   "cell_type": "code",
   "execution_count": null,
   "id": "71e5ab88-0e74-40b8-90ca-841a39f1dec4",
   "metadata": {},
   "outputs": [],
   "source": [
    "del trainer, model\n",
    "gc.collect()\n",
    "torch.cuda.empty_cache()"
   ]
  },
  {
   "cell_type": "markdown",
   "id": "b616b72f-9e0f-4f5c-b6ca-9fcb7632eb33",
   "metadata": {},
   "source": [
    "# Inference"
   ]
  },
  {
   "cell_type": "code",
   "execution_count": null,
   "id": "846ff951-c86c-402d-90c3-38cfe6bc2d4e",
   "metadata": {},
   "outputs": [],
   "source": [
    "tokenizer = AutoTokenizer.from_pretrained(base_model)\n",
    "model = AutoModelForCausalLM.from_pretrained(\n",
    "    base_model,\n",
    "    low_cpu_mem_usage=True,\n",
    "    return_dict=True,\n",
    "    torch_dtype=torch.float16,\n",
    "    device_map=DEVICE,\n",
    ")\n",
    "model, tokenizer = setup_chat_format(model, tokenizer)"
   ]
  },
  {
   "cell_type": "markdown",
   "id": "ae4e02a9-09b4-4cc2-b2d3-f14a8a2824c4",
   "metadata": {},
   "source": [
    "# Merge foundation model with new model"
   ]
  },
  {
   "cell_type": "code",
   "execution_count": null,
   "id": "1e3914c8-e79a-4221-8122-7c6d9e66d9d1",
   "metadata": {},
   "outputs": [],
   "source": [
    "model = PeftModel.from_pretrained(model, new_model)\n",
    "model = model.merge_and_unload()"
   ]
  },
  {
   "cell_type": "markdown",
   "id": "66bfd669-ecfd-43a0-8a5d-d780123cb6f3",
   "metadata": {},
   "source": [
    "# Upload model to huggingface"
   ]
  },
  {
   "cell_type": "code",
   "execution_count": null,
   "id": "ad40ddc9-46d6-4d2b-84cd-23bfc7faf808",
   "metadata": {},
   "outputs": [],
   "source": [
    "# _ = model.push_to_hub(new_model, use_temp_dir=False, token=access_token)\n",
    "# _ = tokenizer.push_to_hub(new_model, use_temp_dir=False, token=access_token)"
   ]
  }
 ],
 "metadata": {
  "kernelspec": {
   "display_name": "Python 3 (ipykernel)",
   "language": "python",
   "name": "python3"
  },
  "language_info": {
   "codemirror_mode": {
    "name": "ipython",
    "version": 3
   },
   "file_extension": ".py",
   "mimetype": "text/x-python",
   "name": "python",
   "nbconvert_exporter": "python",
   "pygments_lexer": "ipython3",
   "version": "3.11.6"
  }
 },
 "nbformat": 4,
 "nbformat_minor": 5
}
