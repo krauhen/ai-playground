{
 "cells": [
  {
   "cell_type": "code",
   "execution_count": 49,
   "id": "49e679d1-e594-47f1-b4dc-b036384bd700",
   "metadata": {},
   "outputs": [
    {
     "name": "stdout",
     "output_type": "stream",
     "text": [
      "PARAMETERS=1.100.000.000\n",
      "TOKENS=3.000.000.000.000\n",
      "SECONDS_PER_BATCH=1\n",
      "SECONDS_PER_TOKEN=5e-07\n",
      "\n",
      "SECONDS=1.500.000.0\n",
      "MINUTES=25.000.0\n",
      "HOURS=416.0\n",
      "DAYS=17.0\n",
      "WEEKS=2.0\n",
      "\n",
      "16 A100\n",
      "MONTHS=0.5\n",
      "\n",
      "COST=560.0€\n",
      "\n",
      "1x RTX 3090\n",
      "MONTHS=24.0\n"
     ]
    }
   ],
   "source": [
    "# TinyLlama\n",
    "PARAMETERS = 1_100_000_000\n",
    "BATCH_SIZE = 2_000_000\n",
    "N_GPUS = 16\n",
    "TOKENS = 3_000_000_000_000\n",
    "\n",
    "print(f\"{PARAMETERS=:,}\".replace(\",\", \".\"))\n",
    "print(f\"{TOKENS=:,}\".replace(\",\", \".\"))\n",
    "SECONDS_PER_BATCH = 1\n",
    "print(f\"{SECONDS_PER_BATCH=}\")\n",
    "SECONDS_PER_TOKEN = SECONDS_PER_BATCH / BATCH_SIZE\n",
    "SECONDS = TOKENS * SECONDS_PER_TOKEN\n",
    "print(f\"{SECONDS_PER_TOKEN=}\\n\")\n",
    "print(f\"{SECONDS=:,}\".replace(\",\", \".\"))\n",
    "MINUTES = SECONDS // 60\n",
    "print(f\"{MINUTES=:,}\".replace(\",\", \".\"))\n",
    "HOURS = MINUTES // 60\n",
    "print(f\"{HOURS=:,}\".replace(\",\", \".\"))\n",
    "DAYS = HOURS // 24\n",
    "print(f\"{DAYS=}\")\n",
    "WEEKS = DAYS // 7\n",
    "print(f\"{WEEKS=}\\n\")\n",
    "MONTHS = WEEKS / 4\n",
    "\n",
    "print(f\"{N_GPUS} A100\")\n",
    "print(f\"{MONTHS=}\\n\")\n",
    "\n",
    "COST = ((MONTHS * 4 * 7 * 24) / 6) * 10\n",
    "print(f\"{COST=}€\\n\")\n",
    "\n",
    "MONTHS = ((WEEKS / 4) * N_GPUS) * 3\n",
    "print(\"1x RTX 3090\")\n",
    "print(f\"{MONTHS=}\")"
   ]
  },
  {
   "cell_type": "code",
   "execution_count": null,
   "id": "67921804-6721-4f39-8375-e1f52821f32d",
   "metadata": {},
   "outputs": [],
   "source": []
  }
 ],
 "metadata": {
  "kernelspec": {
   "display_name": "Python 3 (ipykernel)",
   "language": "python",
   "name": "python3"
  },
  "language_info": {
   "codemirror_mode": {
    "name": "ipython",
    "version": 3
   },
   "file_extension": ".py",
   "mimetype": "text/x-python",
   "name": "python",
   "nbconvert_exporter": "python",
   "pygments_lexer": "ipython3",
   "version": "3.11.6"
  }
 },
 "nbformat": 4,
 "nbformat_minor": 5
}
