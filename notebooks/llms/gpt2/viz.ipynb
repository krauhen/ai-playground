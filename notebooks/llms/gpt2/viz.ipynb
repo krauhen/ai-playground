{
 "cells": [
  {
   "cell_type": "code",
   "execution_count": null,
   "id": "424906f7-c4ec-4f2d-b487-d423d065f8e8",
   "metadata": {},
   "outputs": [],
   "source": [
    "import torch\n",
    "import sys\n",
    "\n",
    "import numpy as np\n",
    "import matplotlib.pyplot as plt"
   ]
  },
  {
   "cell_type": "code",
   "execution_count": null,
   "id": "7ab72702-6b6a-4e1d-99ca-ec5569c03ae1",
   "metadata": {},
   "outputs": [],
   "source": [
    "with torch.no_grad():\n",
    "    checkpoint = torch.load(f\"models/text_embedding-checkpoint-00000.pth\", map_location=\"cpu\")\n",
    "\n",
    "window = 512\n",
    "\n",
    "losses = np.asarray(checkpoint[\"losses\"])[1:, -1]\n",
    "ppls = np.asarray(checkpoint[\"ppls\"])[1:, -1]\n",
    "\n",
    "windowed_mean_losses = np.array([losses[i:i + window].mean() for i in range(len(losses))])\n",
    "windowed_mean_ppls = np.array([ppls[i:i + window].mean() for i in range(len(ppls))])\n",
    "\n",
    "fig, axes = plt.subplots(2, 1, figsize=(20, 10))\n",
    "\n",
    "axes[0].plot(losses)\n",
    "axes[0].plot(windowed_mean_losses, color=\"red\", linewidth=3)\n",
    "axes[0].set_title(\"loss\")\n",
    "axes[0].grid()\n",
    "\n",
    "ymin, ymax = axes[0].get_ylim()\n",
    "ymin = np.round(ymin, decimals=1)\n",
    "ymax = np.round(ymax, decimals=1)\n",
    "diff = int(ymax - ymin) * 10\n",
    "yticks = np.linspace(ymin, ymax, diff + 1)\n",
    "axes[0].set_yticks(yticks)\n",
    "axes[0].tick_params(labelleft=True, labelright=True)\n",
    "\n",
    "axes[1].plot(ppls)\n",
    "axes[1].plot(windowed_mean_ppls, color=\"red\", linewidth=3)\n",
    "axes[1].set_title(\"PPL\")\n",
    "axes[1].grid()\n",
    "\n",
    "ymin, ymax = axes[1].get_ylim()\n",
    "ymin = np.round(ymin, decimals=-2)\n",
    "ymax = np.round(ymax, decimals=-2)\n",
    "diff = int((ymax - ymin) / 100)\n",
    "yticks = np.linspace(ymin, ymax, diff + 1)\n",
    "axes[1].set_yticks(yticks)\n",
    "axes[1].tick_params(labelleft=True, labelright=True)\n",
    "\n",
    "plt.show()"
   ]
  },
  {
   "cell_type": "code",
   "execution_count": null,
   "id": "1108c212-d82b-4f89-9cbb-3fc47e524a11",
   "metadata": {},
   "outputs": [],
   "source": []
  }
 ],
 "metadata": {
  "kernelspec": {
   "display_name": "Python 3 (ipykernel)",
   "language": "python",
   "name": "python3"
  },
  "language_info": {
   "codemirror_mode": {
    "name": "ipython",
    "version": 3
   },
   "file_extension": ".py",
   "mimetype": "text/x-python",
   "name": "python",
   "nbconvert_exporter": "python",
   "pygments_lexer": "ipython3",
   "version": "3.11.6"
  }
 },
 "nbformat": 4,
 "nbformat_minor": 5
}
