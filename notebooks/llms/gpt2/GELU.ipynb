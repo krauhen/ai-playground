{
 "cells": [
  {
   "cell_type": "code",
   "execution_count": null,
   "id": "e9f5d16a-b07d-46b5-b3e3-5fa263f19d2b",
   "metadata": {},
   "outputs": [],
   "source": [
    "import math\n",
    "import torch\n",
    "\n",
    "import torch.nn as nn\n",
    "import matplotlib.pyplot as plt"
   ]
  },
  {
   "cell_type": "code",
   "execution_count": null,
   "id": "e1137741-7aa3-4a9c-b35b-a7acb041e692",
   "metadata": {},
   "outputs": [],
   "source": [
    "class GELU(nn.Module):\n",
    "    \"\"\"\n",
    "    Implementation of the GELU activation function currently in Google BERT repo (identical to OpenAI GPT). Also see\n",
    "    the Gaussian Error Linear Units paper: https://arxiv.org/abs/1606.08415\n",
    "    \"\"\"\n",
    "\n",
    "    def forward(self, input):\n",
    "        return 0.5 * input * (1.0 + torch.tanh(math.sqrt(2.0 / math.pi) * (input + 0.044715 * torch.pow(input, 3.0))))"
   ]
  },
  {
   "cell_type": "code",
   "execution_count": null,
   "id": "80975c83-f311-4650-b3ae-23bfbcd2349c",
   "metadata": {},
   "outputs": [],
   "source": [
    "gelu = GELU()\n",
    "relu = nn.ReLU()\n",
    "\n",
    "xs = torch.linspace(-3, 3, 1000)\n",
    "ys_gelu = gelu(xs)\n",
    "ys_relu = relu(xs)\n",
    "\n",
    "fig, axes = plt.subplots(1, 1, figsize=(20, 5))\n",
    "axes.plot(xs, ys_gelu)\n",
    "axes.plot(xs, ys_relu)\n",
    "plt.show()"
   ]
  },
  {
   "cell_type": "code",
   "execution_count": null,
   "id": "78fc0daa-38da-4d18-bb63-1a0a5a69ee1f",
   "metadata": {},
   "outputs": [],
   "source": []
  }
 ],
 "metadata": {
  "kernelspec": {
   "display_name": "Python 3 (ipykernel)",
   "language": "python",
   "name": "python3"
  },
  "language_info": {
   "codemirror_mode": {
    "name": "ipython",
    "version": 3
   },
   "file_extension": ".py",
   "mimetype": "text/x-python",
   "name": "python",
   "nbconvert_exporter": "python",
   "pygments_lexer": "ipython3",
   "version": "3.11.6"
  }
 },
 "nbformat": 4,
 "nbformat_minor": 5
}
