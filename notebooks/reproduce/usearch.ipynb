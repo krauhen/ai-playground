{
 "cells": [
  {
   "cell_type": "code",
   "execution_count": 29,
   "outputs": [],
   "source": [
    "import uuid\n",
    "import random\n",
    "\n",
    "import numpy as np\n",
    "\n",
    "from usearch.index import Index"
   ],
   "metadata": {
    "collapsed": false,
    "ExecuteTime": {
     "end_time": "2024-05-07T13:55:37.155135600Z",
     "start_time": "2024-05-07T13:55:37.144861400Z"
    }
   },
   "id": "851bbc095a2caac3"
  },
  {
   "cell_type": "code",
   "execution_count": 43,
   "outputs": [
    {
     "name": "stdout",
     "output_type": "stream",
     "text": [
      "Match(key=3829576988, distance=0.21961343) {'filename': 'b592c7ff-9265-4640-883a-7ef4cafaecb8.pdf', 'class': 3}\n",
      "Match(key=2866865466, distance=0.2230683) {'filename': '9989a3bf-54ad-457b-80d6-96210ddba835.pdf', 'class': 3}\n",
      "Match(key=2140315886, distance=0.22323501) {'filename': 'd0c27706-bb19-403b-9af6-1096d41b6de3.pdf', 'class': 8}\n",
      "Match(key=2305055265, distance=0.22603685) {'filename': '469daf2f-a8f6-4f41-93ae-eb4554afe573.pdf', 'class': 6}\n",
      "Match(key=2179111990, distance=0.22679573) {'filename': 'ee2eed48-0204-4a1c-9785-8edaefaf1657.pdf', 'class': 9}\n",
      "Match(key=343741188, distance=0.2280873) {'filename': '6111c37b-3fbd-45b2-a0f0-55d4cb8ca2ed.pdf', 'class': 8}\n",
      "Match(key=1101040059, distance=0.22849554) {'filename': '75d2423a-ec1b-42a6-a76d-222c99be453d.pdf', 'class': 2}\n",
      "Match(key=2831327734, distance=0.22865283) {'filename': '03c144bb-7385-4244-be2e-bf3890f96bc7.pdf', 'class': 1}\n",
      "Match(key=428341825, distance=0.22884238) {'filename': '88333f72-8f6b-444b-80d2-350d1f990917.pdf', 'class': 1}\n",
      "Match(key=2216059994, distance=0.22891706) {'filename': '775d9dc8-75dd-42e5-a015-e7149b7d3888.pdf', 'class': 4}\n"
     ]
    }
   ],
   "source": [
    "N = 1_000\n",
    "DIM = 1536\n",
    "FILENAME = \"index.search\"\n",
    "\n",
    "index = Index(\n",
    "    ndim=DIM,               # Define the number of dimensions in input vectors\n",
    "    metric='cos',           # Choose 'l2sq', 'haversine' or other metric, default = 'ip'\n",
    "    dtype='f32',            # Quantize to 'f16' or 'i8' if needed, default = 'f32'\n",
    "    connectivity=16,        # Optional: Limit number of neighbors per graph node\n",
    "    expansion_add=128,      # Optional: Control the recall of indexing\n",
    "    expansion_search=64,    # Optional: Control the quality of the search\n",
    "    multi=False,            # Optional: Allow multiple vectors per key, default = False\n",
    ")\n",
    "meta = dict()\n",
    "\n",
    "data = [{\"filename\": str(uuid.uuid4()) + \".pdf\", \"class\": np.random.randint(0, 10)} for _ in range(N)]\n",
    "vectors = np.random.uniform(size=(N, DIM))\n",
    "\n",
    "for element, vector in zip(data, vectors):\n",
    "    key = random.randrange(0, 2**32 - 1)\n",
    "    index.add(key, vector)\n",
    "    meta[key] = element\n",
    "\n",
    "n = 10\n",
    "query = np.random.uniform(size=(1, DIM))\n",
    "\n",
    "# Get matches\n",
    "matches = index.search(query, n)\n",
    "for match in matches:\n",
    "    key = match.key\n",
    "    meta_info = meta[key]\n",
    "    print(match, meta_info)\n",
    "\n",
    "# Save\n",
    "index.save(FILENAME)\n",
    "\n",
    "# Load\n",
    "index = Index.restore(FILENAME)"
   ],
   "metadata": {
    "collapsed": false,
    "ExecuteTime": {
     "end_time": "2024-05-07T13:59:15.569352200Z",
     "start_time": "2024-05-07T13:59:15.298873500Z"
    }
   },
   "id": "3ea29b90c44cd07b"
  },
  {
   "cell_type": "code",
   "execution_count": null,
   "outputs": [],
   "source": [],
   "metadata": {
    "collapsed": false
   },
   "id": "fb30ae4a40f68b90"
  }
 ],
 "metadata": {
  "kernelspec": {
   "display_name": "Python 3",
   "language": "python",
   "name": "python3"
  },
  "language_info": {
   "codemirror_mode": {
    "name": "ipython",
    "version": 2
   },
   "file_extension": ".py",
   "mimetype": "text/x-python",
   "name": "python",
   "nbconvert_exporter": "python",
   "pygments_lexer": "ipython2",
   "version": "2.7.6"
  }
 },
 "nbformat": 4,
 "nbformat_minor": 5
}
