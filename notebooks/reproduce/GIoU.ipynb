{
 "cells": [
  {
   "cell_type": "code",
   "execution_count": 11,
   "id": "52583955-4921-4de7-80a5-7c639a87cd8c",
   "metadata": {},
   "outputs": [],
   "source": [
    "import cv2\n",
    "import datasets\n",
    "import torch\n",
    "\n",
    "import torch.nn as nn\n",
    "import torch.nn.functional as F\n",
    "import numpy as np\n",
    "import matplotlib.pyplot as plt"
   ]
  },
  {
   "cell_type": "code",
   "execution_count": 12,
   "id": "d35ebc20-978a-4e70-bd50-ed93fdc689be",
   "metadata": {},
   "outputs": [
    {
     "name": "stderr",
     "output_type": "stream",
     "text": [
      "/home/henning/.local/lib/python3.11/site-packages/datasets/load.py:1461: FutureWarning: The repository for fuliucansheng/pascal_voc contains custom code which must be executed to correctly load the dataset. You can inspect the repository content at https://hf.co/datasets/fuliucansheng/pascal_voc\n",
      "You can avoid this message in future by passing the argument `trust_remote_code=True`.\n",
      "Passing `trust_remote_code=True` will be mandatory to load this dataset from the next major release of `datasets`.\n",
      "  warnings.warn(\n"
     ]
    }
   ],
   "source": [
    "dataset = datasets.load_dataset(\"fuliucansheng/pascal_voc\", \"voc2007_main\", split=\"train\")\n",
    "dataset = np.asarray(dataset)"
   ]
  },
  {
   "cell_type": "code",
   "execution_count": 30,
   "id": "6accf2c4-67d9-4149-a6ea-3b70f83ea5e2",
   "metadata": {},
   "outputs": [],
   "source": [
    "def calc_IoU(A, B):\n",
    "    def get_area(bbox):\n",
    "        xl, yl, xu, yu = bbox\n",
    "        return (xu - xl) * (yu - yl)\n",
    "        \n",
    "    xl_A, yl_A, xu_A, yu_A = A\n",
    "    xl_B, yl_B, xu_B, yu_B = B\n",
    "\n",
    "    #\n",
    "    xl_A_hat = min(xl_A, xu_A)\n",
    "    yl_A_hat = min(yl_A, yu_A)\n",
    "    xu_A_hat = max(xu_A, xu_B)\n",
    "    yu_A_hat = max(yu_A, yu_B)\n",
    "\n",
    "    # Calculate area\n",
    "    area_A = get_area(A)\n",
    "    area_B = get_area(B)\n",
    "\n",
    "    # Calculate intersection\n",
    "    xli = max(xl_A_hat, xl_B)\n",
    "    yli = max(yl_A_hat, yl_B)\n",
    "    xui = min(xu_A_hat, xu_B)\n",
    "    yui = min(yu_A_hat, yu_B)\n",
    "\n",
    "    if xui > xli and yui > yli:\n",
    "        intersection = (xui - xli) * (yui * yli)\n",
    "    else:\n",
    "        intersection = 0\n",
    "\n",
    "    # Finding smallest enclosing bbox\n",
    "    xl_C = min(xl_A_hat, xl_B)\n",
    "    yl_C = min(yl_A_hat, yl_B)\n",
    "    xu_C = max(xu_A_hat, xu_B)\n",
    "    yu_C = max(yu_A_hat, yu_B)\n",
    "    C = xl_C, yl_C, xu_C, yu_C\n",
    "\n",
    "    area_C = get_area(C)\n",
    "\n",
    "    union = area_A + area_B - intersection\n",
    "    iou = intersection / union\n",
    "    giou = iou - ((area_C - union) / area_C)\n",
    "\n",
    "    return iou, giou"
   ]
  },
  {
   "cell_type": "code",
   "execution_count": 31,
   "id": "10e8e736-d5a7-430e-b461-c692d71d1f4d",
   "metadata": {},
   "outputs": [],
   "source": [
    "def show():\n",
    "    for idx in range(100):\n",
    "        element = dataset[idx]\n",
    "        \n",
    "        objects = element[\"objects\"]\n",
    "        bboxes = objects[\"bboxes\"]\n",
    "        bboxes_classes = objects[\"classes\"]\n",
    "    \n",
    "        if len(bboxes_classes) < 2:\n",
    "            continue\n",
    "    \n",
    "        img = element[\"image\"]\n",
    "        img = np.asarray(img, dtype=np.uint8)\n",
    "\n",
    "        for xl, yl, xu, yu in bboxes:\n",
    "            xl = int(xl)\n",
    "            yl = int(yl)\n",
    "            xu = int(xu)\n",
    "            yu = int(yu)\n",
    "            img = cv2.rectangle(img.copy(), (xl, yl), (xu, yu), (255, 0, 0), 1)\n",
    "            \n",
    "        coords = np.asarray(bboxes, dtype=int)\n",
    "    \n",
    "        fig, axes = plt.subplots(1, 1, figsize=(10, 10))\n",
    "        axes.imshow(img)\n",
    "        plt.show()\n",
    "    \n",
    "        break"
   ]
  },
  {
   "cell_type": "code",
   "execution_count": 35,
   "id": "32f9de6a-64f9-49dc-acbc-e26ad9878947",
   "metadata": {},
   "outputs": [
    {
     "name": "stdout",
     "output_type": "stream",
     "text": [
      "iou=tensor(-1.0583, grad_fn=<DivBackward0>), L_iou=tensor(2.0583, grad_fn=<RsubBackward1>)\n",
      "giou=tensor(-20.9522, grad_fn=<SubBackward0>), L_giou=tensor(21.9522, grad_fn=<RsubBackward1>)\n"
     ]
    }
   ],
   "source": [
    "ANCHOR = torch.tensor([-32, -32, 32, 32])\n",
    "POS = torch.tensor([32, 32])\n",
    "PRED = torch.randn(4, requires_grad=True)\n",
    "GT = torch.tensor([0, 20, 100, 200])\n",
    "\n",
    "ANCHOR[0] += POS[0]\n",
    "ANCHOR[1] += POS[1]\n",
    "ANCHOR[2] += POS[0]\n",
    "ANCHOR[3] += POS[1]\n",
    "\n",
    "PRED = ANCHOR + PRED\n",
    "\n",
    "iou, giou = calc_IoU(PRED, GT)\n",
    "\n",
    "L_iou = 1 - iou\n",
    "L_giou = 1 - giou\n",
    "\n",
    "print(f\"{iou=}, {L_iou=}\")\n",
    "print(f\"{giou=}, {L_giou=}\")"
   ]
  }
 ],
 "metadata": {
  "kernelspec": {
   "display_name": "Python 3 (ipykernel)",
   "language": "python",
   "name": "python3"
  },
  "language_info": {
   "codemirror_mode": {
    "name": "ipython",
    "version": 3
   },
   "file_extension": ".py",
   "mimetype": "text/x-python",
   "name": "python",
   "nbconvert_exporter": "python",
   "pygments_lexer": "ipython3",
   "version": "3.11.6"
  }
 },
 "nbformat": 4,
 "nbformat_minor": 5
}
