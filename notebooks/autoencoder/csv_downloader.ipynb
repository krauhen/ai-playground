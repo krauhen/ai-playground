{
 "cells": [
  {
   "cell_type": "code",
   "execution_count": 2,
   "id": "c2e08897-a1ec-4dc3-94a0-cc20e63aa22a",
   "metadata": {},
   "outputs": [],
   "source": [
    "import aria2p\n",
    "import csv\n",
    "import cv2\n",
    "import glob\n",
    "import hashlib\n",
    "import uuid\n",
    "import time\n",
    "import os\n",
    "\n",
    "from PIL import Image"
   ]
  },
  {
   "cell_type": "code",
   "execution_count": 3,
   "id": "b11af00d-4c2a-4637-9bff-f0eb467dc2f1",
   "metadata": {},
   "outputs": [],
   "source": [
    "aria2 = aria2p.API(\n",
    "    aria2p.Client(\n",
    "        host=\"http://localhost\",\n",
    "        port=6800,\n",
    "        secret=\"\"\n",
    "    )\n",
    ")"
   ]
  },
  {
   "cell_type": "markdown",
   "id": "dada76bf-b366-4951-af69-4bc8d630018c",
   "metadata": {},
   "source": [
    "## aria2c"
   ]
  },
  {
   "cell_type": "markdown",
   "id": "31c1040f-8cd8-44b5-8d0e-bcdd81aa558f",
   "metadata": {},
   "source": [
    "``aria2c --enable-rpc --connect-timeout=5 --max-connection-per-server=16 --timeout=5 --max-concurrent-downloads=1024``"
   ]
  },
  {
   "cell_type": "code",
   "execution_count": 4,
   "id": "71b97147-a9db-430e-8c56-b6b5287efc6b",
   "metadata": {
    "editable": true,
    "scrolled": true,
    "slideshow": {
     "slide_type": ""
    },
    "tags": []
   },
   "outputs": [
    {
     "name": "stdout",
     "output_type": "stream",
     "text": [
      "1|71, data/csv/data_00010_00e6005a-4967-469a-a836-a6e1a23519ea.csv\n",
      "/assets/cat-ads.png\n",
      "2|71, data/csv/data_00038_c22e9402-0275-4e1b-94e9-b1ccd7cc5ffd.csv\n",
      "/assets/cat-ads.png\n",
      "/assets/cat-browser.png\n",
      "3|71, data/csv/data_00024_149ff635-9cf6-4907-9d7e-28f7ef888888.csv\n",
      "/assets/cat-ads.png\n",
      "/assets/cat-browser.png\n",
      "4|71, data/csv/data_00015_6c8174a7-a7e0-46a6-9fb3-8f62567acce5.csv\n",
      "/assets/cat-ads.png\n",
      "/assets/cat-browser.png\n",
      "5|71, data/csv/data_00029_02ee8d8d-4cff-44f5-9105-b2ea17203fc2.csv\n",
      "/assets/cat-ads.png\n",
      "6|71, data/csv/data_00004_3f3b567a-7f49-482c-9e58-bf9e54ee4530.csv\n",
      "/assets/cat-ads.png\n",
      "/assets/cat-browser.png\n",
      "7|71, data/csv/data_00021_61f52f56-39f9-437b-841d-d1caacf4cbfa.csv\n",
      "/assets/cat-ads.png\n",
      "/assets/cat-browser.png\n",
      "2 likeus ['animals', 'none'] No URI to download.\n",
      "8|71, data/csv/data_00005_e9aaac08-6e11-49db-8897-27e2c5db644d.csv\n",
      "/assets/cat-ads.png\n",
      "/assets/cat-browser.png\n",
      "9|71, data/csv/data_00025_c93d7054-42ad-4fe9-b1be-b511cbf41005.csv\n",
      "/assets/cat-ads.png\n",
      "/assets/cat-browser.png\n",
      "10|71, data/csv/data_00031_285b1bfa-410a-4ffc-b193-021e2ec77a69.csv\n",
      "/assets/cat-ads.png\n",
      "/assets/cat-browser.png\n",
      "11|71, data/csv/data_00031_7e2f2401-d2f4-40db-ac12-3ba90f7854fd.csv\n",
      "/assets/cat-ads.png\n",
      "/assets/cat-browser.png\n",
      "12|71, data/csv/data_00022_9764c7da-52a3-438d-8a14-795c49454fab.csv\n",
      "/assets/cat-ads.png\n",
      "/assets/cat-browser.png\n",
      "13|71, data/csv/data_00012_58a1432e-eec4-43d7-8867-83bf88318d54.csv\n",
      "/assets/cat-ads.png\n",
      "/assets/cat-browser.png\n",
      "14|71, data/csv/data_00003_d38d182b-df87-4dc4-8383-d9797f348c07.csv\n",
      "/assets/cat-ads.png\n",
      "/assets/cat-browser.png\n",
      "15|71, data/csv/data_00022_fd1a36f1-6e36-49aa-abed-6b6a2e7c15bf.csv\n",
      "/assets/cat-ads.png\n",
      "16|71, data/csv/data_00010_da8c11a3-3d7f-4b01-8610-0c3452ea6c04.csv\n",
      "/assets/cat-ads.png\n",
      "/assets/cat-browser.png\n",
      "17|71, data/csv/data_00025_0e95a97c-6435-439d-8b8e-6905ae435e95.csv\n",
      "/assets/cat-ads.png\n",
      "18|71, data/csv/data_00027_aa4ff445-2eab-4b8d-af28-cf1ca21f85db.csv\n",
      "/assets/cat-ads.png\n",
      "/assets/cat-browser.png\n",
      "19|71, data/csv/data_00004_f853e9fc-1899-486e-97b8-d1f57d9d273e.csv\n",
      "/assets/cat-ads.png\n",
      "20|71, data/csv/data_00011_9602a87b-3f2d-4398-aa1d-ff258e6cb711.csv\n",
      "/assets/cat-ads.png\n",
      "/assets/cat-browser.png\n",
      "21|71, data/csv/data_00033_7e6f34a8-3fde-4494-89e0-198d687913c8.csv\n",
      "/assets/cat-ads.png\n",
      "/assets/cat-browser.png\n",
      "22|71, data/csv/data_00020_c8d6030b-f939-4b02-947c-ae3969442ac1.csv\n",
      "/assets/cat-ads.png\n",
      "/assets/cat-browser.png\n",
      "23|71, data/csv/data_00006_959f9ff6-9bf3-48b3-98ce-dabf748d5cd3.csv\n",
      "/assets/cat-ads.png\n",
      "/assets/cat-browser.png\n",
      "24|71, data/csv/data_00014_c70f89ea-fd13-4218-999f-f1d30035dc75.csv\n",
      "/assets/cat-ads.png\n",
      "/assets/cat-browser.png\n",
      "25|71, data/csv/data_00034_5ff3a290-ce3b-44dc-8ba0-aa009cbe77a7.csv\n",
      "/assets/cat-ads.png\n",
      "26|71, data/csv/data_00030_c83ee1f9-410d-43a6-aae3-ef004493a886.csv\n",
      "/assets/cat-ads.png\n",
      "/assets/cat-browser.png\n",
      "27|71, data/csv/data_00006_0c724cc2-9e99-43d3-8268-71c019e66ea7.csv\n",
      "/assets/cat-ads.png\n",
      "28|71, data/csv/data_00035_c779fac7-c08a-4018-a76b-103c3f5e3d0b.csv\n",
      "/assets/cat-ads.png\n",
      "29|71, data/csv/data_00011_f3763c48-9242-4895-b79a-c7d5355e6222.csv\n",
      "/assets/cat-ads.png\n",
      "30|71, data/csv/data_00021_62cd884c-83eb-42e3-880c-93940d15dc2d.csv\n",
      "/assets/cat-ads.png\n",
      "31|71, data/csv/data_00033_f2e9a104-1108-40d7-a024-70768f6c34d2.csv\n",
      "/assets/cat-ads.png\n",
      "32|71, data/csv/data_00026_d41882b1-4670-4ab5-8b1e-571e07e498c7.csv\n",
      "/assets/cat-ads.png\n",
      "33|71, data/csv/data_00026_5c7b7fc6-8e76-4872-826d-ed6256dc1c4d.csv\n",
      "/assets/cat-browser.png\n",
      "34|71, data/csv/data_00009_efb94ecc-2ffa-475d-bf65-0f7936d7b81c.csv\n",
      "/assets/cat-ads.png\n",
      "35|71, data/csv/data_00024_f62e0475-c1fc-4958-91ad-36730ad7fb61.csv\n",
      "/assets/cat-ads.png\n",
      "/assets/cat-browser.png\n",
      "36|71, data/csv/data_00017_b234153e-dbdf-4eec-ad2e-904534fd297e.csv\n",
      "/assets/cat-ads.png\n",
      "/assets/cat-browser.png\n",
      "37|71, data/csv/data_00032_cbd5defb-147c-4b0c-837e-9b235b7dd4e8.csv\n",
      "/assets/cat-ads.png\n",
      "/assets/cat-browser.png\n",
      "38|71, data/csv/data_00009_00df3077-1936-485d-bc3a-fd51395c767b.csv\n",
      "/assets/cat-ads.png\n",
      "/assets/cat-browser.png\n",
      "39|71, data/csv/data_00015_c356e06d-3b43-48d9-b5bb-2f0069aa4b02.csv\n",
      "/assets/cat-browser.png\n",
      "40|71, data/csv/data_00020_f0a1a539-f8c4-4a07-a577-7c2cdafd52fe.csv\n",
      "/assets/cat-ads.png\n",
      "41|71, data/csv/data_00007_bd988d41-4e25-425e-8ede-0d05efbffcf9.csv\n",
      "/assets/cat-ads.png\n",
      "/assets/cat-browser.png\n",
      "42|71, data/csv/data_00028_87cbfa34-fe6b-4d7d-8cdc-af1266cd6272.csv\n",
      "/assets/cat-ads.png\n",
      "43|71, data/csv/data_00027_ff9ed175-bd3d-4554-afa6-a5cdea3006b9.csv\n",
      "/assets/cat-ads.png\n",
      "44|71, data/csv/data_00023_6d5b2a2b-f960-432c-92b1-94a4bfd7b4c1.csv\n",
      "/assets/cat-ads.png\n",
      "/assets/cat-browser.png\n",
      "45|71, data/csv/data_00003_ad820550-b474-445d-87d5-3099f373e55f.csv\n",
      "/assets/cat-ads.png\n",
      "46|71, data/csv/data_00018_f319606a-d453-49e0-bb88-030040f689d0.csv\n",
      "/assets/cat-ads.png\n",
      "/assets/cat-browser.png\n",
      "47|71, data/csv/data_00016_be9e7bdb-df24-4529-86df-e4c7dd39d919.csv\n",
      "/assets/cat-ads.png\n",
      "48|71, data/csv/data_00001_060de789-62e8-4ec1-8b04-c7535c49ab27.csv\n",
      "/assets/cat-ads.png\n",
      "49|71, data/csv/data_00013_841d5a20-b073-4160-a5d9-33a4df2e978c.csv\n",
      "/assets/cat-ads.png\n",
      "50|71, data/csv/data_00008_f386f85e-3892-4d84-aa6b-98eccdd2f441.csv\n",
      "/assets/cat-ads.png\n",
      "51|71, data/csv/data_00002_074fe8a4-d160-40ae-a4b5-ac6db0603841.csv\n",
      "/assets/cat-ads.png\n",
      "/assets/cat-browser.png\n",
      "52|71, data/csv/data_00018_a2a224f4-8b0b-49a7-b689-38dc3c3ee6a5.csv\n",
      "/assets/cat-ads.png\n",
      "53|71, data/csv/data_00030_d967e612-27be-4b62-aa43-89f4c56358cc.csv\n",
      "/assets/cat-ads.png\n",
      "/assets/cat-browser.png\n",
      "54|71, data/csv/data_00012_7dfa2a18-0d17-4518-bc4c-0e29a4fe4aad.csv\n",
      "/assets/cat-ads.png\n",
      "55|71, data/csv/data_00014_14b99732-ee5a-48b6-8fc1-3ebd1590ab35.csv\n",
      "/assets/cat-ads.png\n",
      "56|71, data/csv/data_00019_e9239939-3d03-42e8-874d-0ece36ec2402.csv\n",
      "/assets/cat-ads.png\n",
      "/assets/cat-browser.png\n",
      "57|71, data/csv/data_00007_ba54282f-cdd4-4ec2-b993-d01eb3011fbe.csv\n",
      "/assets/cat-ads.png\n",
      "/assets/cat-browser.png\n",
      "58|71, data/csv/data_00019_03e1e9ce-4ee6-4701-9376-448e4d50016a.csv\n",
      "/assets/cat-ads.png\n",
      "59|71, data/csv/data_00017_79e6c6dd-56d1-49d7-aaba-bb3f2afb4aff.csv\n",
      "/assets/cat-ads.png\n",
      "/assets/cat-browser.png\n",
      "60|71, data/csv/data_00016_6776afec-f778-4355-a348-8e61c4b8cca9.csv\n",
      "/assets/cat-ads.png\n",
      "/assets/cat-browser.png\n",
      "61|71, data/csv/data_00013_2c974397-398b-49bf-99a8-82f9d86c8dea.csv\n",
      "/assets/cat-ads.png\n",
      "62|71, data/csv/data_00032_6664e6b3-b0e8-407c-8ce4-f88eeccf2d13.csv\n",
      "/assets/cat-ads.png\n",
      "63|71, data/csv/data_00028_d7bbbe7d-5185-4d73-acd7-273c0f75fa9a.csv\n",
      "/assets/cat-ads.png\n",
      "/assets/cat-browser.png\n",
      "2 singapore ['none'] No URI to download.\n",
      "64|71, data/csv/data_00036_161c6e1e-b6b9-4c2a-baf9-dfeff0b1bd1d.csv\n",
      "/assets/cat-ads.png\n",
      "/assets/cat-browser.png\n",
      "65|71, data/csv/data_00023_998dc359-1495-4566-9fde-e5a56e5658f6.csv\n",
      "/assets/cat-ads.png\n",
      "/assets/cat-browser.png\n",
      "66|71, data/csv/data_00002_16b27ade-c6f1-4878-84e9-0080a9cf4ca4.csv\n",
      "/assets/cat-ads.png\n",
      "/assets/cat-browser.png\n",
      "67|71, data/csv/data_00008_4aded478-4169-42f6-acae-c92dc2474720.csv\n",
      "/assets/cat-ads.png\n",
      "/assets/cat-browser.png\n",
      "68|71, data/csv/data_00005_084e0fe0-7c77-4370-823b-8c9f5cce05ad.csv\n",
      "/assets/cat-ads.png\n",
      "69|71, data/csv/data_00037_3c9ed3b0-c96e-447f-86d5-249ea9d64d22.csv\n",
      "/assets/cat-ads.png\n",
      "/assets/cat-browser.png\n",
      "70|71, data/csv/data_01006_6cff23bf-c669-4775-9123-efbd27c62aa9.csv\n",
      "/assets/cat-ads.png\n",
      "/assets/cat-browser.png\n",
      "71|71, data/csv/data_00029_79e9abe8-10dd-4f24-ada2-8248f8c687a3.csv\n",
      "/assets/cat-ads.png\n",
      "/assets/cat-browser.png\n"
     ]
    }
   ],
   "source": [
    "DOWN_PER_SEC = 64\n",
    "SLEEP = 1 / DOWN_PER_SEC\n",
    "\n",
    "delimiter = \";\"\n",
    "\n",
    "filenames = glob.glob(\"data/csv/*.csv\")\n",
    "\n",
    "skip_urls = []\n",
    "skip_urls.append(\"/assets/cat-ads.png\")\n",
    "skip_urls.append(\"/assets/cat-browser.png\")\n",
    "\n",
    "N = len(filenames)\n",
    "for i in range(0, N):\n",
    "    filename = filenames[i]\n",
    "    with open(filename, newline='') as csvfile:\n",
    "        reader = csv.reader(csvfile, delimiter=delimiter, quotechar='|')\n",
    "        print(f\"{i + 1}|{len(filenames)}, {filename}\")\n",
    "        header = next(reader)\n",
    "        for i, (url, label, subcategory, categories) in enumerate(reader):\n",
    "            try:\n",
    "                if url in skip_urls:\n",
    "                    print(url)\n",
    "                    continue\n",
    "    \n",
    "                file_id = url + subcategory + categories\n",
    "                file_id = str(int(hashlib.sha1(file_id.encode(\"utf-8\")).hexdigest(), 16) % (10 ** 8))\n",
    "                file_id = file_id + \"_\" + str(uuid.uuid4())\n",
    "                save_path = f\"data/scrolller/img/{file_id}.jpg\"\n",
    "                download = aria2.add(url, {\"out\": save_path})\n",
    "                time.sleep(SLEEP)\n",
    "            except Exception as e:\n",
    "                print(i, subcategory, categories, e)"
   ]
  },
  {
   "cell_type": "code",
   "execution_count": 5,
   "id": "18c5ca85-b2cf-48e2-baf2-522c8a7a367c",
   "metadata": {
    "editable": true,
    "scrolled": true,
    "slideshow": {
     "slide_type": ""
    },
    "tags": []
   },
   "outputs": [
    {
     "name": "stdout",
     "output_type": "stream",
     "text": [
      "0 939229 /home/henning/tmp/experiments/ai/stable_diffusion/data/scrolller/img/10000169_3e368c4e-8bc8-4497-99e5-f867f498a68f.jpg\n",
      "1000 939229 /home/henning/tmp/experiments/ai/stable_diffusion/data/scrolller/img/10092339_fd8252a9-d3f4-40fd-873e-7a1c18131743.jpg\n"
     ]
    },
    {
     "name": "stderr",
     "output_type": "stream",
     "text": [
      "/home/henning/tmp/experiments/ai/stable_diffusion/venv/lib/python3.11/site-packages/PIL/Image.py:981: UserWarning: Palette images with Transparency expressed in bytes should be converted to RGBA images\n",
      "  warnings.warn(\n"
     ]
    },
    {
     "name": "stdout",
     "output_type": "stream",
     "text": [
      "2000 939229 /home/henning/tmp/experiments/ai/stable_diffusion/data/scrolller/img/10187775_f9071505-ab0c-4d87-be04-f96088ca66ac.jpg\n",
      "3000 939229 /home/henning/tmp/experiments/ai/stable_diffusion/data/scrolller/img/10284239_538fcfa2-cda2-4df6-bd6f-7b167de0a308.jpg\n",
      "4000 939229 /home/henning/tmp/experiments/ai/stable_diffusion/data/scrolller/img/10386898_2cfaa029-03b1-407d-ba04-18f18429280c.jpg\n"
     ]
    },
    {
     "name": "stderr",
     "output_type": "stream",
     "text": [
      "libpng warning: bKGD: invalid\n",
      "libpng warning: bKGD: invalid\n"
     ]
    },
    {
     "name": "stdout",
     "output_type": "stream",
     "text": [
      "5000 939229 /home/henning/tmp/experiments/ai/stable_diffusion/data/scrolller/img/10485782_d468819c-9815-4dd3-8e79-61c36f832c09.jpg\n",
      "6000 939229 /home/henning/tmp/experiments/ai/stable_diffusion/data/scrolller/img/10587729_37f28482-16e9-4fca-be28-b0121a428d86.jpg\n",
      "7000 939229 /home/henning/tmp/experiments/ai/stable_diffusion/data/scrolller/img/10687508_903ce45b-5d5c-4a0a-a58c-a29739e22ba7.jpg\n",
      "8000 939229 /home/henning/tmp/experiments/ai/stable_diffusion/data/scrolller/img/10788771_50acffb8-7169-46d5-8eb3-a8dd9cfc2af6.jpg\n"
     ]
    },
    {
     "name": "stderr",
     "output_type": "stream",
     "text": [
      "libpng warning: iCCP: known incorrect sRGB profile\n"
     ]
    },
    {
     "name": "stdout",
     "output_type": "stream",
     "text": [
      "9000 939229 /home/henning/tmp/experiments/ai/stable_diffusion/data/scrolller/img/10889312_d6f3c26c-6400-470d-a716-0cdc302376d1.jpg\n",
      "10000 939229 /home/henning/tmp/experiments/ai/stable_diffusion/data/scrolller/img/10991001_a2b90bb7-b2ed-4fd5-99f2-94fa6d9f0fa5.jpg\n",
      "11000 939229 /home/henning/tmp/experiments/ai/stable_diffusion/data/scrolller/img/11086609_850de36a-47a6-49d4-8b14-ce7ce5d3635e.jpg\n",
      "11734 939229 /home/henning/tmp/experiments/ai/stable_diffusion/data/scrolller/img/11151850_a234cc27-1101-430d-a6bb-a46f7f0d24cb.jpg REMOVE: None\n",
      "12000 939229 /home/henning/tmp/experiments/ai/stable_diffusion/data/scrolller/img/11176730_5736d539-9bac-47c5-8541-ce5827fd7474.jpg\n",
      "13000 939229 /home/henning/tmp/experiments/ai/stable_diffusion/data/scrolller/img/11267869_22160c7d-8d9d-4620-a6a1-4e76dd334bba.jpg\n",
      "14000 939229 /home/henning/tmp/experiments/ai/stable_diffusion/data/scrolller/img/11365939_523d1403-a9aa-463c-b94a-691d3236bfb2.jpg\n",
      "14433 939229 /home/henning/tmp/experiments/ai/stable_diffusion/data/scrolller/img/11407297_64838e84-5a33-4f05-8de0-11496100b50a.jpg REMOVE: None\n",
      "15000 939229 /home/henning/tmp/experiments/ai/stable_diffusion/data/scrolller/img/11469195_b5f97679-b5c6-45e1-a2ff-99e56f4549d7.jpg\n",
      "16000 939229 /home/henning/tmp/experiments/ai/stable_diffusion/data/scrolller/img/11564689_f1e5a296-959a-4dba-bbe5-9e89a383d910.jpg\n"
     ]
    },
    {
     "name": "stderr",
     "output_type": "stream",
     "text": [
      "libpng warning: iCCP: profile 'ICC Profile': 0h: PCS illuminant is not D50\n"
     ]
    },
    {
     "name": "stdout",
     "output_type": "stream",
     "text": [
      "17000 939229 /home/henning/tmp/experiments/ai/stable_diffusion/data/scrolller/img/11658481_6d75f4fd-d18c-4097-be2a-8d83462f2837.jpg\n",
      "18000 939229 /home/henning/tmp/experiments/ai/stable_diffusion/data/scrolller/img/1175798_754c03fa-582b-4885-8320-c1fddfe4de57.jpg\n",
      "18292 939229 /home/henning/tmp/experiments/ai/stable_diffusion/data/scrolller/img/11785403_059f00b5-eaa5-4e66-aa43-18616df68a81.jpg REMOVE: None\n",
      "19000 939229 /home/henning/tmp/experiments/ai/stable_diffusion/data/scrolller/img/11851467_438e2c88-1416-4815-b80d-46ed54d283a3.jpg\n",
      "19348 939229 /home/henning/tmp/experiments/ai/stable_diffusion/data/scrolller/img/11883776_01e39cf7-8b6a-4cdd-8bbc-d2d3ca7b2b40.jpg REMOVE: None\n",
      "20000 939229 /home/henning/tmp/experiments/ai/stable_diffusion/data/scrolller/img/11945789_bf49929d-a1bd-4e88-89ea-126384f7ed74.jpg\n",
      "21000 939229 /home/henning/tmp/experiments/ai/stable_diffusion/data/scrolller/img/12039673_7e3df153-dd7d-4194-b351-d4b607a03fa2.jpg\n",
      "22000 939229 /home/henning/tmp/experiments/ai/stable_diffusion/data/scrolller/img/12134454_0d3a1894-f58a-4af9-82d2-21c9ae66b628.jpg\n",
      "22212 939229 /home/henning/tmp/experiments/ai/stable_diffusion/data/scrolller/img/12153061_85c62bf1-a894-474e-bf4a-0426f33544f0.jpg REMOVE: None\n",
      "23000 939229 /home/henning/tmp/experiments/ai/stable_diffusion/data/scrolller/img/12230048_fbf01d5e-6dc9-4c5d-9355-bc9a66c1fd37.jpg\n",
      "24000 939229 /home/henning/tmp/experiments/ai/stable_diffusion/data/scrolller/img/1233203_ff7133f5-fb18-4771-b8f6-ee41cce11f40.jpg\n",
      "25000 939229 /home/henning/tmp/experiments/ai/stable_diffusion/data/scrolller/img/12433550_c36115b9-83b8-4a6c-aa92-581b72aa4d9c.jpg\n",
      "26000 939229 /home/henning/tmp/experiments/ai/stable_diffusion/data/scrolller/img/12535080_e2abc4e5-ee11-47bd-b1c2-38e66a97b8ef.jpg\n",
      "27000 939229 /home/henning/tmp/experiments/ai/stable_diffusion/data/scrolller/img/1263141_aed56d0e-8a14-4201-b8b5-8c6acc30db4a.jpg\n",
      "27898 939229 /home/henning/tmp/experiments/ai/stable_diffusion/data/scrolller/img/1272145_239c1b61-7fbf-4f53-a7b3-6f4599f3c2e1.jpg REMOVE: None\n",
      "28000 939229 /home/henning/tmp/experiments/ai/stable_diffusion/data/scrolller/img/12733005_aedb5f2c-b157-4aa7-b590-f0aecfbc179c.jpg\n",
      "29000 939229 /home/henning/tmp/experiments/ai/stable_diffusion/data/scrolller/img/12828691_339f939c-530d-4dc9-ba17-01554a1aff14.jpg\n",
      "30000 939229 /home/henning/tmp/experiments/ai/stable_diffusion/data/scrolller/img/12923056_a14563c6-53fd-47a9-8fbb-2c718ca0109b.jpg\n",
      "31000 939229 /home/henning/tmp/experiments/ai/stable_diffusion/data/scrolller/img/13018897_22fd0dec-dbd7-45cb-9f0c-185a62537366.jpg\n",
      "32000 939229 /home/henning/tmp/experiments/ai/stable_diffusion/data/scrolller/img/13110306_abe89948-7227-45b7-9b84-a1f377825d68.jpg\n",
      "32468 939229 /home/henning/tmp/experiments/ai/stable_diffusion/data/scrolller/img/13154541_63a51ceb-20ad-4a06-b367-f2a7e5a00557.jpg REMOVE: None\n",
      "33000 939229 /home/henning/tmp/experiments/ai/stable_diffusion/data/scrolller/img/13200658_c67435c4-c8cc-4d43-b61e-cb349cefd19b.jpg\n",
      "34000 939229 /home/henning/tmp/experiments/ai/stable_diffusion/data/scrolller/img/13293618_c1014681-551e-40c1-929f-65c2ab9be46e.jpg\n",
      "35000 939229 /home/henning/tmp/experiments/ai/stable_diffusion/data/scrolller/img/13388036_ecc5290d-4441-42db-9de7-99e4bd2ff2f5.jpg\n",
      "36000 939229 /home/henning/tmp/experiments/ai/stable_diffusion/data/scrolller/img/13489713_d5a91ed6-d1ba-4926-85ad-6be9004d085f.jpg\n",
      "37000 939229 /home/henning/tmp/experiments/ai/stable_diffusion/data/scrolller/img/1359830_cc75efb1-f092-4c4d-aa35-9cbac2863b91.jpg\n",
      "38000 939229 /home/henning/tmp/experiments/ai/stable_diffusion/data/scrolller/img/13690723_714d566c-3cca-4822-bc64-df175470435b.jpg\n",
      "38506 939229 /home/henning/tmp/experiments/ai/stable_diffusion/data/scrolller/img/13742104_b18b5f9b-622f-473b-a923-bd4d68e08ea6.jpg REMOVE: None\n",
      "38620 939229 /home/henning/tmp/experiments/ai/stable_diffusion/data/scrolller/img/13755210_cb1ee373-bc9b-4fab-924c-30eb71ff4142.jpg REMOVE: None\n",
      "39000 939229 /home/henning/tmp/experiments/ai/stable_diffusion/data/scrolller/img/13794425_bfcb95c8-d1b0-4aea-9886-b67de38101b7.jpg\n",
      "40000 939229 /home/henning/tmp/experiments/ai/stable_diffusion/data/scrolller/img/13884317_a6351197-8ca2-4cae-9774-6733bfa2471a.jpg\n",
      "41000 939229 /home/henning/tmp/experiments/ai/stable_diffusion/data/scrolller/img/13977357_1570b740-9cc8-4f41-846a-7fec75ec4154.jpg\n",
      "41845 939229 /home/henning/tmp/experiments/ai/stable_diffusion/data/scrolller/img/14063088_2c3ef31c-6687-4f17-97aa-4190fbb43efc.jpg REMOVE: None\n",
      "42000 939229 /home/henning/tmp/experiments/ai/stable_diffusion/data/scrolller/img/14078105_a0c0d3d3-99fb-4cfb-9d46-94fce900130e.jpg\n",
      "43000 939229 /home/henning/tmp/experiments/ai/stable_diffusion/data/scrolller/img/14172701_a9e073e4-b598-43a7-aae0-547b4e6da847.jpg\n",
      "44000 939229 /home/henning/tmp/experiments/ai/stable_diffusion/data/scrolller/img/14270385_b36fdccf-2290-4ee1-bd5a-402e7f5875f5.jpg\n",
      "44613 939229 /home/henning/tmp/experiments/ai/stable_diffusion/data/scrolller/img/14325153_ace03283-2bb1-4e54-977e-d15c0800e914.jpg REMOVE: None\n",
      "45000 939229 /home/henning/tmp/experiments/ai/stable_diffusion/data/scrolller/img/14361883_3352e02c-02b6-41fc-a41c-6bc9cd2e0f20.jpg\n",
      "46000 939229 /home/henning/tmp/experiments/ai/stable_diffusion/data/scrolller/img/14457043_d6f9bef3-d934-4189-bbfb-2f7a50399c7d.jpg\n",
      "47000 939229 /home/henning/tmp/experiments/ai/stable_diffusion/data/scrolller/img/14555829_5719153c-27bb-4426-a8ef-6704830f1e71.jpg\n",
      "48000 939229 /home/henning/tmp/experiments/ai/stable_diffusion/data/scrolller/img/14649299_e0986ccd-4a33-4b8c-826c-595748d63980.jpg\n",
      "48380 939229 /home/henning/tmp/experiments/ai/stable_diffusion/data/scrolller/img/14682545_2910e458-02c2-498b-8597-0539a6bc57da.jpg REMOVE: None\n",
      "49000 939229 /home/henning/tmp/experiments/ai/stable_diffusion/data/scrolller/img/1474273_f4e037c5-3d1e-4667-87d1-34518b28e590.jpg\n",
      "50000 939229 /home/henning/tmp/experiments/ai/stable_diffusion/data/scrolller/img/14843624_5653e20d-cc16-4df6-bc03-5aec8320bdd1.jpg\n",
      "51000 939229 /home/henning/tmp/experiments/ai/stable_diffusion/data/scrolller/img/14942478_585958a4-6aa2-4954-8b56-63cf0eca5ce7.jpg\n"
     ]
    },
    {
     "name": "stderr",
     "output_type": "stream",
     "text": [
      "libpng warning: iCCP: known incorrect sRGB profile\n"
     ]
    },
    {
     "name": "stdout",
     "output_type": "stream",
     "text": [
      "52000 939229 /home/henning/tmp/experiments/ai/stable_diffusion/data/scrolller/img/15033093_e0df33f1-5cfa-43b2-b96a-faf1b567e355.jpg\n",
      "53000 939229 /home/henning/tmp/experiments/ai/stable_diffusion/data/scrolller/img/15131927_88c9a413-b790-4ac9-b193-158e2553bc77.jpg\n",
      "54000 939229 /home/henning/tmp/experiments/ai/stable_diffusion/data/scrolller/img/15234217_882b626b-9e84-4888-89d4-3d33e18aae82.jpg\n",
      "55000 939229 /home/henning/tmp/experiments/ai/stable_diffusion/data/scrolller/img/15329614_704d59a7-e025-4396-b06a-f904cd491561.jpg\n",
      "56000 939229 /home/henning/tmp/experiments/ai/stable_diffusion/data/scrolller/img/15419890_e9428b72-87d0-425c-b330-d250a7e7a1e4.jpg\n",
      "56489 939229 /home/henning/tmp/experiments/ai/stable_diffusion/data/scrolller/img/15463219_cfe63f83-2d5b-4fa3-814b-f1c8e937bdb5.jpg REMOVE: None\n",
      "56878 939229 /home/henning/tmp/experiments/ai/stable_diffusion/data/scrolller/img/15498076_44b8c7a8-58cb-487b-9346-f624aac289d1.jpg REMOVE: None\n",
      "57000 939229 /home/henning/tmp/experiments/ai/stable_diffusion/data/scrolller/img/15508284_be525d83-ef5b-4bd7-8bab-19740be8d2ba.jpg\n"
     ]
    },
    {
     "name": "stderr",
     "output_type": "stream",
     "text": [
      "libpng warning: iCCP: known incorrect sRGB profile\n"
     ]
    },
    {
     "name": "stdout",
     "output_type": "stream",
     "text": [
      "58000 939229 /home/henning/tmp/experiments/ai/stable_diffusion/data/scrolller/img/15603811_b77777cc-86cf-41b3-be23-a244fc62e0ca.jpg\n",
      "59000 939229 /home/henning/tmp/experiments/ai/stable_diffusion/data/scrolller/img/15696693_7bd3e150-6a47-4149-bd73-c20d1d7fec2f.jpg\n",
      "60000 939229 /home/henning/tmp/experiments/ai/stable_diffusion/data/scrolller/img/15796533_903d1201-4bc5-401c-a243-3adf2b4a24cd.jpg\n",
      "61000 939229 /home/henning/tmp/experiments/ai/stable_diffusion/data/scrolller/img/15891367_d9007ece-d7b9-449c-b800-fdb5578c1529.jpg\n",
      "62000 939229 /home/henning/tmp/experiments/ai/stable_diffusion/data/scrolller/img/15983971_2461db2b-6029-45cf-966f-8a67b6a7b25b.jpg\n",
      "63000 939229 /home/henning/tmp/experiments/ai/stable_diffusion/data/scrolller/img/16079779_27994ba0-f1a4-4eef-ac77-5654fb48cc27.jpg\n",
      "64000 939229 /home/henning/tmp/experiments/ai/stable_diffusion/data/scrolller/img/16170703_576d9b5f-6543-4221-8365-a4c7371add26.jpg\n",
      "65000 939229 /home/henning/tmp/experiments/ai/stable_diffusion/data/scrolller/img/16265880_1f2e7f83-31d1-4f2f-91a1-39cbc9427e1b.jpg\n",
      "66000 939229 /home/henning/tmp/experiments/ai/stable_diffusion/data/scrolller/img/16363286_d46b0171-ca10-43b8-b97b-89090f590357.jpg\n",
      "67000 939229 /home/henning/tmp/experiments/ai/stable_diffusion/data/scrolller/img/16459964_9abb5a38-84f9-4c9f-8880-a2a4084c32af.jpg\n",
      "68000 939229 /home/henning/tmp/experiments/ai/stable_diffusion/data/scrolller/img/16555005_a5af4141-786e-4d59-8baf-fbcd1c334d63.jpg\n",
      "69000 939229 /home/henning/tmp/experiments/ai/stable_diffusion/data/scrolller/img/16651956_4c5646c3-b0f4-4c8e-b10e-60099fb6f961.jpg\n",
      "70000 939229 /home/henning/tmp/experiments/ai/stable_diffusion/data/scrolller/img/16754916_1d0665f3-c603-4057-b3a9-15c592bb1957.jpg\n",
      "71000 939229 /home/henning/tmp/experiments/ai/stable_diffusion/data/scrolller/img/16852344_d05850f2-c726-419e-bb3f-7d6723d8bd41.jpg\n"
     ]
    },
    {
     "name": "stderr",
     "output_type": "stream",
     "text": [
      "libpng warning: iCCP: known incorrect sRGB profile\n",
      "libpng warning: iCCP: known incorrect sRGB profile\n"
     ]
    },
    {
     "name": "stdout",
     "output_type": "stream",
     "text": [
      "72000 939229 /home/henning/tmp/experiments/ai/stable_diffusion/data/scrolller/img/16947552_0d07240b-757a-4e4a-b81c-1b61ac789495.jpg\n"
     ]
    },
    {
     "name": "stderr",
     "output_type": "stream",
     "text": [
      "libpng warning: IDAT: incorrect data check\n",
      "libpng warning: IDAT: incorrect data check\n"
     ]
    },
    {
     "name": "stdout",
     "output_type": "stream",
     "text": [
      "73000 939229 /home/henning/tmp/experiments/ai/stable_diffusion/data/scrolller/img/17043321_e9f460e0-04eb-4ec5-85df-ba8ee717df53.jpg\n",
      "74000 939229 /home/henning/tmp/experiments/ai/stable_diffusion/data/scrolller/img/17138567_0ad552da-9175-44f3-9fb3-51c9b217c4c0.jpg\n"
     ]
    },
    {
     "name": "stderr",
     "output_type": "stream",
     "text": [
      "libpng warning: iCCP: known incorrect sRGB profile\n"
     ]
    },
    {
     "name": "stdout",
     "output_type": "stream",
     "text": [
      "75000 939229 /home/henning/tmp/experiments/ai/stable_diffusion/data/scrolller/img/17235385_e4a83285-a6d1-4c69-897c-2fb1abe84c53.jpg\n",
      "76000 939229 /home/henning/tmp/experiments/ai/stable_diffusion/data/scrolller/img/17330912_438622da-f423-4e8f-b96d-8183b820aef7.jpg\n",
      "77000 939229 /home/henning/tmp/experiments/ai/stable_diffusion/data/scrolller/img/17424431_7bd5e332-028f-426b-b360-0ef213ad4590.jpg\n"
     ]
    },
    {
     "name": "stderr",
     "output_type": "stream",
     "text": [
      "libpng warning: iCCP: known incorrect sRGB profile\n"
     ]
    },
    {
     "name": "stdout",
     "output_type": "stream",
     "text": [
      "78000 939229 /home/henning/tmp/experiments/ai/stable_diffusion/data/scrolller/img/17526662_53281588-5b4f-4509-9327-45066f3a2ae7.jpg\n",
      "79000 939229 /home/henning/tmp/experiments/ai/stable_diffusion/data/scrolller/img/17625652_2f8af800-7ae9-4e19-ab4b-e62b12325b96.jpg\n",
      "79166 939229 /home/henning/tmp/experiments/ai/stable_diffusion/data/scrolller/img/17638540_2ca1ea5e-6a3f-41c0-a290-2a90ebd6fcff.jpg REMOVE: None\n"
     ]
    },
    {
     "name": "stderr",
     "output_type": "stream",
     "text": [
      "libpng warning: iCCP: out of place\n"
     ]
    },
    {
     "name": "stdout",
     "output_type": "stream",
     "text": [
      "80000 939229 /home/henning/tmp/experiments/ai/stable_diffusion/data/scrolller/img/17723680_66b1a06d-9adf-4df5-b519-d3c035754d1d.jpg\n",
      "81000 939229 /home/henning/tmp/experiments/ai/stable_diffusion/data/scrolller/img/17818743_25042224-eb8a-4b74-b797-306d82b402ba.jpg\n",
      "82000 939229 /home/henning/tmp/experiments/ai/stable_diffusion/data/scrolller/img/17916255_ac954f4c-0695-4afb-bc68-f495a7f52dc4.jpg\n",
      "83000 939229 /home/henning/tmp/experiments/ai/stable_diffusion/data/scrolller/img/18019136_a20658f3-a040-43ed-9e47-21b0cf96ab57.jpg\n",
      "83106 939229 /home/henning/tmp/experiments/ai/stable_diffusion/data/scrolller/img/18027347_12575722-04b7-4908-a6cc-12d66b1f73a2.jpg REMOVE: None\n",
      "83935 939229 /home/henning/tmp/experiments/ai/stable_diffusion/data/scrolller/img/18112972_b80f7ac9-928a-4806-a750-1f56606f0789.jpg REMOVE: None\n",
      "84000 939229 /home/henning/tmp/experiments/ai/stable_diffusion/data/scrolller/img/18120279_10588d69-0ab8-4e71-9fcb-e40be8313349.jpg\n",
      "85000 939229 /home/henning/tmp/experiments/ai/stable_diffusion/data/scrolller/img/18216063_884f963a-f9ad-4259-b5ec-db3a3d9d9a58.jpg\n",
      "86000 939229 /home/henning/tmp/experiments/ai/stable_diffusion/data/scrolller/img/18311316_722961ea-ecbc-4db4-a8cf-1c1e604b406a.jpg\n",
      "87000 939229 /home/henning/tmp/experiments/ai/stable_diffusion/data/scrolller/img/18400886_02748300-e9fa-47ba-9e0b-122dc10a6e52.jpg\n",
      "88000 939229 /home/henning/tmp/experiments/ai/stable_diffusion/data/scrolller/img/18496986_e4762566-b20e-481a-b12a-b844756071ad.jpg\n",
      "89000 939229 /home/henning/tmp/experiments/ai/stable_diffusion/data/scrolller/img/18596548_ca6a64d4-7419-4ac2-99e9-462b4d99ea53.jpg\n",
      "90000 939229 /home/henning/tmp/experiments/ai/stable_diffusion/data/scrolller/img/18686662_2a74496c-5079-4383-91d2-6e592ff3f51c.jpg\n",
      "91000 939229 /home/henning/tmp/experiments/ai/stable_diffusion/data/scrolller/img/18784536_dc514394-9446-428f-a006-ce2ca62cb4fa.jpg\n",
      "92000 939229 /home/henning/tmp/experiments/ai/stable_diffusion/data/scrolller/img/18882193_ec890918-b702-436c-a000-83c2f9d34cb4.jpg\n"
     ]
    },
    {
     "name": "stderr",
     "output_type": "stream",
     "text": [
      "libpng warning: iCCP: known incorrect sRGB profile\n"
     ]
    },
    {
     "name": "stdout",
     "output_type": "stream",
     "text": [
      "93000 939229 /home/henning/tmp/experiments/ai/stable_diffusion/data/scrolller/img/18968202_a36659e4-176e-4ba2-9274-a044e9d23496.jpg\n"
     ]
    },
    {
     "name": "stderr",
     "output_type": "stream",
     "text": [
      "libpng warning: iCCP: known incorrect sRGB profile\n"
     ]
    },
    {
     "name": "stdout",
     "output_type": "stream",
     "text": [
      "93623 939229 /home/henning/tmp/experiments/ai/stable_diffusion/data/scrolller/img/19023533_9ae24daf-1df3-4740-991f-319998587a04.jpg REMOVE: None\n",
      "94000 939229 /home/henning/tmp/experiments/ai/stable_diffusion/data/scrolller/img/19062806_d2048760-3c66-42c7-b8e6-b0ee8e80a123.jpg\n",
      "95000 939229 /home/henning/tmp/experiments/ai/stable_diffusion/data/scrolller/img/1915204_fd6110f3-e051-4cc1-8310-843a5fbdfa31.jpg\n",
      "96000 939229 /home/henning/tmp/experiments/ai/stable_diffusion/data/scrolller/img/19242897_2b03190e-e20f-4b49-ac06-0e8206eb873e.jpg\n",
      "97000 939229 /home/henning/tmp/experiments/ai/stable_diffusion/data/scrolller/img/19338367_7080e8dd-c334-4e5c-997f-e6477ee3ad23.jpg\n",
      "98000 939229 /home/henning/tmp/experiments/ai/stable_diffusion/data/scrolller/img/19436907_415ffe0c-e35d-4973-9d70-f81cfa1d27ae.jpg\n",
      "99000 939229 /home/henning/tmp/experiments/ai/stable_diffusion/data/scrolller/img/19539949_72a43857-9fbe-43aa-8098-b5deed554035.jpg\n",
      "100000 939229 /home/henning/tmp/experiments/ai/stable_diffusion/data/scrolller/img/1963198_c6313cf3-bc22-4ce9-8088-849ccbe1ca5a.jpg\n",
      "100327 939229 /home/henning/tmp/experiments/ai/stable_diffusion/data/scrolller/img/19663713_9b162054-f728-43f9-adff-a77d6ebf90ae.jpg REMOVE: None\n",
      "101000 939229 /home/henning/tmp/experiments/ai/stable_diffusion/data/scrolller/img/19726394_38d3db43-aed4-4806-a33b-d7667b96e00f.jpg\n",
      "101805 939229 /home/henning/tmp/experiments/ai/stable_diffusion/data/scrolller/img/19800601_692024b8-fbaa-42f6-9b2f-9d6aa821796d.jpg REMOVE: None\n",
      "102000 939229 /home/henning/tmp/experiments/ai/stable_diffusion/data/scrolller/img/1981863_afcf7ab1-309d-4146-a1aa-f6ab47dd08cb.jpg\n",
      "103000 939229 /home/henning/tmp/experiments/ai/stable_diffusion/data/scrolller/img/19905605_ff089595-4c00-4069-ba63-5e58db34b8bf.jpg\n",
      "104000 939229 /home/henning/tmp/experiments/ai/stable_diffusion/data/scrolller/img/20001672_6e25a9fe-82a5-4bcd-8e08-571a0988221b.jpg\n",
      "105000 939229 /home/henning/tmp/experiments/ai/stable_diffusion/data/scrolller/img/20095740_051388f7-e8da-445d-89c5-d8030bdbafbc.jpg\n"
     ]
    },
    {
     "name": "stderr",
     "output_type": "stream",
     "text": [
      "libpng warning: iCCP: known incorrect sRGB profile\n"
     ]
    },
    {
     "name": "stdout",
     "output_type": "stream",
     "text": [
      "106000 939229 /home/henning/tmp/experiments/ai/stable_diffusion/data/scrolller/img/20188953_5c4a2827-fc4c-4894-9c91-04e73c98f465.jpg\n",
      "107000 939229 /home/henning/tmp/experiments/ai/stable_diffusion/data/scrolller/img/2028014_0356fd20-6a74-4b06-bbc9-f5c0903ee01d.jpg\n",
      "108000 939229 /home/henning/tmp/experiments/ai/stable_diffusion/data/scrolller/img/20372953_b56eab54-f117-4c4e-8841-3bf053972d2a.jpg\n",
      "109000 939229 /home/henning/tmp/experiments/ai/stable_diffusion/data/scrolller/img/20464949_d3f0d9ad-a62a-4b6f-99b7-63093ff404d4.jpg\n"
     ]
    },
    {
     "name": "stderr",
     "output_type": "stream",
     "text": [
      "libpng warning: iCCP: known incorrect sRGB profile\n"
     ]
    },
    {
     "name": "stdout",
     "output_type": "stream",
     "text": [
      "110000 939229 /home/henning/tmp/experiments/ai/stable_diffusion/data/scrolller/img/20554432_c2214e41-7eda-448e-b0ab-908717bf48a4.jpg\n",
      "111000 939229 /home/henning/tmp/experiments/ai/stable_diffusion/data/scrolller/img/20651545_8cf5409b-ed81-4107-a00a-4dd13f1a6dc6.jpg\n",
      "111362 939229 /home/henning/tmp/experiments/ai/stable_diffusion/data/scrolller/img/20683822_0369909a-4f28-4b73-8a7f-979d33c95ed4.jpg REMOVE: None\n",
      "111704 939229 /home/henning/tmp/experiments/ai/stable_diffusion/data/scrolller/img/20716806_d62d0a89-7f3c-40af-bc6d-259b2335e13b.jpg REMOVE: None\n",
      "112000 939229 /home/henning/tmp/experiments/ai/stable_diffusion/data/scrolller/img/20745853_ed53053b-d7dc-4d60-8585-ce68cbf9684e.jpg\n",
      "113000 939229 /home/henning/tmp/experiments/ai/stable_diffusion/data/scrolller/img/20838744_38859af2-da74-4bfa-8709-0963dec22307.jpg\n",
      "114000 939229 /home/henning/tmp/experiments/ai/stable_diffusion/data/scrolller/img/20937059_eee51ead-d668-48cb-a12e-4db996edc878.jpg\n",
      "115000 939229 /home/henning/tmp/experiments/ai/stable_diffusion/data/scrolller/img/210308_1a097281-18a9-48c5-ab64-ba1d3d7d61d4.jpg\n",
      "116000 939229 /home/henning/tmp/experiments/ai/stable_diffusion/data/scrolller/img/21128743_c9a4ae3d-abbe-49bd-86dd-49af40cbc408.jpg\n",
      "117000 939229 /home/henning/tmp/experiments/ai/stable_diffusion/data/scrolller/img/21222551_1cdeb376-0864-4548-94b5-b27474f8ec3b.jpg\n",
      "117430 939229 /home/henning/tmp/experiments/ai/stable_diffusion/data/scrolller/img/21267291_2256e27d-c8a1-46f8-83b7-ec30a1e2cc95.jpg REMOVE: None\n",
      "118000 939229 /home/henning/tmp/experiments/ai/stable_diffusion/data/scrolller/img/21322112_927cc37f-c631-4e22-8f29-770de6e565ce.jpg\n",
      "119000 939229 /home/henning/tmp/experiments/ai/stable_diffusion/data/scrolller/img/21424055_4c1bb33b-eb50-4f5b-8231-48b4a9b8b741.jpg\n",
      "120000 939229 /home/henning/tmp/experiments/ai/stable_diffusion/data/scrolller/img/21521289_0fb79f97-cc09-448c-bb88-7180e49f5f29.jpg\n",
      "121000 939229 /home/henning/tmp/experiments/ai/stable_diffusion/data/scrolller/img/21617812_f0aff408-8b30-4303-bf0d-a9e338a45a77.jpg\n",
      "122000 939229 /home/henning/tmp/experiments/ai/stable_diffusion/data/scrolller/img/21717297_a81f6067-81e2-4085-8da5-0c492600cc7b.jpg\n",
      "123000 939229 /home/henning/tmp/experiments/ai/stable_diffusion/data/scrolller/img/21813587_bc49b7c7-f531-4e9c-8a77-d24147c47fa8.jpg\n",
      "124000 939229 /home/henning/tmp/experiments/ai/stable_diffusion/data/scrolller/img/21901514_0c62576a-3679-44ba-a611-476459b24ead.jpg\n",
      "125000 939229 /home/henning/tmp/experiments/ai/stable_diffusion/data/scrolller/img/21991361_db15eea9-47ed-45ff-aea2-261ee1adccd1.jpg\n",
      "126000 939229 /home/henning/tmp/experiments/ai/stable_diffusion/data/scrolller/img/22082900_c0290a63-bb65-472b-b6fe-fc0acf8d79e5.jpg\n",
      "127000 939229 /home/henning/tmp/experiments/ai/stable_diffusion/data/scrolller/img/22173677_da0a37fd-87c8-4f4c-8311-974295b25637.jpg\n",
      "128000 939229 /home/henning/tmp/experiments/ai/stable_diffusion/data/scrolller/img/22275132_0f6cfbb7-be41-45c5-a1eb-5c34d1b810c8.jpg\n",
      "129000 939229 /home/henning/tmp/experiments/ai/stable_diffusion/data/scrolller/img/22365011_68550dac-f823-4f07-a98c-6e62aa29a005.jpg\n",
      "129044 939229 /home/henning/tmp/experiments/ai/stable_diffusion/data/scrolller/img/22370369_936c2f66-b147-4efa-8768-36fc3881065d.jpg REMOVE: None\n",
      "130000 939229 /home/henning/tmp/experiments/ai/stable_diffusion/data/scrolller/img/22471302_81bd7711-6da2-4fcc-b59c-34a0f0f02864.jpg\n",
      "131000 939229 /home/henning/tmp/experiments/ai/stable_diffusion/data/scrolller/img/22572338_dda7639f-ade9-4d6e-a0b6-9c41bfd095fa.jpg\n",
      "132000 939229 /home/henning/tmp/experiments/ai/stable_diffusion/data/scrolller/img/22669664_7978a41d-f62e-468c-8d48-3bda375762ea.jpg\n",
      "132791 939229 /home/henning/tmp/experiments/ai/stable_diffusion/data/scrolller/img/22744027_36169508-389a-4e0e-a284-391908caa253.jpg REMOVE: None\n",
      "133000 939229 /home/henning/tmp/experiments/ai/stable_diffusion/data/scrolller/img/22764844_a4849ac8-7743-4c8e-82d5-f354c56223ce.jpg\n",
      "133377 939229 /home/henning/tmp/experiments/ai/stable_diffusion/data/scrolller/img/22799729_5bacd957-1c04-4662-9c79-6996718267c4.jpg REMOVE: None\n",
      "134000 939229 /home/henning/tmp/experiments/ai/stable_diffusion/data/scrolller/img/22858660_324e4a5e-c09b-4b2a-805d-c87107251887.jpg\n",
      "135000 939229 /home/henning/tmp/experiments/ai/stable_diffusion/data/scrolller/img/22957575_063221f3-0ec2-4b73-8b0c-4056643909ac.jpg\n",
      "136000 939229 /home/henning/tmp/experiments/ai/stable_diffusion/data/scrolller/img/23058369_10191571-59d3-4d49-90ae-30a866a413b4.jpg\n",
      "137000 939229 /home/henning/tmp/experiments/ai/stable_diffusion/data/scrolller/img/23164248_b4b436d3-823d-4fc6-bd50-2e9e19fa918e.jpg\n",
      "138000 939229 /home/henning/tmp/experiments/ai/stable_diffusion/data/scrolller/img/23261063_71f51d1f-0146-44d0-8f1b-2d808121c988.jpg\n",
      "138852 939229 /home/henning/tmp/experiments/ai/stable_diffusion/data/scrolller/img/23338314_0567d560-6cad-40da-a7b5-9c5b3989214f.jpg REMOVE: None\n",
      "139000 939229 /home/henning/tmp/experiments/ai/stable_diffusion/data/scrolller/img/23351686_a06c5959-f350-4e16-81e1-4060af5ec69b.jpg\n",
      "140000 939229 /home/henning/tmp/experiments/ai/stable_diffusion/data/scrolller/img/2345131_053e3607-527d-4b09-8145-bc8768e419df.jpg\n",
      "141000 939229 /home/henning/tmp/experiments/ai/stable_diffusion/data/scrolller/img/23552572_a9298030-622c-4016-9539-a573c383bfa9.jpg\n"
     ]
    },
    {
     "name": "stderr",
     "output_type": "stream",
     "text": [
      "libpng warning: iCCP: known incorrect sRGB profile\n"
     ]
    },
    {
     "name": "stdout",
     "output_type": "stream",
     "text": [
      "142000 939229 /home/henning/tmp/experiments/ai/stable_diffusion/data/scrolller/img/23649104_9ac78d84-2d2b-460a-b68d-b1de9dc3f260.jpg\n",
      "143000 939229 /home/henning/tmp/experiments/ai/stable_diffusion/data/scrolller/img/23747896_01344fe2-fd7d-41b8-b824-f3c4f196a947.jpg\n",
      "144000 939229 /home/henning/tmp/experiments/ai/stable_diffusion/data/scrolller/img/23845155_48141f68-06e1-4b0d-96cb-1d9d9c8e12b9.jpg\n",
      "145000 939229 /home/henning/tmp/experiments/ai/stable_diffusion/data/scrolller/img/23944307_a5eb52e0-722e-4be3-87a3-0ae3bcd3a236.jpg\n",
      "146000 939229 /home/henning/tmp/experiments/ai/stable_diffusion/data/scrolller/img/2404170_025a40cf-f2fb-4410-9cbb-9ad8bb94161a.jpg\n",
      "147000 939229 /home/henning/tmp/experiments/ai/stable_diffusion/data/scrolller/img/2414704_c1d77a14-c163-45a7-8c0c-bd4041230bdf.jpg\n",
      "148000 939229 /home/henning/tmp/experiments/ai/stable_diffusion/data/scrolller/img/24239988_d06b251f-b305-45d7-a8ec-545b3775823f.jpg\n",
      "148702 939229 /home/henning/tmp/experiments/ai/stable_diffusion/data/scrolller/img/2430573_943f5cc1-616c-4d73-b9ff-28b95fdfb873.jpg REMOVE: None\n",
      "149000 939229 /home/henning/tmp/experiments/ai/stable_diffusion/data/scrolller/img/24335134_de85abdf-02c7-40f0-a5ba-7b86be8e4c7a.jpg\n",
      "149217 939229 /home/henning/tmp/experiments/ai/stable_diffusion/data/scrolller/img/24353311_70725b02-7c09-4526-b070-116865a0d909.jpg REMOVE: None\n",
      "149775 939229 /home/henning/tmp/experiments/ai/stable_diffusion/data/scrolller/img/24409711_dc4901b7-7bc8-4ff8-b4b4-ae624cd27cdb.jpg REMOVE: None\n",
      "150000 939229 /home/henning/tmp/experiments/ai/stable_diffusion/data/scrolller/img/244314_ece7a291-7ae7-40e7-8891-295bf146215c.jpg\n",
      "151000 939229 /home/henning/tmp/experiments/ai/stable_diffusion/data/scrolller/img/2452783_dd31c67a-771d-413a-8a0a-b644c409c2d4.jpg\n",
      "151336 939229 /home/henning/tmp/experiments/ai/stable_diffusion/data/scrolller/img/24561646_7c7993df-51d2-4f0b-9e0c-73dbdab99a5b.jpg REMOVE: None\n",
      "152000 939229 /home/henning/tmp/experiments/ai/stable_diffusion/data/scrolller/img/24615574_68ae35e6-cadd-4a52-9ac9-2a57246c3ac9.jpg\n",
      "153000 939229 /home/henning/tmp/experiments/ai/stable_diffusion/data/scrolller/img/2470322_bfe2e43e-349a-4505-9df6-3be25452ec01.jpg\n",
      "154000 939229 /home/henning/tmp/experiments/ai/stable_diffusion/data/scrolller/img/24795054_18bdd3e8-2295-4217-9abc-86b6921a71bf.jpg\n",
      "154980 939229 /home/henning/tmp/experiments/ai/stable_diffusion/data/scrolller/img/24882595_b9fab132-7819-420e-af3e-5c598447176f.jpg REMOVE: None\n",
      "155000 939229 /home/henning/tmp/experiments/ai/stable_diffusion/data/scrolller/img/24884262_71f9c697-ad30-494f-8cc1-c9b433ad3b0c.jpg\n",
      "156000 939229 /home/henning/tmp/experiments/ai/stable_diffusion/data/scrolller/img/24974654_7e666ce0-fd49-4a97-9bbe-787b4260b5db.jpg\n",
      "156264 939229 /home/henning/tmp/experiments/ai/stable_diffusion/data/scrolller/img/25000211_f837eac5-4b71-4338-ac22-a55b11ab784f.jpg REMOVE: None\n"
     ]
    },
    {
     "name": "stderr",
     "output_type": "stream",
     "text": [
      "libpng warning: iCCP: known incorrect sRGB profile\n"
     ]
    },
    {
     "name": "stdout",
     "output_type": "stream",
     "text": [
      "157000 939229 /home/henning/tmp/experiments/ai/stable_diffusion/data/scrolller/img/25067894_8fd52534-3100-45e6-9926-adc0ecde244b.jpg\n",
      "158000 939229 /home/henning/tmp/experiments/ai/stable_diffusion/data/scrolller/img/25157549_9380f5ca-b0f0-4565-a9e3-9a1048cf3551.jpg\n",
      "159000 939229 /home/henning/tmp/experiments/ai/stable_diffusion/data/scrolller/img/25266498_1ffdb397-f8fc-48c5-8a97-07a94c2211d7.jpg\n"
     ]
    },
    {
     "name": "stderr",
     "output_type": "stream",
     "text": [
      "libpng warning: iCCP: known incorrect sRGB profile\n"
     ]
    },
    {
     "name": "stdout",
     "output_type": "stream",
     "text": [
      "159991 939229 /home/henning/tmp/experiments/ai/stable_diffusion/data/scrolller/img/25366397_85f3ee26-12b6-4b9f-8f3b-66c986b40015.jpg REMOVE: None\n",
      "160000 939229 /home/henning/tmp/experiments/ai/stable_diffusion/data/scrolller/img/25367033_cf8bf1cb-8736-4359-a184-b37817c4d4b1.jpg\n",
      "161000 939229 /home/henning/tmp/experiments/ai/stable_diffusion/data/scrolller/img/25464977_e2309cb4-c6a5-4e57-a4ec-b6d9eeff1db0.jpg\n",
      "162000 939229 /home/henning/tmp/experiments/ai/stable_diffusion/data/scrolller/img/25558025_874d7f73-3056-4aa0-b454-52b432b323c7.jpg\n"
     ]
    },
    {
     "name": "stderr",
     "output_type": "stream",
     "text": [
      "libpng warning: iCCP: known incorrect sRGB profile\n"
     ]
    },
    {
     "name": "stdout",
     "output_type": "stream",
     "text": [
      "163000 939229 /home/henning/tmp/experiments/ai/stable_diffusion/data/scrolller/img/25652749_95d2a48e-9764-4798-ade4-32b2f206ccf1.jpg\n",
      "164000 939229 /home/henning/tmp/experiments/ai/stable_diffusion/data/scrolller/img/25753429_9c69c5b7-60d9-4935-8454-661159248976.jpg\n"
     ]
    },
    {
     "name": "stderr",
     "output_type": "stream",
     "text": [
      "libpng warning: iCCP: known incorrect sRGB profile\n",
      "libpng warning: iCCP: cHRM chunk does not match sRGB\n"
     ]
    },
    {
     "name": "stdout",
     "output_type": "stream",
     "text": [
      "165000 939229 /home/henning/tmp/experiments/ai/stable_diffusion/data/scrolller/img/25852998_0cdd09c9-54b9-4711-9fd2-7149b575c656.jpg\n",
      "165029 939229 /home/henning/tmp/experiments/ai/stable_diffusion/data/scrolller/img/25857031_99d14a7f-8057-478f-8369-3f723015201f.jpg REMOVE: None\n",
      "166000 939229 /home/henning/tmp/experiments/ai/stable_diffusion/data/scrolller/img/25944413_8d593373-b519-4e82-bba2-e7f87cedcf67.jpg\n"
     ]
    },
    {
     "name": "stderr",
     "output_type": "stream",
     "text": [
      "libpng warning: iCCP: known incorrect sRGB profile\n"
     ]
    },
    {
     "name": "stdout",
     "output_type": "stream",
     "text": [
      "167000 939229 /home/henning/tmp/experiments/ai/stable_diffusion/data/scrolller/img/26038428_616ff811-c641-420c-bf04-c91f2ea92cc8.jpg\n",
      "168000 939229 /home/henning/tmp/experiments/ai/stable_diffusion/data/scrolller/img/2613889_cf463b88-8cfa-4d00-8a09-27ab15c8dbf7.jpg\n",
      "169000 939229 /home/henning/tmp/experiments/ai/stable_diffusion/data/scrolller/img/26227634_eb978def-b413-457b-8b04-2469475dffc9.jpg\n",
      "170000 939229 /home/henning/tmp/experiments/ai/stable_diffusion/data/scrolller/img/26329550_f34daa77-8e61-44b0-b0f1-a2f2e2fdb93a.jpg\n",
      "171000 939229 /home/henning/tmp/experiments/ai/stable_diffusion/data/scrolller/img/26418254_438b62b2-e443-4037-a6e0-ce81445cec3e.jpg\n"
     ]
    },
    {
     "name": "stderr",
     "output_type": "stream",
     "text": [
      "libpng warning: iCCP: known incorrect sRGB profile\n"
     ]
    },
    {
     "name": "stdout",
     "output_type": "stream",
     "text": [
      "172000 939229 /home/henning/tmp/experiments/ai/stable_diffusion/data/scrolller/img/2650675_1ced014d-e71b-430d-b5c6-818bc496c9b5.jpg\n"
     ]
    },
    {
     "name": "stderr",
     "output_type": "stream",
     "text": [
      "libpng warning: iCCP: known incorrect sRGB profile\n"
     ]
    },
    {
     "name": "stdout",
     "output_type": "stream",
     "text": [
      "173000 939229 /home/henning/tmp/experiments/ai/stable_diffusion/data/scrolller/img/26598062_8eb73624-e5bd-4f9f-a0bd-1a831bbc9f99.jpg\n",
      "174000 939229 /home/henning/tmp/experiments/ai/stable_diffusion/data/scrolller/img/26688509_2010765f-5ab4-4497-a893-bba786a82dd5.jpg\n",
      "175000 939229 /home/henning/tmp/experiments/ai/stable_diffusion/data/scrolller/img/26789908_3f40fadc-7038-471a-b026-1894ff96f17e.jpg\n",
      "176000 939229 /home/henning/tmp/experiments/ai/stable_diffusion/data/scrolller/img/26888113_ae90c506-2139-4a03-beba-20ffbab217d5.jpg\n",
      "177000 939229 /home/henning/tmp/experiments/ai/stable_diffusion/data/scrolller/img/26986675_28973303-5427-4891-b371-edf07f45dd97.jpg\n",
      "177069 939229 /home/henning/tmp/experiments/ai/stable_diffusion/data/scrolller/img/26994625_65e3b67a-6ec9-4713-a34a-1bf240d7f700.jpg REMOVE: None\n"
     ]
    },
    {
     "name": "stderr",
     "output_type": "stream",
     "text": [
      "libpng warning: iCCP: known incorrect sRGB profile\n"
     ]
    },
    {
     "name": "stdout",
     "output_type": "stream",
     "text": [
      "178000 939229 /home/henning/tmp/experiments/ai/stable_diffusion/data/scrolller/img/27080998_089dcff9-75a7-48cf-869e-f4edb41fa748.jpg\n",
      "179000 939229 /home/henning/tmp/experiments/ai/stable_diffusion/data/scrolller/img/27174997_f877e028-9c39-4bc0-8fed-814a066e841c.jpg\n",
      "179068 939229 /home/henning/tmp/experiments/ai/stable_diffusion/data/scrolller/img/27181134_8eb5b53d-c680-43e2-9ed1-a36c41f7ced1.jpg REMOVE: None\n"
     ]
    },
    {
     "name": "stderr",
     "output_type": "stream",
     "text": [
      "Corrupt JPEG data: premature end of data segment\n",
      "Corrupt JPEG data: premature end of data segment\n"
     ]
    },
    {
     "name": "stdout",
     "output_type": "stream",
     "text": [
      "180000 939229 /home/henning/tmp/experiments/ai/stable_diffusion/data/scrolller/img/27279179_149a5372-1958-483e-87ec-6d4a6bafe6e4.jpg\n",
      "180492 939229 /home/henning/tmp/experiments/ai/stable_diffusion/data/scrolller/img/27325792_9649d994-7fc0-4daa-8e09-ba101ecd24c9.jpg REMOVE: None\n"
     ]
    },
    {
     "name": "stderr",
     "output_type": "stream",
     "text": [
      "libpng warning: iCCP: known incorrect sRGB profile\n"
     ]
    },
    {
     "name": "stdout",
     "output_type": "stream",
     "text": [
      "181000 939229 /home/henning/tmp/experiments/ai/stable_diffusion/data/scrolller/img/27367735_dc929732-0bc2-4423-8b5a-c85fbc7195e8.jpg\n",
      "181822 939229 /home/henning/tmp/experiments/ai/stable_diffusion/data/scrolller/img/27444634_66caba21-8719-4c3f-9f4e-74a08a42cae2.jpg REMOVE: None\n",
      "182000 939229 /home/henning/tmp/experiments/ai/stable_diffusion/data/scrolller/img/27463774_1b605693-5036-4ce9-a6d7-2b93bafcbdb2.jpg\n",
      "183000 939229 /home/henning/tmp/experiments/ai/stable_diffusion/data/scrolller/img/27555185_b0d00f6d-371b-4d46-9015-97b773a158b7.jpg\n",
      "184000 939229 /home/henning/tmp/experiments/ai/stable_diffusion/data/scrolller/img/27650749_11a3a05f-c9cf-4edd-aa45-c7b08f86fc94.jpg\n",
      "185000 939229 /home/henning/tmp/experiments/ai/stable_diffusion/data/scrolller/img/27744047_29b34bff-6c67-4268-9ae3-1a9044d0b61c.jpg\n",
      "186000 939229 /home/henning/tmp/experiments/ai/stable_diffusion/data/scrolller/img/27842922_507d9c1a-28a5-43be-8ad3-14e710c2894b.jpg\n",
      "187000 939229 /home/henning/tmp/experiments/ai/stable_diffusion/data/scrolller/img/27940891_c4955f1c-8ba2-4026-bdca-ecbfd060e8e2.jpg\n",
      "188000 939229 /home/henning/tmp/experiments/ai/stable_diffusion/data/scrolller/img/28035823_f6531d36-72d2-42e0-9438-37a2c8763a32.jpg\n",
      "189000 939229 /home/henning/tmp/experiments/ai/stable_diffusion/data/scrolller/img/28134280_ae867536-6aa4-41c2-ae29-04b70af24288.jpg\n",
      "190000 939229 /home/henning/tmp/experiments/ai/stable_diffusion/data/scrolller/img/28234686_d9fed9c6-92bb-45d5-b2e1-92eeb3350cba.jpg\n",
      "190271 939229 /home/henning/tmp/experiments/ai/stable_diffusion/data/scrolller/img/28259148_c9f3124c-7dae-494b-88a3-befbd6ffdedf.jpg REMOVE: None\n",
      "191000 939229 /home/henning/tmp/experiments/ai/stable_diffusion/data/scrolller/img/28332328_1249aa72-8047-4dee-9468-394ab792ee5a.jpg\n",
      "192000 939229 /home/henning/tmp/experiments/ai/stable_diffusion/data/scrolller/img/2842822_8d29daa7-19e0-40ff-844a-b8563a24f569.jpg\n",
      "192510 939229 /home/henning/tmp/experiments/ai/stable_diffusion/data/scrolller/img/2847720_fe68af96-80fb-4c25-85ab-8226a074d41a.jpg REMOVE: None\n",
      "193000 939229 /home/henning/tmp/experiments/ai/stable_diffusion/data/scrolller/img/28529185_2b627e49-3209-4f51-a99e-4dbc8a16f13a.jpg\n",
      "194000 939229 /home/henning/tmp/experiments/ai/stable_diffusion/data/scrolller/img/28629766_3e4f4e8c-de95-42e6-88e5-1a00c3c87008.jpg\n",
      "195000 939229 /home/henning/tmp/experiments/ai/stable_diffusion/data/scrolller/img/28729022_09eba5ed-2463-4655-9c1b-438488b87d28.jpg\n",
      "196000 939229 /home/henning/tmp/experiments/ai/stable_diffusion/data/scrolller/img/28823368_ef14803a-a353-4652-8eb7-1dfbb2da0a17.jpg\n",
      "197000 939229 /home/henning/tmp/experiments/ai/stable_diffusion/data/scrolller/img/28918576_d5722267-fd06-44d7-af15-c8cb244a1839.jpg\n",
      "197078 939229 /home/henning/tmp/experiments/ai/stable_diffusion/data/scrolller/img/28925753_fb0f5fb6-8f97-493c-ad63-380db906f346.jpg REMOVE: None\n",
      "198000 939229 /home/henning/tmp/experiments/ai/stable_diffusion/data/scrolller/img/29008507_db6e2084-0398-4dda-bcd9-748663bff92b.jpg\n",
      "199000 939229 /home/henning/tmp/experiments/ai/stable_diffusion/data/scrolller/img/29105973_5092683f-3573-4994-be04-96f80e5bc7a2.jpg\n",
      "199241 939229 /home/henning/tmp/experiments/ai/stable_diffusion/data/scrolller/img/29126349_c8b8b5e5-e70f-40f8-8f23-01b15f363e21.jpg REMOVE: None\n",
      "200000 939229 /home/henning/tmp/experiments/ai/stable_diffusion/data/scrolller/img/29201312_20362c90-dcf6-4813-bc30-0ecc929f1e8a.jpg\n",
      "201000 939229 /home/henning/tmp/experiments/ai/stable_diffusion/data/scrolller/img/29292560_323d426d-71b8-493c-a706-903b99e0af8e.jpg\n",
      "202000 939229 /home/henning/tmp/experiments/ai/stable_diffusion/data/scrolller/img/29388013_2d88c040-340c-4697-9c51-a67a9bc7af46.jpg\n",
      "202563 939229 /home/henning/tmp/experiments/ai/stable_diffusion/data/scrolller/img/29442446_e784f53e-4bec-47a1-8283-3c2f2b6fff85.jpg REMOVE: None\n",
      "203000 939229 /home/henning/tmp/experiments/ai/stable_diffusion/data/scrolller/img/29485371_d81a7337-07e0-4798-b974-98c50302e9a1.jpg\n"
     ]
    },
    {
     "name": "stderr",
     "output_type": "stream",
     "text": [
      "libpng warning: iCCP: known incorrect sRGB profile\n"
     ]
    },
    {
     "name": "stdout",
     "output_type": "stream",
     "text": [
      "204000 939229 /home/henning/tmp/experiments/ai/stable_diffusion/data/scrolller/img/29586070_b6777bcd-245b-41fe-bc77-16672eb0153c.jpg\n",
      "205000 939229 /home/henning/tmp/experiments/ai/stable_diffusion/data/scrolller/img/29678818_1afa5496-d827-4031-b4fb-64c798e4d40b.jpg\n",
      "205506 939229 /home/henning/tmp/experiments/ai/stable_diffusion/data/scrolller/img/29727903_29ebd9ff-0af2-4046-9e9c-298f0347bf17.jpg REMOVE: None\n",
      "206000 939229 /home/henning/tmp/experiments/ai/stable_diffusion/data/scrolller/img/29775573_07897536-e101-4308-be61-ee1a4b6be0d4.jpg\n",
      "207000 939229 /home/henning/tmp/experiments/ai/stable_diffusion/data/scrolller/img/29866535_6a882199-486e-44ed-a279-2ee3a0fb7a87.jpg\n",
      "208000 939229 /home/henning/tmp/experiments/ai/stable_diffusion/data/scrolller/img/29962429_571de6ca-1d8b-4145-8711-19bb0ec21b45.jpg\n",
      "208259 939229 /home/henning/tmp/experiments/ai/stable_diffusion/data/scrolller/img/29990319_b5bcae47-9c40-4a7c-ac18-ca9829363c1f.jpg REMOVE: None\n",
      "209000 939229 /home/henning/tmp/experiments/ai/stable_diffusion/data/scrolller/img/30063597_a151b516-21aa-4962-9a41-404652fa082e.jpg\n",
      "210000 939229 /home/henning/tmp/experiments/ai/stable_diffusion/data/scrolller/img/30161190_7481bf4a-4b81-43e1-90ae-65667c8bffcd.jpg\n",
      "211000 939229 /home/henning/tmp/experiments/ai/stable_diffusion/data/scrolller/img/30254000_26b320bd-d374-4568-b58c-38f666dd3c4e.jpg\n",
      "212000 939229 /home/henning/tmp/experiments/ai/stable_diffusion/data/scrolller/img/30350200_393a8c19-7a3c-4a4c-994f-41d0c427d6c7.jpg\n",
      "213000 939229 /home/henning/tmp/experiments/ai/stable_diffusion/data/scrolller/img/30443210_3b37ba4f-3887-412b-829d-6c041885566f.jpg\n",
      "213523 939229 /home/henning/tmp/experiments/ai/stable_diffusion/data/scrolller/img/30492067_3e89b07c-09b1-4556-8ae2-cde6d35e4479.jpg REMOVE: None\n",
      "214000 939229 /home/henning/tmp/experiments/ai/stable_diffusion/data/scrolller/img/30539734_aabfdc01-de2e-4090-902d-44bc2c7f05ae.jpg\n",
      "215000 939229 /home/henning/tmp/experiments/ai/stable_diffusion/data/scrolller/img/30640743_f088a460-2972-4329-bb84-65f9e82c050d.jpg\n",
      "216000 939229 /home/henning/tmp/experiments/ai/stable_diffusion/data/scrolller/img/3074628_d0e6686c-cbab-42d5-aa07-f457c8f75522.jpg\n",
      "217000 939229 /home/henning/tmp/experiments/ai/stable_diffusion/data/scrolller/img/30852244_241325c4-7b56-4866-bda9-645bce903c65.jpg\n",
      "217527 939229 /home/henning/tmp/experiments/ai/stable_diffusion/data/scrolller/img/30907699_c1d48437-3a74-456e-a60a-870305c37155.jpg REMOVE: None\n",
      "218000 939229 /home/henning/tmp/experiments/ai/stable_diffusion/data/scrolller/img/3095669_492904df-8179-4fef-8d41-e2fba34e3347.jpg\n",
      "218130 939229 /home/henning/tmp/experiments/ai/stable_diffusion/data/scrolller/img/30966716_ad4b1a9a-1518-48b6-8ed4-8c0fc4ca5c38.jpg REMOVE: None\n",
      "219000 939229 /home/henning/tmp/experiments/ai/stable_diffusion/data/scrolller/img/31053913_2905edb4-4cbb-40af-9b10-4da990a32d88.jpg\n",
      "220000 939229 /home/henning/tmp/experiments/ai/stable_diffusion/data/scrolller/img/31148111_c9dd6d1b-9e33-40f8-b4bb-8994beada602.jpg\n",
      "221000 939229 /home/henning/tmp/experiments/ai/stable_diffusion/data/scrolller/img/31244969_93c1ee06-8354-4176-b50f-373c9e1df4a3.jpg\n"
     ]
    },
    {
     "name": "stderr",
     "output_type": "stream",
     "text": [
      "Corrupt JPEG data: 11054 extraneous bytes before marker 0xc4\n",
      "Corrupt JPEG data: 11054 extraneous bytes before marker 0xc4\n",
      "Corrupt JPEG data: 11054 extraneous bytes before marker 0xc4\n",
      "Corrupt JPEG data: 11054 extraneous bytes before marker 0xc4\n",
      "Corrupt JPEG data: 11054 extraneous bytes before marker 0xc4\n"
     ]
    },
    {
     "name": "stdout",
     "output_type": "stream",
     "text": [
      "222000 939229 /home/henning/tmp/experiments/ai/stable_diffusion/data/scrolller/img/31338008_3837b743-6707-40ea-8ddf-0f75a2a1a88b.jpg\n"
     ]
    },
    {
     "name": "stderr",
     "output_type": "stream",
     "text": [
      "libpng warning: iCCP: known incorrect sRGB profile\n"
     ]
    },
    {
     "name": "stdout",
     "output_type": "stream",
     "text": [
      "223000 939229 /home/henning/tmp/experiments/ai/stable_diffusion/data/scrolller/img/3143860_c3689312-6f2a-4740-be06-62e5e5f1df3a.jpg\n",
      "224000 939229 /home/henning/tmp/experiments/ai/stable_diffusion/data/scrolller/img/31535385_9ae6533a-4ad3-4aa7-82c1-038ba39f7247.jpg\n",
      "225000 939229 /home/henning/tmp/experiments/ai/stable_diffusion/data/scrolller/img/31621423_1933fe7b-18fe-46dc-8280-3d979592b12d.jpg\n",
      "226000 939229 /home/henning/tmp/experiments/ai/stable_diffusion/data/scrolller/img/31707965_f8a09023-8aa6-40f5-905c-02f66a922988.jpg\n",
      "227000 939229 /home/henning/tmp/experiments/ai/stable_diffusion/data/scrolller/img/31803048_4f146ff0-0d23-43e6-944d-021e4d917220.jpg\n",
      "228000 939229 /home/henning/tmp/experiments/ai/stable_diffusion/data/scrolller/img/3190512_6b4ab3dc-7dd5-4ef8-8dff-f7ff5a2c170a.jpg\n",
      "229000 939229 /home/henning/tmp/experiments/ai/stable_diffusion/data/scrolller/img/32001866_c01885c6-f919-479b-98da-52e679d995e8.jpg\n",
      "230000 939229 /home/henning/tmp/experiments/ai/stable_diffusion/data/scrolller/img/3210198_8f6fe03d-eea9-4dc7-9997-7ba8b99f1198.jpg\n",
      "231000 939229 /home/henning/tmp/experiments/ai/stable_diffusion/data/scrolller/img/32197621_47ed945e-f8d6-4b0f-8e06-575cc7810c1d.jpg\n"
     ]
    },
    {
     "name": "stderr",
     "output_type": "stream",
     "text": [
      "libpng warning: iCCP: known incorrect sRGB profile\n"
     ]
    },
    {
     "name": "stdout",
     "output_type": "stream",
     "text": [
      "232000 939229 /home/henning/tmp/experiments/ai/stable_diffusion/data/scrolller/img/32305006_aa600355-5136-471a-bf49-287c546c6096.jpg\n",
      "233000 939229 /home/henning/tmp/experiments/ai/stable_diffusion/data/scrolller/img/32395671_63fe6511-cbaf-47e6-935f-7716d466a299.jpg\n",
      "234000 939229 /home/henning/tmp/experiments/ai/stable_diffusion/data/scrolller/img/32486857_b910b48a-de19-4e2b-97c6-ccb6da127c00.jpg\n",
      "235000 939229 /home/henning/tmp/experiments/ai/stable_diffusion/data/scrolller/img/32577653_d0788e85-e4c5-4c41-8603-979fd01ca1bb.jpg\n",
      "236000 939229 /home/henning/tmp/experiments/ai/stable_diffusion/data/scrolller/img/32669250_8c8c1089-e4ec-4408-9445-6724f58984bf.jpg\n",
      "237000 939229 /home/henning/tmp/experiments/ai/stable_diffusion/data/scrolller/img/32764013_65ae2ee8-2108-43b2-b6bb-865c7169b65e.jpg\n",
      "237201 939229 /home/henning/tmp/experiments/ai/stable_diffusion/data/scrolller/img/3278371_cb599fdb-7124-421c-b219-f0e2c8db3abd.jpg REMOVE: None\n",
      "238000 939229 /home/henning/tmp/experiments/ai/stable_diffusion/data/scrolller/img/32859065_04f21d9f-de10-464e-b85e-2d450eb55bbc.jpg\n",
      "238934 939229 /home/henning/tmp/experiments/ai/stable_diffusion/data/scrolller/img/32948553_63766a2e-153f-40ae-b057-f74c0dcc5ae8.jpg REMOVE: None\n",
      "239000 939229 /home/henning/tmp/experiments/ai/stable_diffusion/data/scrolller/img/32957527_50fa98de-b614-407b-a2c7-5a9f5f1a3d72.jpg\n",
      "240000 939229 /home/henning/tmp/experiments/ai/stable_diffusion/data/scrolller/img/33056116_06919a7b-0d3f-4e40-a0ac-f75846b4258b.jpg\n",
      "240445 939229 /home/henning/tmp/experiments/ai/stable_diffusion/data/scrolller/img/33095874_833c9050-5ddf-4cd4-af51-e6d0e1a8b056.jpg REMOVE: None\n",
      "241000 939229 /home/henning/tmp/experiments/ai/stable_diffusion/data/scrolller/img/33147562_e0ef735f-4882-4021-9dd0-1d7f40a27a10.jpg\n",
      "241619 939229 /home/henning/tmp/experiments/ai/stable_diffusion/data/scrolller/img/3320729_dde4e41a-5c06-47be-86e6-5aa46a65220d.jpg REMOVE: None\n",
      "242000 939229 /home/henning/tmp/experiments/ai/stable_diffusion/data/scrolller/img/33242170_565d6292-4bf2-42ba-b163-3d5c9cb952b0.jpg\n",
      "243000 939229 /home/henning/tmp/experiments/ai/stable_diffusion/data/scrolller/img/33330644_b700241a-b97f-425a-8569-602d1960819a.jpg\n",
      "244000 939229 /home/henning/tmp/experiments/ai/stable_diffusion/data/scrolller/img/33420069_a3fa7730-82dd-449d-a7fe-f6e2dfa70353.jpg\n",
      "245000 939229 /home/henning/tmp/experiments/ai/stable_diffusion/data/scrolller/img/33511763_2bbc9875-fe05-4021-8b28-aa026ab54221.jpg\n",
      "245982 939229 /home/henning/tmp/experiments/ai/stable_diffusion/data/scrolller/img/33605738_1cc9313a-b43a-479e-b70f-92718f82a9dd.jpg REMOVE: None\n",
      "246000 939229 /home/henning/tmp/experiments/ai/stable_diffusion/data/scrolller/img/3360725_361807e4-855d-4f87-8334-21e651efa41f.jpg\n",
      "247000 939229 /home/henning/tmp/experiments/ai/stable_diffusion/data/scrolller/img/33699715_5af7cac6-22d2-479a-8dba-110d49f9a05d.jpg\n",
      "248000 939229 /home/henning/tmp/experiments/ai/stable_diffusion/data/scrolller/img/33811925_fe44a68c-31a5-4949-bc4f-96a701c008bd.jpg\n",
      "249000 939229 /home/henning/tmp/experiments/ai/stable_diffusion/data/scrolller/img/33915581_b75420b2-0795-4b2e-bd1b-0c9898730e4a.jpg\n",
      "250000 939229 /home/henning/tmp/experiments/ai/stable_diffusion/data/scrolller/img/3401691_1a1f0061-cdbc-4c3a-9e4c-18ce50277086.jpg\n"
     ]
    },
    {
     "name": "stderr",
     "output_type": "stream",
     "text": [
      "libpng warning: iCCP: known incorrect sRGB profile\n"
     ]
    },
    {
     "name": "stdout",
     "output_type": "stream",
     "text": [
      "251000 939229 /home/henning/tmp/experiments/ai/stable_diffusion/data/scrolller/img/34112630_cf8ba460-99c2-4f7d-b273-9f40ce620db6.jpg\n",
      "252000 939229 /home/henning/tmp/experiments/ai/stable_diffusion/data/scrolller/img/34215030_2e8723f6-cad6-41c3-8051-7b2884f27d1f.jpg\n",
      "253000 939229 /home/henning/tmp/experiments/ai/stable_diffusion/data/scrolller/img/34300252_06a535ea-8fe6-4346-836f-20776607d5fb.jpg\n"
     ]
    },
    {
     "name": "stderr",
     "output_type": "stream",
     "text": [
      "libpng warning: iCCP: known incorrect sRGB profile\n"
     ]
    },
    {
     "name": "stdout",
     "output_type": "stream",
     "text": [
      "254000 939229 /home/henning/tmp/experiments/ai/stable_diffusion/data/scrolller/img/34396746_17fb877f-5066-4070-828d-bbeb4ff32216.jpg\n",
      "255000 939229 /home/henning/tmp/experiments/ai/stable_diffusion/data/scrolller/img/34497063_348dd48f-a796-4d19-88f3-fa1777ea0dcc.jpg\n",
      "256000 939229 /home/henning/tmp/experiments/ai/stable_diffusion/data/scrolller/img/3459503_d1ece347-3137-457d-82d6-4b8039bfc06e.jpg\n"
     ]
    },
    {
     "name": "stderr",
     "output_type": "stream",
     "text": [
      "libpng warning: iCCP: known incorrect sRGB profile\n"
     ]
    },
    {
     "name": "stdout",
     "output_type": "stream",
     "text": [
      "257000 939229 /home/henning/tmp/experiments/ai/stable_diffusion/data/scrolller/img/34690307_c30ec0fc-86f8-40a3-97ef-ec480c767710.jpg\n",
      "258000 939229 /home/henning/tmp/experiments/ai/stable_diffusion/data/scrolller/img/34784775_910f78da-d189-4204-aaf7-287f3fd13ad6.jpg\n",
      "259000 939229 /home/henning/tmp/experiments/ai/stable_diffusion/data/scrolller/img/34878930_775201b0-ce8f-413e-a1fe-bab6fa744878.jpg\n",
      "260000 939229 /home/henning/tmp/experiments/ai/stable_diffusion/data/scrolller/img/34980128_78c57ef8-3d60-4599-b0b8-654baa9f7aec.jpg\n"
     ]
    },
    {
     "name": "stderr",
     "output_type": "stream",
     "text": [
      "libpng warning: iCCP: known incorrect sRGB profile\n"
     ]
    },
    {
     "name": "stdout",
     "output_type": "stream",
     "text": [
      "261000 939229 /home/henning/tmp/experiments/ai/stable_diffusion/data/scrolller/img/35083264_3b38335d-f8c3-4912-8f14-e3c2ff997482.jpg\n",
      "262000 939229 /home/henning/tmp/experiments/ai/stable_diffusion/data/scrolller/img/35186066_b874aad7-1637-4246-b0db-715d4acb2777.jpg\n",
      "263000 939229 /home/henning/tmp/experiments/ai/stable_diffusion/data/scrolller/img/35280015_ba524605-13c7-40c8-a9fb-577b63380413.jpg\n",
      "264000 939229 /home/henning/tmp/experiments/ai/stable_diffusion/data/scrolller/img/35375449_59406335-a4c9-40f0-8708-b91f65e715ce.jpg\n",
      "264320 939229 /home/henning/tmp/experiments/ai/stable_diffusion/data/scrolller/img/35407441_6a5e0d4e-9c75-4767-98e6-9dfa266d7c77.jpg REMOVE: None\n",
      "265000 939229 /home/henning/tmp/experiments/ai/stable_diffusion/data/scrolller/img/35473948_a5307254-6ab6-4600-9fd1-1e693af2dab2.jpg\n",
      "266000 939229 /home/henning/tmp/experiments/ai/stable_diffusion/data/scrolller/img/35562115_4c8b980d-ca95-4247-b615-e919a0398ad7.jpg\n",
      "267000 939229 /home/henning/tmp/experiments/ai/stable_diffusion/data/scrolller/img/35657186_45a9c4d6-103b-476e-9ff5-db720ee1a2fd.jpg\n",
      "267499 939229 /home/henning/tmp/experiments/ai/stable_diffusion/data/scrolller/img/35704468_571bbdd3-01bd-4ee5-a41f-c2a9d24295f6.jpg REMOVE: None\n",
      "268000 939229 /home/henning/tmp/experiments/ai/stable_diffusion/data/scrolller/img/35748468_745f6d1c-2715-4b77-a54f-dd3a18a595d0.jpg\n",
      "269000 939229 /home/henning/tmp/experiments/ai/stable_diffusion/data/scrolller/img/35837478_f32bd5ba-5f87-46fd-96db-f120569dbdf2.jpg\n",
      "270000 939229 /home/henning/tmp/experiments/ai/stable_diffusion/data/scrolller/img/35926644_5457ef2c-dd0e-4c4f-a908-5e5e016046a7.jpg\n",
      "271000 939229 /home/henning/tmp/experiments/ai/stable_diffusion/data/scrolller/img/36017350_4db9152d-768d-457f-9a94-cb879a419fa7.jpg\n",
      "272000 939229 /home/henning/tmp/experiments/ai/stable_diffusion/data/scrolller/img/36113779_4528ac54-f578-4fc2-843d-8ea0fc387ee1.jpg\n",
      "273000 939229 /home/henning/tmp/experiments/ai/stable_diffusion/data/scrolller/img/36221228_936cfe33-d587-4f35-8cd8-50f25e15861a.jpg\n",
      "274000 939229 /home/henning/tmp/experiments/ai/stable_diffusion/data/scrolller/img/36316033_a55f47c0-c9b4-4bf7-82a3-ccbc0811909e.jpg\n",
      "275000 939229 /home/henning/tmp/experiments/ai/stable_diffusion/data/scrolller/img/36409075_93e12c83-9392-4e1d-96a9-7c945e44ab0b.jpg\n",
      "275860 939229 /home/henning/tmp/experiments/ai/stable_diffusion/data/scrolller/img/36493859_e3e8c43b-9fa8-4d69-bc08-5e12866e8f4e.jpg REMOVE: None\n",
      "276000 939229 /home/henning/tmp/experiments/ai/stable_diffusion/data/scrolller/img/36506808_22063e69-f2b5-44c3-b5cd-d87ac7d2feb4.jpg\n",
      "277000 939229 /home/henning/tmp/experiments/ai/stable_diffusion/data/scrolller/img/3659903_575eafe1-ccbb-4e75-b547-891cf03c46f9.jpg\n",
      "278000 939229 /home/henning/tmp/experiments/ai/stable_diffusion/data/scrolller/img/36692975_167ba406-df19-4394-8eb5-4a7231297b2e.jpg\n",
      "279000 939229 /home/henning/tmp/experiments/ai/stable_diffusion/data/scrolller/img/36801838_1e960aaa-45dc-4434-a5d5-eb3cf193ad52.jpg\n"
     ]
    },
    {
     "name": "stderr",
     "output_type": "stream",
     "text": [
      "libpng warning: iCCP: known incorrect sRGB profile\n"
     ]
    },
    {
     "name": "stdout",
     "output_type": "stream",
     "text": [
      "280000 939229 /home/henning/tmp/experiments/ai/stable_diffusion/data/scrolller/img/36890849_a63ab773-adbf-433e-a16f-ee1770d04c24.jpg\n",
      "280067 939229 /home/henning/tmp/experiments/ai/stable_diffusion/data/scrolller/img/36897972_187f8386-5e37-4311-9cbb-d8a85875e44b.jpg REMOVE: None\n",
      "280642 939229 /home/henning/tmp/experiments/ai/stable_diffusion/data/scrolller/img/36954179_40301da3-bc95-4bb0-9065-07b6b2f19a60.jpg REMOVE: None\n",
      "281000 939229 /home/henning/tmp/experiments/ai/stable_diffusion/data/scrolller/img/36985353_1c5f7ca2-3211-49ce-83f7-52036e863239.jpg\n",
      "281203 939229 /home/henning/tmp/experiments/ai/stable_diffusion/data/scrolller/img/37005675_0360cd8f-3b6b-461d-ad89-fd7227985257.jpg REMOVE: None\n",
      "281260 939229 /home/henning/tmp/experiments/ai/stable_diffusion/data/scrolller/img/37009739_9eb7d389-e73d-4239-9b3d-fc42ad8d5d4a.jpg REMOVE: None\n",
      "282000 939229 /home/henning/tmp/experiments/ai/stable_diffusion/data/scrolller/img/37082242_d54da59a-bcec-4ca2-8cee-47302ca6c99b.jpg\n",
      "283000 939229 /home/henning/tmp/experiments/ai/stable_diffusion/data/scrolller/img/37181583_ea5a0b8e-f577-4294-899d-b79eb72becdc.jpg\n",
      "284000 939229 /home/henning/tmp/experiments/ai/stable_diffusion/data/scrolller/img/37271737_cf66989e-7566-4e86-9bb0-1701689e6671.jpg\n",
      "285000 939229 /home/henning/tmp/experiments/ai/stable_diffusion/data/scrolller/img/37365123_4af7bcf3-cb07-4091-b01e-e5e1a81533c9.jpg\n",
      "286000 939229 /home/henning/tmp/experiments/ai/stable_diffusion/data/scrolller/img/37465698_898ba539-f34e-46ac-84a9-dc3af8d899b1.jpg\n",
      "287000 939229 /home/henning/tmp/experiments/ai/stable_diffusion/data/scrolller/img/37547486_74f51a20-03ae-46fb-b5f1-ead53a90f6db.jpg\n",
      "288000 939229 /home/henning/tmp/experiments/ai/stable_diffusion/data/scrolller/img/37644072_287ef229-0334-4cd4-b90c-ef4a3e92f1e8.jpg\n",
      "289000 939229 /home/henning/tmp/experiments/ai/stable_diffusion/data/scrolller/img/37741190_f1378b4e-d2ca-4267-ba17-ffdff3de6f44.jpg\n",
      "290000 939229 /home/henning/tmp/experiments/ai/stable_diffusion/data/scrolller/img/37833255_65ca64b0-bb10-4392-874e-b546d825995c.jpg\n",
      "291000 939229 /home/henning/tmp/experiments/ai/stable_diffusion/data/scrolller/img/37927739_f23ae3a0-1a0e-4859-a8b9-c841874ec7a9.jpg\n",
      "292000 939229 /home/henning/tmp/experiments/ai/stable_diffusion/data/scrolller/img/38020528_23716578-6735-4200-afd1-af867d91d863.jpg\n",
      "292211 939229 /home/henning/tmp/experiments/ai/stable_diffusion/data/scrolller/img/38040804_6028b78f-8196-4dc4-82fd-ec6393d5c4b0.jpg REMOVE: None\n",
      "293000 939229 /home/henning/tmp/experiments/ai/stable_diffusion/data/scrolller/img/38114780_137d673e-39ef-4bc0-b5ed-2ccd93173746.jpg\n",
      "294000 939229 /home/henning/tmp/experiments/ai/stable_diffusion/data/scrolller/img/38207034_a792535f-414c-439a-afb4-f8e6e52dd0ae.jpg\n",
      "295000 939229 /home/henning/tmp/experiments/ai/stable_diffusion/data/scrolller/img/38301176_68f5c8ba-8ba8-4021-888c-71f4b3f9de4b.jpg\n",
      "296000 939229 /home/henning/tmp/experiments/ai/stable_diffusion/data/scrolller/img/38393502_13f64ad4-4fe0-46b5-82d2-ab58d3c1c233.jpg\n",
      "297000 939229 /home/henning/tmp/experiments/ai/stable_diffusion/data/scrolller/img/38487918_509f4580-0990-4e91-bb76-456e06a20a7c.jpg\n",
      "297348 939229 /home/henning/tmp/experiments/ai/stable_diffusion/data/scrolller/img/38519266_aec3df78-ce49-463d-92b7-9e53b1fe0f36.jpg REMOVE: None\n"
     ]
    },
    {
     "name": "stderr",
     "output_type": "stream",
     "text": [
      "libpng warning: iCCP: known incorrect sRGB profile\n"
     ]
    },
    {
     "name": "stdout",
     "output_type": "stream",
     "text": [
      "298000 939229 /home/henning/tmp/experiments/ai/stable_diffusion/data/scrolller/img/38582847_7eb579ca-86d0-48eb-b952-9e4c96e5c95d.jpg\n",
      "299000 939229 /home/henning/tmp/experiments/ai/stable_diffusion/data/scrolller/img/38676931_7014461f-d92c-4fc1-b7bd-e7155d813e25.jpg\n",
      "300000 939229 /home/henning/tmp/experiments/ai/stable_diffusion/data/scrolller/img/38772945_ea51eb1a-3586-4bbe-b20f-3529c29ca838.jpg\n",
      "301000 939229 /home/henning/tmp/experiments/ai/stable_diffusion/data/scrolller/img/38871485_146032b5-967e-43c7-a3ab-ac4cd524e1cd.jpg\n"
     ]
    },
    {
     "name": "stderr",
     "output_type": "stream",
     "text": [
      "Corrupt JPEG data: 8095 extraneous bytes before marker 0xc4\n",
      "Corrupt JPEG data: 8095 extraneous bytes before marker 0xc4\n"
     ]
    },
    {
     "name": "stdout",
     "output_type": "stream",
     "text": [
      "302000 939229 /home/henning/tmp/experiments/ai/stable_diffusion/data/scrolller/img/38964221_6ac53ca8-d2d0-4aac-bdf3-e6d19f022569.jpg\n",
      "302073 939229 /home/henning/tmp/experiments/ai/stable_diffusion/data/scrolller/img/38971496_bdb736bd-dc2c-4025-9d9b-af4406c65326.jpg REMOVE: None\n",
      "303000 939229 /home/henning/tmp/experiments/ai/stable_diffusion/data/scrolller/img/3905812_9d46de08-3e4e-4065-a3d7-50505050344e.jpg\n",
      "303131 939229 /home/henning/tmp/experiments/ai/stable_diffusion/data/scrolller/img/39070238_944a97cc-f4b7-4121-8034-09f18fbdeb92.jpg REMOVE: None\n",
      "304000 939229 /home/henning/tmp/experiments/ai/stable_diffusion/data/scrolller/img/39154280_0abde28a-dae4-4a10-881c-d3fd74b0ff4f.jpg\n",
      "305000 939229 /home/henning/tmp/experiments/ai/stable_diffusion/data/scrolller/img/39254435_e92ed39b-e103-4e5d-95d3-40e0b973af63.jpg\n"
     ]
    },
    {
     "name": "stderr",
     "output_type": "stream",
     "text": [
      "libpng warning: iCCP: known incorrect sRGB profile\n"
     ]
    },
    {
     "name": "stdout",
     "output_type": "stream",
     "text": [
      "306000 939229 /home/henning/tmp/experiments/ai/stable_diffusion/data/scrolller/img/39338887_def128c6-e062-4316-9738-a3fe96e989dc.jpg\n",
      "307000 939229 /home/henning/tmp/experiments/ai/stable_diffusion/data/scrolller/img/39435943_46a7d2f3-a9ea-41a4-b8f4-5316ba6905fc.jpg\n",
      "308000 939229 /home/henning/tmp/experiments/ai/stable_diffusion/data/scrolller/img/39530691_6c0b2ed7-ae65-4d9a-bb70-1ca38a272248.jpg\n",
      "309000 939229 /home/henning/tmp/experiments/ai/stable_diffusion/data/scrolller/img/3962989_327be65d-a30a-4d5a-bd77-1d9b8dad0dee.jpg\n",
      "310000 939229 /home/henning/tmp/experiments/ai/stable_diffusion/data/scrolller/img/39725768_b844edeb-4c49-4f5a-aa62-12af411fbda6.jpg\n",
      "311000 939229 /home/henning/tmp/experiments/ai/stable_diffusion/data/scrolller/img/39826021_82527c5f-66f6-4b34-8c6c-59466840ecb0.jpg\n",
      "312000 939229 /home/henning/tmp/experiments/ai/stable_diffusion/data/scrolller/img/39918480_4438aacd-081c-4ba1-a423-438a845a0c6d.jpg\n",
      "313000 939229 /home/henning/tmp/experiments/ai/stable_diffusion/data/scrolller/img/40014335_161cd715-858f-4082-beb7-014b5025d204.jpg\n",
      "313948 939229 /home/henning/tmp/experiments/ai/stable_diffusion/data/scrolller/img/4011284_b6443ebe-6265-4193-b831-33669c829457.jpg REMOVE: None\n",
      "314000 939229 /home/henning/tmp/experiments/ai/stable_diffusion/data/scrolller/img/40119055_105501f1-ca1a-436a-aa1b-aa6279a5fd95.jpg\n",
      "315000 939229 /home/henning/tmp/experiments/ai/stable_diffusion/data/scrolller/img/40212019_9c79aacc-f973-4a49-9e6c-ca2e5f4e5009.jpg\n",
      "315164 939229 /home/henning/tmp/experiments/ai/stable_diffusion/data/scrolller/img/40228036_7a26edc1-a8f5-4c26-95e4-40993c635abd.jpg REMOVE: None\n",
      "316000 939229 /home/henning/tmp/experiments/ai/stable_diffusion/data/scrolller/img/40309135_771ca6d3-05ea-469a-9f6d-fc73ecb845c3.jpg\n",
      "316618 939229 /home/henning/tmp/experiments/ai/stable_diffusion/data/scrolller/img/40364825_6e78d453-ca22-40ab-b0f4-b2ff1a017d9b.jpg REMOVE: None\n",
      "317000 939229 /home/henning/tmp/experiments/ai/stable_diffusion/data/scrolller/img/40399051_659672ed-eac8-48e6-9ec8-7281a437e722.jpg\n",
      "318000 939229 /home/henning/tmp/experiments/ai/stable_diffusion/data/scrolller/img/40484695_9b43f213-3c26-4107-8a66-93ccfb2de836.jpg\n",
      "319000 939229 /home/henning/tmp/experiments/ai/stable_diffusion/data/scrolller/img/40580012_29d7157b-62a7-48fb-a21d-635b2a769842.jpg\n",
      "319223 939229 /home/henning/tmp/experiments/ai/stable_diffusion/data/scrolller/img/40601396_515ca42f-33c0-42dc-8da4-030175def908.jpg REMOVE: None\n",
      "319232 939229 /home/henning/tmp/experiments/ai/stable_diffusion/data/scrolller/img/4060214_e9e940eb-633f-4a04-8fa4-7c10e277350e.jpg REMOVE: None\n",
      "320000 939229 /home/henning/tmp/experiments/ai/stable_diffusion/data/scrolller/img/40670470_c72f02a0-604e-4461-b7bc-37979b11ddd1.jpg\n",
      "321000 939229 /home/henning/tmp/experiments/ai/stable_diffusion/data/scrolller/img/40772572_44f6412f-a751-49a1-84fa-05354f6364d4.jpg\n",
      "321849 939229 /home/henning/tmp/experiments/ai/stable_diffusion/data/scrolller/img/40853587_4a858a3f-ca3e-4c4b-aa99-aa8ce82b9450.jpg REMOVE: None\n",
      "322000 939229 /home/henning/tmp/experiments/ai/stable_diffusion/data/scrolller/img/40868562_1110762c-5b7b-4141-8512-d0ed0726a5c4.jpg\n",
      "323000 939229 /home/henning/tmp/experiments/ai/stable_diffusion/data/scrolller/img/40963904_422f6886-bc5e-4ae4-941d-ad67002f8cb2.jpg\n",
      "324000 939229 /home/henning/tmp/experiments/ai/stable_diffusion/data/scrolller/img/41060752_9dbffdf7-d3fc-486a-9884-2ace90699a7e.jpg\n",
      "325000 939229 /home/henning/tmp/experiments/ai/stable_diffusion/data/scrolller/img/41152044_6af855a5-2ad2-49d9-a6aa-ad009b4a1986.jpg\n",
      "326000 939229 /home/henning/tmp/experiments/ai/stable_diffusion/data/scrolller/img/41239154_f678ea7d-0bd8-4be1-a574-2b7312fa02fd.jpg\n",
      "327000 939229 /home/henning/tmp/experiments/ai/stable_diffusion/data/scrolller/img/41341343_6a618c06-ce00-4d08-9b0b-a78fce63d95e.jpg\n",
      "328000 939229 /home/henning/tmp/experiments/ai/stable_diffusion/data/scrolller/img/41438553_9fce24c3-592e-47c0-8362-6a868f76784c.jpg\n",
      "329000 939229 /home/henning/tmp/experiments/ai/stable_diffusion/data/scrolller/img/41529327_85db044f-454b-4126-8ff5-426a2933f987.jpg\n",
      "329464 939229 /home/henning/tmp/experiments/ai/stable_diffusion/data/scrolller/img/41580974_7ff69e03-3af8-4893-b6bb-35f754d724d5.jpg REMOVE: None\n",
      "330000 939229 /home/henning/tmp/experiments/ai/stable_diffusion/data/scrolller/img/41630898_318867d9-0693-4b0a-9d80-bb7cfde85627.jpg\n",
      "331000 939229 /home/henning/tmp/experiments/ai/stable_diffusion/data/scrolller/img/41722875_2c550f5b-94d8-4e4b-8bea-e909572c7699.jpg\n"
     ]
    },
    {
     "name": "stderr",
     "output_type": "stream",
     "text": [
      "/home/henning/tmp/experiments/ai/stable_diffusion/venv/lib/python3.11/site-packages/PIL/Image.py:3186: DecompressionBombWarning: Image size (108000000 pixels) exceeds limit of 89478485 pixels, could be decompression bomb DOS attack.\n",
      "  warnings.warn(\n"
     ]
    },
    {
     "name": "stdout",
     "output_type": "stream",
     "text": [
      "332000 939229 /home/henning/tmp/experiments/ai/stable_diffusion/data/scrolller/img/41820586_3b75832a-4ebb-4a2a-a2fc-80e13f7724af.jpg\n",
      "333000 939229 /home/henning/tmp/experiments/ai/stable_diffusion/data/scrolller/img/41915164_357d6157-89ab-4a27-b4a5-f1f95b726755.jpg\n",
      "334000 939229 /home/henning/tmp/experiments/ai/stable_diffusion/data/scrolller/img/42010830_8c9a4ba1-5833-4c36-b72a-9d44af47608e.jpg\n",
      "335000 939229 /home/henning/tmp/experiments/ai/stable_diffusion/data/scrolller/img/42105695_fdc57fad-34b3-4455-96bc-50379863e3ae.jpg\n",
      "336000 939229 /home/henning/tmp/experiments/ai/stable_diffusion/data/scrolller/img/42210728_e3d939c8-b716-41b1-a8d3-40244dd84802.jpg\n",
      "337000 939229 /home/henning/tmp/experiments/ai/stable_diffusion/data/scrolller/img/42301724_2a47c5ab-0769-4bc2-9772-41eb4919bc41.jpg\n",
      "338000 939229 /home/henning/tmp/experiments/ai/stable_diffusion/data/scrolller/img/42400992_ddd40b16-606a-4832-9944-f5da96361f73.jpg\n",
      "339000 939229 /home/henning/tmp/experiments/ai/stable_diffusion/data/scrolller/img/42500114_357233e6-70c5-4293-a9e9-91c7c2a80258.jpg\n",
      "339178 939229 /home/henning/tmp/experiments/ai/stable_diffusion/data/scrolller/img/42517350_4b91598a-5703-4896-b085-2b0dfd56ea24.jpg REMOVE: None\n",
      "340000 939229 /home/henning/tmp/experiments/ai/stable_diffusion/data/scrolller/img/42587351_9220692b-83e6-4d11-ab00-3639e15ab862.jpg\n",
      "341000 939229 /home/henning/tmp/experiments/ai/stable_diffusion/data/scrolller/img/42677069_35b2042d-d744-43c4-bc44-3b189bd6ce14.jpg\n",
      "341844 939229 /home/henning/tmp/experiments/ai/stable_diffusion/data/scrolller/img/42763371_8065773b-35f6-49c7-825a-85c1a2d8a0da.jpg REMOVE: None\n",
      "342000 939229 /home/henning/tmp/experiments/ai/stable_diffusion/data/scrolller/img/42777853_276e3eb4-7883-4296-9683-ac3919fa2fe7.jpg\n",
      "343000 939229 /home/henning/tmp/experiments/ai/stable_diffusion/data/scrolller/img/42874093_1978772f-fe03-4bb6-8cfc-7d65cf1b0257.jpg\n",
      "344000 939229 /home/henning/tmp/experiments/ai/stable_diffusion/data/scrolller/img/42962541_a57dc5d7-ee0c-4317-bc5e-84d78a3c2e1b.jpg\n"
     ]
    },
    {
     "name": "stderr",
     "output_type": "stream",
     "text": [
      "libpng warning: iCCP: out of place\n"
     ]
    },
    {
     "name": "stdout",
     "output_type": "stream",
     "text": [
      "345000 939229 /home/henning/tmp/experiments/ai/stable_diffusion/data/scrolller/img/43064016_de72a528-205f-411b-9ca0-3ce4fcb76907.jpg\n",
      "346000 939229 /home/henning/tmp/experiments/ai/stable_diffusion/data/scrolller/img/43159799_2eef6125-af5e-4a07-b79d-4485a89b44b7.jpg\n",
      "347000 939229 /home/henning/tmp/experiments/ai/stable_diffusion/data/scrolller/img/43250516_e493d63a-380d-49f1-8a56-e022f687c520.jpg\n"
     ]
    },
    {
     "name": "stderr",
     "output_type": "stream",
     "text": [
      "libpng warning: iCCP: known incorrect sRGB profile\n"
     ]
    },
    {
     "name": "stdout",
     "output_type": "stream",
     "text": [
      "348000 939229 /home/henning/tmp/experiments/ai/stable_diffusion/data/scrolller/img/43339374_901582ba-186c-4ff6-81d1-de1ffa690d84.jpg\n",
      "348034 939229 /home/henning/tmp/experiments/ai/stable_diffusion/data/scrolller/img/43343105_4d3a0229-badd-4eda-815c-ca902123482c.jpg REMOVE: None\n",
      "349000 939229 /home/henning/tmp/experiments/ai/stable_diffusion/data/scrolller/img/4342550_22f4a0e9-498a-4c06-b726-3778de195ec8.jpg\n",
      "350000 939229 /home/henning/tmp/experiments/ai/stable_diffusion/data/scrolller/img/43519065_c47a4089-fe7e-4824-97b6-fd59c06d9b1f.jpg\n",
      "351000 939229 /home/henning/tmp/experiments/ai/stable_diffusion/data/scrolller/img/43608579_cde3931e-92a6-406f-91ad-ea54ffde1ceb.jpg\n",
      "351795 939229 /home/henning/tmp/experiments/ai/stable_diffusion/data/scrolller/img/43682964_b7a29dc2-e923-4ff5-943a-0f278df63593.jpg REMOVE: None\n",
      "352000 939229 /home/henning/tmp/experiments/ai/stable_diffusion/data/scrolller/img/43703105_36719ac9-7eb3-42fc-8d3f-4cd0495757b0.jpg\n",
      "353000 939229 /home/henning/tmp/experiments/ai/stable_diffusion/data/scrolller/img/43796840_2a1d79c3-c80e-4c0a-a6f8-42e051229cac.jpg\n",
      "354000 939229 /home/henning/tmp/experiments/ai/stable_diffusion/data/scrolller/img/43900153_65b42a37-e6aa-4d5c-868f-4818295001b7.jpg\n",
      "355000 939229 /home/henning/tmp/experiments/ai/stable_diffusion/data/scrolller/img/43996033_0bcc1358-c937-489e-8fa3-64ae3d477634.jpg\n",
      "356000 939229 /home/henning/tmp/experiments/ai/stable_diffusion/data/scrolller/img/44087257_a2e45e1e-b85d-4e43-94d5-3047204fc865.jpg\n"
     ]
    },
    {
     "name": "stderr",
     "output_type": "stream",
     "text": [
      "libpng warning: iCCP: known incorrect sRGB profile\n"
     ]
    },
    {
     "name": "stdout",
     "output_type": "stream",
     "text": [
      "357000 939229 /home/henning/tmp/experiments/ai/stable_diffusion/data/scrolller/img/44181076_ff46401f-6361-4b0c-ae23-51c10db7f0b9.jpg\n"
     ]
    },
    {
     "name": "stderr",
     "output_type": "stream",
     "text": [
      "Corrupt JPEG data: premature end of data segment\n",
      "Corrupt JPEG data: premature end of data segment\n"
     ]
    },
    {
     "name": "stdout",
     "output_type": "stream",
     "text": [
      "358000 939229 /home/henning/tmp/experiments/ai/stable_diffusion/data/scrolller/img/44279632_7a839345-01e6-4ecf-bc56-ca62c8b619bf.jpg\n",
      "358003 939229 /home/henning/tmp/experiments/ai/stable_diffusion/data/scrolller/img/44279863_7491520e-f755-45d6-953a-613a9069008c.jpg REMOVE: None\n",
      "359000 939229 /home/henning/tmp/experiments/ai/stable_diffusion/data/scrolller/img/4438522_6f7ec96f-003c-4ccf-8922-d6ddaa671521.jpg\n",
      "359007 939229 /home/henning/tmp/experiments/ai/stable_diffusion/data/scrolller/img/44386106_b105795b-5242-44ed-a21e-30452ba48bae.jpg REMOVE: None\n",
      "360000 939229 /home/henning/tmp/experiments/ai/stable_diffusion/data/scrolller/img/4448061_766817a7-b32c-4454-8b8e-33b8c6405719.jpg\n",
      "360486 939229 /home/henning/tmp/experiments/ai/stable_diffusion/data/scrolller/img/44527881_d7543572-4ef3-40d3-94e3-2ba69e690312.jpg REMOVE: None\n"
     ]
    },
    {
     "name": "stderr",
     "output_type": "stream",
     "text": [
      "libpng warning: iCCP: known incorrect sRGB profile\n"
     ]
    },
    {
     "name": "stdout",
     "output_type": "stream",
     "text": [
      "361000 939229 /home/henning/tmp/experiments/ai/stable_diffusion/data/scrolller/img/44578821_f64c82d5-3148-4c01-8000-ab9dc492bd54.jpg\n",
      "362000 939229 /home/henning/tmp/experiments/ai/stable_diffusion/data/scrolller/img/44668695_784468c0-1087-4cd7-8a3b-0ab2dd2c08e2.jpg\n",
      "363000 939229 /home/henning/tmp/experiments/ai/stable_diffusion/data/scrolller/img/44767965_a0e60c24-ad1b-4d75-aeba-3d3a577bc6d3.jpg\n",
      "364000 939229 /home/henning/tmp/experiments/ai/stable_diffusion/data/scrolller/img/44862080_350d321a-bd85-4335-b918-1d3604bb1a91.jpg\n",
      "365000 939229 /home/henning/tmp/experiments/ai/stable_diffusion/data/scrolller/img/44958569_5f4d1ae8-9ae9-4544-bdf1-d26567856af9.jpg\n",
      "365265 939229 /home/henning/tmp/experiments/ai/stable_diffusion/data/scrolller/img/44984999_8de7a251-052d-4e45-8c9b-9aacfc7d237c.jpg REMOVE: None\n",
      "366000 939229 /home/henning/tmp/experiments/ai/stable_diffusion/data/scrolller/img/45060020_0e536b3f-6601-4c26-a13f-ca3929898c1d.jpg\n"
     ]
    },
    {
     "name": "stderr",
     "output_type": "stream",
     "text": [
      "Corrupt JPEG data: 8095 extraneous bytes before marker 0xc4\n",
      "Corrupt JPEG data: 8095 extraneous bytes before marker 0xc4\n",
      "Corrupt JPEG data: 8095 extraneous bytes before marker 0xc4\n",
      "Corrupt JPEG data: 8095 extraneous bytes before marker 0xc4\n",
      "Corrupt JPEG data: 8095 extraneous bytes before marker 0xc4\n"
     ]
    },
    {
     "name": "stdout",
     "output_type": "stream",
     "text": [
      "366800 939229 /home/henning/tmp/experiments/ai/stable_diffusion/data/scrolller/img/45134446_75eae84c-1d01-4aff-8f13-4303a589dc65.jpg REMOVE: None\n",
      "367000 939229 /home/henning/tmp/experiments/ai/stable_diffusion/data/scrolller/img/45152392_515c30a4-9c7f-486d-a9d5-0ed2a17d7851.jpg\n",
      "368000 939229 /home/henning/tmp/experiments/ai/stable_diffusion/data/scrolller/img/45253729_e7122f71-9d17-478d-85c2-a7e39636e3e9.jpg\n",
      "369000 939229 /home/henning/tmp/experiments/ai/stable_diffusion/data/scrolller/img/45340324_525f968f-f1f1-488c-9917-282567473042.jpg\n",
      "370000 939229 /home/henning/tmp/experiments/ai/stable_diffusion/data/scrolller/img/45433369_a7d60dbd-a4b7-4bdc-8fa0-d890658dc51c.jpg\n",
      "371000 939229 /home/henning/tmp/experiments/ai/stable_diffusion/data/scrolller/img/45530895_9dffc708-d3d0-43bf-a111-f6c472db9549.jpg\n",
      "372000 939229 /home/henning/tmp/experiments/ai/stable_diffusion/data/scrolller/img/45629655_6c7edeed-5dde-4f23-a4a8-b9d56e9099d5.jpg\n",
      "373000 939229 /home/henning/tmp/experiments/ai/stable_diffusion/data/scrolller/img/45720770_0786accb-d004-4f34-b58b-8929e353a256.jpg\n",
      "374000 939229 /home/henning/tmp/experiments/ai/stable_diffusion/data/scrolller/img/45819992_82c33ec2-450c-4dc2-9075-a0426e79dbe8.jpg\n",
      "375000 939229 /home/henning/tmp/experiments/ai/stable_diffusion/data/scrolller/img/45920455_77be4ec2-0896-442b-a1f5-fa2a02cea1b4.jpg\n",
      "376000 939229 /home/henning/tmp/experiments/ai/stable_diffusion/data/scrolller/img/46022326_602aeb6c-3483-41a8-985b-decc7cc936ae.jpg\n",
      "376963 939229 /home/henning/tmp/experiments/ai/stable_diffusion/data/scrolller/img/46112939_0dc9e69e-3163-480b-81c2-cfb988a85d3e.jpg REMOVE: None\n",
      "377000 939229 /home/henning/tmp/experiments/ai/stable_diffusion/data/scrolller/img/46116327_8cb43b3d-ced5-4acb-b1fa-4354409dc739.jpg\n",
      "378000 939229 /home/henning/tmp/experiments/ai/stable_diffusion/data/scrolller/img/46218855_0c17f156-0b80-4435-bca8-f966d695cc76.jpg\n",
      "379000 939229 /home/henning/tmp/experiments/ai/stable_diffusion/data/scrolller/img/46316600_e29ac8d5-873e-43ea-9375-39fab9a6afe0.jpg\n",
      "380000 939229 /home/henning/tmp/experiments/ai/stable_diffusion/data/scrolller/img/46406554_180af308-7867-41ed-b6eb-396ee262bc59.jpg\n",
      "381000 939229 /home/henning/tmp/experiments/ai/stable_diffusion/data/scrolller/img/4649764_b6fad360-8052-4de8-83f9-fd5cc8e065cb.jpg\n",
      "382000 939229 /home/henning/tmp/experiments/ai/stable_diffusion/data/scrolller/img/46596032_fa5b640b-8d52-47cc-b625-5b455e6c9a8e.jpg\n",
      "383000 939229 /home/henning/tmp/experiments/ai/stable_diffusion/data/scrolller/img/46693245_e6ae61ed-6764-433b-9576-025866bd8f89.jpg\n",
      "384000 939229 /home/henning/tmp/experiments/ai/stable_diffusion/data/scrolller/img/46793608_2559a034-0564-48f8-ba84-206889aaa648.jpg\n",
      "385000 939229 /home/henning/tmp/experiments/ai/stable_diffusion/data/scrolller/img/46886686_26dd00d2-bfaa-497d-8778-3714a7ad9bb9.jpg\n",
      "386000 939229 /home/henning/tmp/experiments/ai/stable_diffusion/data/scrolller/img/46983649_4617ab78-fa46-486a-9bfd-eac16d06a2d4.jpg\n",
      "386193 939229 /home/henning/tmp/experiments/ai/stable_diffusion/data/scrolller/img/47002606_345e5210-7a99-4e8c-b8d3-8f463ef61f69.jpg REMOVE: None\n",
      "387000 939229 /home/henning/tmp/experiments/ai/stable_diffusion/data/scrolller/img/47079304_99175e18-c743-407e-9079-640ec7388f13.jpg\n",
      "388000 939229 /home/henning/tmp/experiments/ai/stable_diffusion/data/scrolller/img/47173990_7e76201e-b35f-43f4-9f3c-a508dd09de66.jpg\n",
      "389000 939229 /home/henning/tmp/experiments/ai/stable_diffusion/data/scrolller/img/47266668_f45dc381-201e-489b-b153-2e9e768aae6c.jpg\n",
      "390000 939229 /home/henning/tmp/experiments/ai/stable_diffusion/data/scrolller/img/47366209_e41ad5e1-2044-411d-a53d-24b5418dbc10.jpg\n",
      "390094 939229 /home/henning/tmp/experiments/ai/stable_diffusion/data/scrolller/img/47373979_8bb3df7e-73ff-4dd1-84d9-e52d7992c5fb.jpg REMOVE: None\n",
      "391000 939229 /home/henning/tmp/experiments/ai/stable_diffusion/data/scrolller/img/47468860_7522a826-4896-459d-8979-44b46fbc21ca.jpg\n"
     ]
    },
    {
     "name": "stderr",
     "output_type": "stream",
     "text": [
      "libpng warning: iCCP: extra compressed data\n"
     ]
    },
    {
     "name": "stdout",
     "output_type": "stream",
     "text": [
      "392000 939229 /home/henning/tmp/experiments/ai/stable_diffusion/data/scrolller/img/47569897_55be0fbe-9df1-45e5-834e-6069c2f44137.jpg\n",
      "393000 939229 /home/henning/tmp/experiments/ai/stable_diffusion/data/scrolller/img/47677713_4ef38594-55bf-447c-ac43-a2528b1e4778.jpg\n",
      "394000 939229 /home/henning/tmp/experiments/ai/stable_diffusion/data/scrolller/img/47774139_848f1b72-c107-4200-b904-3eba7e94ae0a.jpg\n",
      "395000 939229 /home/henning/tmp/experiments/ai/stable_diffusion/data/scrolller/img/47871256_a1b17928-0ad7-409d-9602-420e6d61e43d.jpg\n"
     ]
    },
    {
     "name": "stderr",
     "output_type": "stream",
     "text": [
      "libpng warning: iCCP: known incorrect sRGB profile\n"
     ]
    },
    {
     "name": "stdout",
     "output_type": "stream",
     "text": [
      "396000 939229 /home/henning/tmp/experiments/ai/stable_diffusion/data/scrolller/img/47964324_e0c49ade-a9cd-4bb0-ad8c-678a3ccfdd64.jpg\n",
      "397000 939229 /home/henning/tmp/experiments/ai/stable_diffusion/data/scrolller/img/48054450_e73fc41a-d5d0-4010-93d6-2f11d2a0465c.jpg\n",
      "398000 939229 /home/henning/tmp/experiments/ai/stable_diffusion/data/scrolller/img/48144399_6e8e1ce3-8864-42dc-b0de-46faffb3d353.jpg\n",
      "399000 939229 /home/henning/tmp/experiments/ai/stable_diffusion/data/scrolller/img/48235265_c55c41c1-6d43-4711-9b75-07261d7d4d40.jpg\n",
      "399656 939229 /home/henning/tmp/experiments/ai/stable_diffusion/data/scrolller/img/48296016_cbe59499-db37-4ac2-8e8d-b5294fbc6106.jpg REMOVE: None\n",
      "400000 939229 /home/henning/tmp/experiments/ai/stable_diffusion/data/scrolller/img/48328535_850e473a-065f-4268-95da-2a6140e89a25.jpg\n",
      "401000 939229 /home/henning/tmp/experiments/ai/stable_diffusion/data/scrolller/img/48420428_7664cccb-f703-4449-b152-e981ee40849d.jpg\n",
      "401935 939229 /home/henning/tmp/experiments/ai/stable_diffusion/data/scrolller/img/4850901_e3e49808-f41b-4939-a8d8-2f9c4643b247.jpg REMOVE: None\n",
      "402000 939229 /home/henning/tmp/experiments/ai/stable_diffusion/data/scrolller/img/48516348_436812c2-bb2b-4fb3-900d-8b6238f74622.jpg\n",
      "403000 939229 /home/henning/tmp/experiments/ai/stable_diffusion/data/scrolller/img/48614143_2c8ecd7c-488b-4873-9737-13fc306c607b.jpg\n",
      "403523 939229 /home/henning/tmp/experiments/ai/stable_diffusion/data/scrolller/img/48661367_7f4f4964-8b7c-4089-b0d2-2e8b95be8aad.jpg REMOVE: None\n"
     ]
    },
    {
     "name": "stderr",
     "output_type": "stream",
     "text": [
      "libpng warning: iCCP: known incorrect sRGB profile\n"
     ]
    },
    {
     "name": "stdout",
     "output_type": "stream",
     "text": [
      "404000 939229 /home/henning/tmp/experiments/ai/stable_diffusion/data/scrolller/img/48704890_5450387f-5038-4214-ac34-8fdb7493e3db.jpg\n",
      "404249 939229 /home/henning/tmp/experiments/ai/stable_diffusion/data/scrolller/img/48728688_6426e000-eb74-4d0f-bd28-6a9753585c67.jpg REMOVE: None\n",
      "405000 939229 /home/henning/tmp/experiments/ai/stable_diffusion/data/scrolller/img/4879645_d2c6ed33-959a-4eff-9d8e-02e2f41ffe6b.jpg\n",
      "406000 939229 /home/henning/tmp/experiments/ai/stable_diffusion/data/scrolller/img/48894129_4b93c1c9-33a3-4715-b534-8c20b7ed55ca.jpg\n",
      "407000 939229 /home/henning/tmp/experiments/ai/stable_diffusion/data/scrolller/img/48987306_253697f7-4bf9-4303-bfe0-68f73374b7c8.jpg\n",
      "408000 939229 /home/henning/tmp/experiments/ai/stable_diffusion/data/scrolller/img/49079854_d3b27302-c6d5-4cc8-b749-a8b0622298a8.jpg\n",
      "409000 939229 /home/henning/tmp/experiments/ai/stable_diffusion/data/scrolller/img/49169878_85666619-932b-40ea-b2a8-342028e5bf55.jpg\n",
      "409021 939229 /home/henning/tmp/experiments/ai/stable_diffusion/data/scrolller/img/4917270_32865e32-1b97-42d0-ba38-61153c35378c.jpg REMOVE: None\n",
      "410000 939229 /home/henning/tmp/experiments/ai/stable_diffusion/data/scrolller/img/49259507_20acdfbc-c55a-47a1-9c07-70ce9d664708.jpg\n",
      "411000 939229 /home/henning/tmp/experiments/ai/stable_diffusion/data/scrolller/img/49353297_35019464-fa3d-4444-8e55-125128ca28dd.jpg\n",
      "412000 939229 /home/henning/tmp/experiments/ai/stable_diffusion/data/scrolller/img/49448199_08c9375b-bc60-45df-8fd4-72ea0f4400b9.jpg\n",
      "413000 939229 /home/henning/tmp/experiments/ai/stable_diffusion/data/scrolller/img/49541379_47d4e79d-a20d-468a-bf58-f4ae992f662d.jpg\n"
     ]
    },
    {
     "name": "stderr",
     "output_type": "stream",
     "text": [
      "libpng warning: iCCP: known incorrect sRGB profile\n"
     ]
    },
    {
     "name": "stdout",
     "output_type": "stream",
     "text": [
      "414000 939229 /home/henning/tmp/experiments/ai/stable_diffusion/data/scrolller/img/49626693_814cf6ba-17e2-432a-ad3e-40e431709499.jpg\n",
      "415000 939229 /home/henning/tmp/experiments/ai/stable_diffusion/data/scrolller/img/49721856_31b4bc6b-6402-45d4-8522-f36fce108588.jpg\n",
      "416000 939229 /home/henning/tmp/experiments/ai/stable_diffusion/data/scrolller/img/49824732_355a79b5-4b89-4782-aa03-30e19d7fdc9f.jpg\n",
      "416838 939229 /home/henning/tmp/experiments/ai/stable_diffusion/data/scrolller/img/49912973_2437920c-ef74-40ff-b22b-89d5003803bc.jpg REMOVE: None\n",
      "417000 939229 /home/henning/tmp/experiments/ai/stable_diffusion/data/scrolller/img/49928794_f8756711-5f9f-46c6-871b-7d3d95528d60.jpg\n",
      "417678 939229 /home/henning/tmp/experiments/ai/stable_diffusion/data/scrolller/img/49988724_8abefc82-9634-45f3-a261-0947b6faabfa.jpg REMOVE: None\n",
      "418000 939229 /home/henning/tmp/experiments/ai/stable_diffusion/data/scrolller/img/50019568_002243df-8824-48d8-bbf9-a7d742c37668.jpg\n",
      "419000 939229 /home/henning/tmp/experiments/ai/stable_diffusion/data/scrolller/img/50114386_b7b6d796-c5b4-4fae-b493-eef8c13df185.jpg\n",
      "420000 939229 /home/henning/tmp/experiments/ai/stable_diffusion/data/scrolller/img/50216177_0f543907-9023-48f3-8b8f-f261b423aca8.jpg\n",
      "420481 939229 /home/henning/tmp/experiments/ai/stable_diffusion/data/scrolller/img/50266348_3317420e-a485-461b-8be3-62344e334c88.jpg REMOVE: None\n",
      "420522 939229 /home/henning/tmp/experiments/ai/stable_diffusion/data/scrolller/img/50269865_690e2bf0-23e0-42f6-a9b4-42b95d7b5b4a.jpg REMOVE: None\n",
      "421000 939229 /home/henning/tmp/experiments/ai/stable_diffusion/data/scrolller/img/50314446_f6006f0b-10d6-4d43-a11d-68c1aea85cb7.jpg\n",
      "422000 939229 /home/henning/tmp/experiments/ai/stable_diffusion/data/scrolller/img/50406005_549603b1-7cfc-4060-8400-4f1feb0d98cc.jpg\n",
      "423000 939229 /home/henning/tmp/experiments/ai/stable_diffusion/data/scrolller/img/50504303_e923d2d2-9fa8-4272-b806-94d8caa0ce8c.jpg\n",
      "424000 939229 /home/henning/tmp/experiments/ai/stable_diffusion/data/scrolller/img/5060622_4dd95a4d-ea20-46df-972c-6f634b1e9238.jpg\n",
      "425000 939229 /home/henning/tmp/experiments/ai/stable_diffusion/data/scrolller/img/50700565_c59fc8f5-d2f1-4fa4-9e2e-7b646b5b0da3.jpg\n",
      "426000 939229 /home/henning/tmp/experiments/ai/stable_diffusion/data/scrolller/img/50797931_40e07b52-bc57-4adb-affe-f44e0e039480.jpg\n",
      "426627 939229 /home/henning/tmp/experiments/ai/stable_diffusion/data/scrolller/img/50858728_a1d23ea7-91b3-4219-baeb-dce092249aaa.jpg REMOVE: None\n",
      "427000 939229 /home/henning/tmp/experiments/ai/stable_diffusion/data/scrolller/img/50898160_f83a2d64-9b58-4ac5-bd90-1f6085ea19d5.jpg\n"
     ]
    },
    {
     "name": "stderr",
     "output_type": "stream",
     "text": [
      "libpng warning: iCCP: known incorrect sRGB profile\n"
     ]
    },
    {
     "name": "stdout",
     "output_type": "stream",
     "text": [
      "428000 939229 /home/henning/tmp/experiments/ai/stable_diffusion/data/scrolller/img/50999643_28c136b8-7f1f-42d0-9718-4334264dd284.jpg\n",
      "429000 939229 /home/henning/tmp/experiments/ai/stable_diffusion/data/scrolller/img/51091374_e2489a7a-d885-4d34-9ef1-31604832efcf.jpg\n",
      "430000 939229 /home/henning/tmp/experiments/ai/stable_diffusion/data/scrolller/img/51189800_6e9ef6fe-c0de-465e-83c5-90e374201549.jpg\n",
      "431000 939229 /home/henning/tmp/experiments/ai/stable_diffusion/data/scrolller/img/51294610_0da03c68-71ba-404e-8985-ec44c6be21cd.jpg\n",
      "432000 939229 /home/henning/tmp/experiments/ai/stable_diffusion/data/scrolller/img/5138675_c35502d3-01a0-4ce4-be57-1f63edb9090a.jpg\n",
      "433000 939229 /home/henning/tmp/experiments/ai/stable_diffusion/data/scrolller/img/51486695_6c0ad922-13d6-4b66-a77d-7e12e141fd71.jpg\n",
      "433927 939229 /home/henning/tmp/experiments/ai/stable_diffusion/data/scrolller/img/51578601_0c6e0893-52d9-4515-88c2-5721e225e6b3.jpg REMOVE: None\n",
      "434000 939229 /home/henning/tmp/experiments/ai/stable_diffusion/data/scrolller/img/51585858_1fefd588-b127-4967-aa7e-d2ecf61c166c.jpg\n",
      "435000 939229 /home/henning/tmp/experiments/ai/stable_diffusion/data/scrolller/img/5168023_a48efee5-d1ca-4ff2-9588-2cc78173dee6.jpg\n",
      "436000 939229 /home/henning/tmp/experiments/ai/stable_diffusion/data/scrolller/img/51775099_554190bd-c380-4b8d-b555-30373f5a3fde.jpg\n",
      "437000 939229 /home/henning/tmp/experiments/ai/stable_diffusion/data/scrolller/img/51871661_1d36190a-f66c-4f1a-9db1-cc2baf519545.jpg\n",
      "438000 939229 /home/henning/tmp/experiments/ai/stable_diffusion/data/scrolller/img/51976462_a0a04a04-0308-4dbd-8934-608ac58efe9b.jpg\n",
      "438047 939229 /home/henning/tmp/experiments/ai/stable_diffusion/data/scrolller/img/51981215_47646d37-1c6c-4a29-b5c8-7551e0c08798.jpg REMOVE: None\n",
      "439000 939229 /home/henning/tmp/experiments/ai/stable_diffusion/data/scrolller/img/52074799_86d5b51d-c6fa-4315-8548-7213e3aa00a0.jpg\n",
      "440000 939229 /home/henning/tmp/experiments/ai/stable_diffusion/data/scrolller/img/52163698_f8fad15d-79db-46ac-a287-10fecfd1cee9.jpg\n",
      "441000 939229 /home/henning/tmp/experiments/ai/stable_diffusion/data/scrolller/img/52253607_3a17b10d-6212-48dc-ae73-9b10aa4e8f63.jpg\n",
      "442000 939229 /home/henning/tmp/experiments/ai/stable_diffusion/data/scrolller/img/52350458_3f2a8d0e-5eb8-48e6-ba8d-e6559caea179.jpg\n",
      "443000 939229 /home/henning/tmp/experiments/ai/stable_diffusion/data/scrolller/img/52447401_c89bf8c5-d768-4a72-a6ba-f7ae5d2e780e.jpg\n",
      "444000 939229 /home/henning/tmp/experiments/ai/stable_diffusion/data/scrolller/img/52524911_09d7dde2-38f5-49dd-823a-26d2a9c7fae7.jpg\n",
      "445000 939229 /home/henning/tmp/experiments/ai/stable_diffusion/data/scrolller/img/52614675_d244557a-6ea0-43bb-bfd8-04d2a2aca01d.jpg\n",
      "446000 939229 /home/henning/tmp/experiments/ai/stable_diffusion/data/scrolller/img/52717606_c42a980a-3333-4208-959b-723a952bf11a.jpg\n",
      "447000 939229 /home/henning/tmp/experiments/ai/stable_diffusion/data/scrolller/img/52817412_950030af-242b-4ff8-b56d-0c8301ccd9bc.jpg\n",
      "448000 939229 /home/henning/tmp/experiments/ai/stable_diffusion/data/scrolller/img/52915771_7c1dfc86-30b7-46ad-92e8-65d69d2c91c9.jpg\n",
      "449000 939229 /home/henning/tmp/experiments/ai/stable_diffusion/data/scrolller/img/53007075_907b9c14-4173-4b58-955f-870b1da1daac.jpg\n",
      "450000 939229 /home/henning/tmp/experiments/ai/stable_diffusion/data/scrolller/img/53103706_b5f6820c-1a0f-4bf9-ab75-0ddf7b2b8fa6.jpg\n",
      "451000 939229 /home/henning/tmp/experiments/ai/stable_diffusion/data/scrolller/img/5319605_ee735f43-956f-48e0-b374-d65db0878831.jpg\n",
      "452000 939229 /home/henning/tmp/experiments/ai/stable_diffusion/data/scrolller/img/5329240_b1b17d33-1f9b-4416-9e0a-e38b6d8c899e.jpg\n",
      "453000 939229 /home/henning/tmp/experiments/ai/stable_diffusion/data/scrolller/img/5338821_f433846f-996d-47bf-9db6-49d569354b8a.jpg\n",
      "454000 939229 /home/henning/tmp/experiments/ai/stable_diffusion/data/scrolller/img/53484809_64405f39-6168-4257-a9a1-3f224df17d51.jpg\n",
      "454181 939229 /home/henning/tmp/experiments/ai/stable_diffusion/data/scrolller/img/53500692_ea173820-838c-4b9e-a83e-9b6962807339.jpg REMOVE: None\n",
      "455000 939229 /home/henning/tmp/experiments/ai/stable_diffusion/data/scrolller/img/53580049_3c3e78a6-f696-4658-8642-ae4ccfd812fc.jpg\n",
      "456000 939229 /home/henning/tmp/experiments/ai/stable_diffusion/data/scrolller/img/53668359_49f4cb68-7e66-4c81-a748-8c55270f0da8.jpg\n",
      "457000 939229 /home/henning/tmp/experiments/ai/stable_diffusion/data/scrolller/img/53773425_575a2012-a048-4781-9d2a-f36cce1a3f23.jpg\n"
     ]
    },
    {
     "name": "stderr",
     "output_type": "stream",
     "text": [
      "/home/henning/tmp/experiments/ai/stable_diffusion/venv/lib/python3.11/site-packages/PIL/Image.py:3186: DecompressionBombWarning: Image size (96186205 pixels) exceeds limit of 89478485 pixels, could be decompression bomb DOS attack.\n",
      "  warnings.warn(\n"
     ]
    },
    {
     "name": "stdout",
     "output_type": "stream",
     "text": [
      "458000 939229 /home/henning/tmp/experiments/ai/stable_diffusion/data/scrolller/img/53871757_15ab7b56-e6fa-41b7-a53d-584af0935d6d.jpg\n",
      "459000 939229 /home/henning/tmp/experiments/ai/stable_diffusion/data/scrolller/img/53974091_170fa59f-0515-4c01-9b1d-89c2547ff43e.jpg\n",
      "460000 939229 /home/henning/tmp/experiments/ai/stable_diffusion/data/scrolller/img/54067811_dc661b52-105e-4df9-a8d1-26b331565f25.jpg\n",
      "461000 939229 /home/henning/tmp/experiments/ai/stable_diffusion/data/scrolller/img/54166071_34af6737-71bb-445e-a7cc-d2a8f257eac6.jpg\n",
      "462000 939229 /home/henning/tmp/experiments/ai/stable_diffusion/data/scrolller/img/54264197_728946fe-fd4f-4464-84e8-bcb2f12df3e4.jpg\n",
      "463000 939229 /home/henning/tmp/experiments/ai/stable_diffusion/data/scrolller/img/54360155_41bfe408-6270-47cb-ba0b-7ce27f320f9f.jpg\n",
      "464000 939229 /home/henning/tmp/experiments/ai/stable_diffusion/data/scrolller/img/54454832_259b0b4e-ddf2-4dba-882b-8e6b5e3cdb42.jpg\n",
      "465000 939229 /home/henning/tmp/experiments/ai/stable_diffusion/data/scrolller/img/54552548_60d50425-6d7c-4e24-b95c-5ce2559cbe66.jpg\n",
      "466000 939229 /home/henning/tmp/experiments/ai/stable_diffusion/data/scrolller/img/54649233_b672dfdb-c86d-4303-8e83-bfbabab7244d.jpg\n",
      "466700 939229 /home/henning/tmp/experiments/ai/stable_diffusion/data/scrolller/img/54720703_9cfafb95-361a-4761-bfe9-0110e68b9feb.jpg REMOVE: None\n"
     ]
    },
    {
     "name": "stderr",
     "output_type": "stream",
     "text": [
      "libpng warning: iCCP: known incorrect sRGB profile\n"
     ]
    },
    {
     "name": "stdout",
     "output_type": "stream",
     "text": [
      "467000 939229 /home/henning/tmp/experiments/ai/stable_diffusion/data/scrolller/img/54752763_31c3a93d-60d8-4346-949d-fb5cf799cbd7.jpg\n",
      "468000 939229 /home/henning/tmp/experiments/ai/stable_diffusion/data/scrolller/img/54850281_47f3952b-ffa7-4792-b777-76b687a1f82a.jpg\n",
      "469000 939229 /home/henning/tmp/experiments/ai/stable_diffusion/data/scrolller/img/54942312_cb74f18f-8822-496e-97a8-33021ed25c24.jpg\n"
     ]
    },
    {
     "name": "stderr",
     "output_type": "stream",
     "text": [
      "Premature end of JPEG file\n"
     ]
    },
    {
     "name": "stdout",
     "output_type": "stream",
     "text": [
      "/home/henning/tmp/experiments/ai/stable_diffusion/data/scrolller/img/54957166_fcbc026d-ad87-46b1-9a21-126ec98a9bc3.jpg image file is truncated (35 bytes not processed)\n",
      "470000 939229 /home/henning/tmp/experiments/ai/stable_diffusion/data/scrolller/img/5503949_397fc6c0-a94e-4424-a6a8-5f782e0a771d.jpg\n",
      "471000 939229 /home/henning/tmp/experiments/ai/stable_diffusion/data/scrolller/img/55127457_19f8b2c5-dcd1-43fe-97e0-5a3f335f4dd3.jpg\n",
      "472000 939229 /home/henning/tmp/experiments/ai/stable_diffusion/data/scrolller/img/55219919_d49a4a87-9463-43da-a7ea-63d2f6ee770b.jpg\n",
      "472422 939229 /home/henning/tmp/experiments/ai/stable_diffusion/data/scrolller/img/55257440_1fb0a24e-95f8-4b3a-a098-f582828d4bbd.jpg REMOVE: None\n",
      "473000 939229 /home/henning/tmp/experiments/ai/stable_diffusion/data/scrolller/img/5531697_9ad97fb0-6fbb-46b1-b6bf-0637b68ebc6a.jpg\n",
      "474000 939229 /home/henning/tmp/experiments/ai/stable_diffusion/data/scrolller/img/55410707_4515ea43-0691-4b02-afa3-86b847e8ef05.jpg\n",
      "475000 939229 /home/henning/tmp/experiments/ai/stable_diffusion/data/scrolller/img/55505437_f32a7599-53a8-42d5-9e75-9b33c53b0de0.jpg\n",
      "476000 939229 /home/henning/tmp/experiments/ai/stable_diffusion/data/scrolller/img/55593357_928d58e7-8480-4786-8c9a-7d20deb2f55c.jpg\n"
     ]
    },
    {
     "name": "stderr",
     "output_type": "stream",
     "text": [
      "libpng warning: iCCP: known incorrect sRGB profile\n"
     ]
    },
    {
     "name": "stdout",
     "output_type": "stream",
     "text": [
      "476080 939229 /home/henning/tmp/experiments/ai/stable_diffusion/data/scrolller/img/55602182_24235c8f-7df2-4ada-9add-046b68a9568d.jpg REMOVE: None\n",
      "477000 939229 /home/henning/tmp/experiments/ai/stable_diffusion/data/scrolller/img/55693066_7912db61-ca12-4bd5-9506-3fc269f55a24.jpg\n",
      "478000 939229 /home/henning/tmp/experiments/ai/stable_diffusion/data/scrolller/img/55786106_3f5d17cc-b56f-497f-b30f-2a8367a49039.jpg\n",
      "479000 939229 /home/henning/tmp/experiments/ai/stable_diffusion/data/scrolller/img/55885846_7db89fdc-10ef-4742-9f1e-b06fa1c4daef.jpg\n",
      "480000 939229 /home/henning/tmp/experiments/ai/stable_diffusion/data/scrolller/img/55983212_54ebd620-357f-49fc-a4bb-9c877d38b79b.jpg\n",
      "481000 939229 /home/henning/tmp/experiments/ai/stable_diffusion/data/scrolller/img/56072901_db1373f8-4463-42f6-ad15-cae21d24026f.jpg\n",
      "482000 939229 /home/henning/tmp/experiments/ai/stable_diffusion/data/scrolller/img/56160580_b9476cd3-6bce-4571-99fc-26bf9607899e.jpg\n",
      "482418 939229 /home/henning/tmp/experiments/ai/stable_diffusion/data/scrolller/img/56202113_fc67fcaf-c2d8-4745-ab23-7615fcf0c749.jpg REMOVE: None\n",
      "483000 939229 /home/henning/tmp/experiments/ai/stable_diffusion/data/scrolller/img/56253339_af7879f1-7b89-4502-9975-d54193d8df04.jpg\n",
      "484000 939229 /home/henning/tmp/experiments/ai/stable_diffusion/data/scrolller/img/56348134_0fa5fe37-825e-4f8f-a891-b521d8ec1506.jpg\n",
      "485000 939229 /home/henning/tmp/experiments/ai/stable_diffusion/data/scrolller/img/56443495_0024a7a1-019c-4eee-9716-bc9c9011b40f.jpg\n",
      "485487 939229 /home/henning/tmp/experiments/ai/stable_diffusion/data/scrolller/img/56487122_7eee1df5-d9b8-4145-83c3-b5d37d6f067a.jpg REMOVE: None\n",
      "486000 939229 /home/henning/tmp/experiments/ai/stable_diffusion/data/scrolller/img/5653808_1c14080f-0a91-4a2c-858e-bde60fe323cc.jpg\n",
      "487000 939229 /home/henning/tmp/experiments/ai/stable_diffusion/data/scrolller/img/56638010_b37817af-38b7-4195-a6ca-8dd1dd6c4aaa.jpg\n",
      "488000 939229 /home/henning/tmp/experiments/ai/stable_diffusion/data/scrolller/img/5673500_e4c765ba-1ebf-45ff-a3d5-451940611da6.jpg\n",
      "489000 939229 /home/henning/tmp/experiments/ai/stable_diffusion/data/scrolller/img/56837212_bb5fb511-ceec-469c-bc2f-3cf3011feee3.jpg\n",
      "490000 939229 /home/henning/tmp/experiments/ai/stable_diffusion/data/scrolller/img/56929881_59399f65-a299-4158-8369-88d61c6290b9.jpg\n",
      "491000 939229 /home/henning/tmp/experiments/ai/stable_diffusion/data/scrolller/img/57017854_68b72769-340c-4e2e-8127-85b6d2af8ea5.jpg\n",
      "492000 939229 /home/henning/tmp/experiments/ai/stable_diffusion/data/scrolller/img/57117505_83218fdd-b0e3-4c85-adf5-f6b078111247.jpg\n",
      "493000 939229 /home/henning/tmp/experiments/ai/stable_diffusion/data/scrolller/img/57212641_2fc256c4-b589-4c7e-b8bd-c57c3ed10015.jpg\n",
      "494000 939229 /home/henning/tmp/experiments/ai/stable_diffusion/data/scrolller/img/57307069_3f56cde3-d6d1-4229-8ebc-60ad3417c6d8.jpg\n",
      "494954 939229 /home/henning/tmp/experiments/ai/stable_diffusion/data/scrolller/img/57395296_e2432460-e54d-4fbb-b5d6-efbd22355f4e.jpg REMOVE: None\n",
      "495000 939229 /home/henning/tmp/experiments/ai/stable_diffusion/data/scrolller/img/57400607_159671bf-bf7a-408c-a2b9-a49b526c9f16.jpg\n",
      "496000 939229 /home/henning/tmp/experiments/ai/stable_diffusion/data/scrolller/img/57496847_2bb37fc7-5ec8-4025-8fc2-43ad1ff6ec16.jpg\n",
      "496531 939229 /home/henning/tmp/experiments/ai/stable_diffusion/data/scrolller/img/57551394_a7f44de3-f0fd-4e13-a440-490e76cdbc7b.jpg REMOVE: None\n",
      "497000 939229 /home/henning/tmp/experiments/ai/stable_diffusion/data/scrolller/img/57595507_28e41475-9aa3-4a93-9efe-38df50ee491b.jpg\n",
      "498000 939229 /home/henning/tmp/experiments/ai/stable_diffusion/data/scrolller/img/5768897_62c3931e-8aa1-4e25-bcea-db44c485289d.jpg\n"
     ]
    },
    {
     "name": "stderr",
     "output_type": "stream",
     "text": [
      "libpng warning: iCCP: known incorrect sRGB profile\n"
     ]
    },
    {
     "name": "stdout",
     "output_type": "stream",
     "text": [
      "499000 939229 /home/henning/tmp/experiments/ai/stable_diffusion/data/scrolller/img/57788223_956c60a7-a31c-4b2e-b0f9-e67817c44ea6.jpg\n",
      "500000 939229 /home/henning/tmp/experiments/ai/stable_diffusion/data/scrolller/img/57890636_3d39a0a4-570e-4f3e-92b1-1d33280fdb21.jpg\n",
      "501000 939229 /home/henning/tmp/experiments/ai/stable_diffusion/data/scrolller/img/57986250_29888ac7-b0d1-4087-8c38-64a45dcdaa71.jpg\n",
      "501112 939229 /home/henning/tmp/experiments/ai/stable_diffusion/data/scrolller/img/57999246_a089f1d3-ca5c-41d6-bf21-58c40d73d7b8.jpg REMOVE: None\n",
      "501553 939229 /home/henning/tmp/experiments/ai/stable_diffusion/data/scrolller/img/5804314_a9122bc1-b874-434c-bb0e-a4f8096859c6.jpg REMOVE: None\n",
      "502000 939229 /home/henning/tmp/experiments/ai/stable_diffusion/data/scrolller/img/58085215_baff16cd-79d7-4e90-b303-e553223db4c3.jpg\n",
      "503000 939229 /home/henning/tmp/experiments/ai/stable_diffusion/data/scrolller/img/58177320_4ffc8d0e-d763-43cc-8c37-6c0146dbb006.jpg\n",
      "504000 939229 /home/henning/tmp/experiments/ai/stable_diffusion/data/scrolller/img/58276010_fb95997d-259b-41c2-a5fd-cb8bab46baac.jpg\n",
      "505000 939229 /home/henning/tmp/experiments/ai/stable_diffusion/data/scrolller/img/58376395_19a4ed76-4ca2-49a2-8330-72d41ec2907c.jpg\n",
      "506000 939229 /home/henning/tmp/experiments/ai/stable_diffusion/data/scrolller/img/58470955_78f4bf6b-b042-4753-9ab4-7193b3cfa390.jpg\n",
      "507000 939229 /home/henning/tmp/experiments/ai/stable_diffusion/data/scrolller/img/58572067_0b9fc306-1a18-45ee-9682-3b2fdba9b747.jpg\n",
      "508000 939229 /home/henning/tmp/experiments/ai/stable_diffusion/data/scrolller/img/58667723_109e9e13-7bfa-4a49-b9e9-40a70199d8a9.jpg\n",
      "509000 939229 /home/henning/tmp/experiments/ai/stable_diffusion/data/scrolller/img/58760707_9c5282ca-789d-4fb7-8869-df3a97a8345e.jpg\n",
      "510000 939229 /home/henning/tmp/experiments/ai/stable_diffusion/data/scrolller/img/58861002_79bb70ff-4df2-45d1-bc85-18b8c682e153.jpg\n",
      "511000 939229 /home/henning/tmp/experiments/ai/stable_diffusion/data/scrolller/img/58957958_4d0d9707-17a9-40fb-9581-3710345d6410.jpg\n"
     ]
    },
    {
     "name": "stderr",
     "output_type": "stream",
     "text": [
      "libpng warning: iCCP: known incorrect sRGB profile\n"
     ]
    },
    {
     "name": "stdout",
     "output_type": "stream",
     "text": [
      "512000 939229 /home/henning/tmp/experiments/ai/stable_diffusion/data/scrolller/img/59055373_02d2492b-a556-49c4-a56b-2a58112c6e3d.jpg\n",
      "512018 939229 /home/henning/tmp/experiments/ai/stable_diffusion/data/scrolller/img/59056706_c7be1436-531f-4a68-9eed-29620af1c07e.jpg REMOVE: None\n",
      "513000 939229 /home/henning/tmp/experiments/ai/stable_diffusion/data/scrolller/img/59153029_5fad59eb-7ece-46db-8d39-2d99f6c3e1c7.jpg\n",
      "514000 939229 /home/henning/tmp/experiments/ai/stable_diffusion/data/scrolller/img/59246294_43b39548-835b-4198-9972-393da7db583c.jpg\n",
      "515000 939229 /home/henning/tmp/experiments/ai/stable_diffusion/data/scrolller/img/59340965_7dead255-896a-44ba-81e0-346256ace620.jpg\n",
      "516000 939229 /home/henning/tmp/experiments/ai/stable_diffusion/data/scrolller/img/59440320_9fda36d6-ffd1-41a1-a999-3e06cfc99e2f.jpg\n",
      "517000 939229 /home/henning/tmp/experiments/ai/stable_diffusion/data/scrolller/img/59536940_2226e36b-0dd4-499d-9b99-9d5b4e582d6f.jpg\n",
      "518000 939229 /home/henning/tmp/experiments/ai/stable_diffusion/data/scrolller/img/59631619_e44aeec3-62c8-4c1b-9d7a-8cd39cffaf87.jpg\n",
      "519000 939229 /home/henning/tmp/experiments/ai/stable_diffusion/data/scrolller/img/59725766_487c1e08-b4c7-41f0-baf0-26071c5f8813.jpg\n",
      "520000 939229 /home/henning/tmp/experiments/ai/stable_diffusion/data/scrolller/img/59824173_76831fdf-e43d-413d-b560-7955baa08a20.jpg\n",
      "521000 939229 /home/henning/tmp/experiments/ai/stable_diffusion/data/scrolller/img/59917545_65c8e9c8-096d-46ce-a11c-bf8f385c33ff.jpg\n",
      "522000 939229 /home/henning/tmp/experiments/ai/stable_diffusion/data/scrolller/img/6001520_4b36cfa8-b614-4365-ac9c-768ed59ce3b9.jpg\n",
      "522103 939229 /home/henning/tmp/experiments/ai/stable_diffusion/data/scrolller/img/60022934_5f6d43c8-a327-4c03-afdd-7af4b8d6a3ac.jpg REMOVE: None\n",
      "522664 939229 /home/henning/tmp/experiments/ai/stable_diffusion/data/scrolller/img/60068350_bbb6b0fa-cc8c-4695-921d-107a1018ef3b.jpg REMOVE: None\n",
      "523000 939229 /home/henning/tmp/experiments/ai/stable_diffusion/data/scrolller/img/60100963_28992077-3226-45d2-b0fa-131bd3d9773d.jpg\n",
      "523548 939229 /home/henning/tmp/experiments/ai/stable_diffusion/data/scrolller/img/60152865_9af0209d-88d7-4e0b-83f1-e3d3252ea82b.jpg REMOVE: None\n",
      "524000 939229 /home/henning/tmp/experiments/ai/stable_diffusion/data/scrolller/img/60197367_951b78b3-afe5-4ec4-8a1c-8fcaf609dc7a.jpg\n",
      "525000 939229 /home/henning/tmp/experiments/ai/stable_diffusion/data/scrolller/img/60293980_6cc82900-7644-4cdc-ae78-ce40623103f0.jpg\n",
      "526000 939229 /home/henning/tmp/experiments/ai/stable_diffusion/data/scrolller/img/60377102_ddc2202a-1a54-4285-ba26-6383d8e0fd4a.jpg\n",
      "526671 939229 /home/henning/tmp/experiments/ai/stable_diffusion/data/scrolller/img/60442672_27adac08-18c0-4f51-a499-8df66aa48aa6.jpg REMOVE: None\n",
      "527000 939229 /home/henning/tmp/experiments/ai/stable_diffusion/data/scrolller/img/60474348_4d294b56-4861-4f46-ad60-2ab1f1f97f99.jpg\n",
      "528000 939229 /home/henning/tmp/experiments/ai/stable_diffusion/data/scrolller/img/60560407_dda77d95-2c39-4af7-bb13-f24a80c47d8d.jpg\n",
      "529000 939229 /home/henning/tmp/experiments/ai/stable_diffusion/data/scrolller/img/60660091_662e1521-bedb-4274-b09e-ce65a6475d53.jpg\n",
      "530000 939229 /home/henning/tmp/experiments/ai/stable_diffusion/data/scrolller/img/60761274_9a6edd11-3f8f-46df-be76-5ef651d1127f.jpg\n"
     ]
    },
    {
     "name": "stderr",
     "output_type": "stream",
     "text": [
      "libpng warning: iCCP: known incorrect sRGB profile\n"
     ]
    },
    {
     "name": "stdout",
     "output_type": "stream",
     "text": [
      "531000 939229 /home/henning/tmp/experiments/ai/stable_diffusion/data/scrolller/img/60854041_dcbc752d-408f-44c4-b830-9a069ad9ace9.jpg\n",
      "532000 939229 /home/henning/tmp/experiments/ai/stable_diffusion/data/scrolller/img/60945568_551906f6-b951-448f-81d6-ae15f2fef166.jpg\n",
      "533000 939229 /home/henning/tmp/experiments/ai/stable_diffusion/data/scrolller/img/61041520_ddc48cbe-fe69-4c28-85ca-a694b188000c.jpg\n",
      "534000 939229 /home/henning/tmp/experiments/ai/stable_diffusion/data/scrolller/img/61139382_5fb9ed81-200f-4aee-a289-27f696a983fa.jpg\n",
      "535000 939229 /home/henning/tmp/experiments/ai/stable_diffusion/data/scrolller/img/61232260_e85d4481-5f36-49bb-b2e9-df07dfda0712.jpg\n",
      "536000 939229 /home/henning/tmp/experiments/ai/stable_diffusion/data/scrolller/img/61327892_11158cb2-2256-431b-b469-478214c96372.jpg\n",
      "537000 939229 /home/henning/tmp/experiments/ai/stable_diffusion/data/scrolller/img/61417376_af535e93-c0b7-43a3-8689-0cdd1fbd5fdf.jpg\n",
      "537920 939229 /home/henning/tmp/experiments/ai/stable_diffusion/data/scrolller/img/61510029_8325220b-0021-4527-99eb-70d94cb5174b.jpg REMOVE: None\n",
      "538000 939229 /home/henning/tmp/experiments/ai/stable_diffusion/data/scrolller/img/61518161_8fb229b2-7400-4edb-99ef-4b1fc9aba9f4.jpg\n",
      "539000 939229 /home/henning/tmp/experiments/ai/stable_diffusion/data/scrolller/img/61615242_a22ab7c6-876e-4c36-b517-52f88dd316f9.jpg\n",
      "539743 939229 /home/henning/tmp/experiments/ai/stable_diffusion/data/scrolller/img/61685920_14d5f77b-ef61-401c-83c3-6f0b3f9248c0.jpg REMOVE: None\n",
      "540000 939229 /home/henning/tmp/experiments/ai/stable_diffusion/data/scrolller/img/61709821_f20ec7e3-0699-4379-bc1c-afafb7768996.jpg\n",
      "541000 939229 /home/henning/tmp/experiments/ai/stable_diffusion/data/scrolller/img/61806310_41da4deb-9545-4bf1-9821-8ff7e5b6c58a.jpg\n",
      "542000 939229 /home/henning/tmp/experiments/ai/stable_diffusion/data/scrolller/img/61900462_af05043c-502c-48ff-a419-9aa20b072414.jpg\n",
      "543000 939229 /home/henning/tmp/experiments/ai/stable_diffusion/data/scrolller/img/61992885_f14511ee-4bb5-4e62-81c5-7c9518ca7b5f.jpg\n",
      "544000 939229 /home/henning/tmp/experiments/ai/stable_diffusion/data/scrolller/img/6208952_d0f83b3b-cf31-4e20-b067-33ac681c3321.jpg\n",
      "545000 939229 /home/henning/tmp/experiments/ai/stable_diffusion/data/scrolller/img/62190885_57c0cf9a-1424-4dd3-82ae-ee224ca30441.jpg\n"
     ]
    },
    {
     "name": "stderr",
     "output_type": "stream",
     "text": [
      "Corrupt JPEG data: bad Huffman code\n",
      "Corrupt JPEG data: bad Huffman code\n"
     ]
    },
    {
     "name": "stdout",
     "output_type": "stream",
     "text": [
      "545167 939229 /home/henning/tmp/experiments/ai/stable_diffusion/data/scrolller/img/6220553_bfde5a60-f525-4462-8ba3-4fc486bcf9fa.jpg REMOVE: None\n",
      "546000 939229 /home/henning/tmp/experiments/ai/stable_diffusion/data/scrolller/img/62288452_1fb980b0-24b3-4dd4-96aa-ba10d84c1c68.jpg\n"
     ]
    },
    {
     "name": "stderr",
     "output_type": "stream",
     "text": [
      "libpng warning: iCCP: extra compressed data\n"
     ]
    },
    {
     "name": "stdout",
     "output_type": "stream",
     "text": [
      "547000 939229 /home/henning/tmp/experiments/ai/stable_diffusion/data/scrolller/img/62379271_677d2980-0976-49c2-ab14-7842ee95891e.jpg\n",
      "548000 939229 /home/henning/tmp/experiments/ai/stable_diffusion/data/scrolller/img/62473433_cd5cbc87-a4d6-49dd-9965-d8f34ff3198e.jpg\n",
      "549000 939229 /home/henning/tmp/experiments/ai/stable_diffusion/data/scrolller/img/62569988_0a8f2fad-b10d-4592-bdd8-0b071c73233a.jpg\n",
      "550000 939229 /home/henning/tmp/experiments/ai/stable_diffusion/data/scrolller/img/62658677_a1c59c2d-4864-4614-b8a5-df7ab5cf6ab8.jpg\n",
      "551000 939229 /home/henning/tmp/experiments/ai/stable_diffusion/data/scrolller/img/62752903_962149d8-d74e-49ca-aa01-2a2e7e9d559d.jpg\n",
      "551449 939229 /home/henning/tmp/experiments/ai/stable_diffusion/data/scrolller/img/62799509_70c83568-54ad-44c6-9790-066fa02e8088.jpg REMOVE: None\n",
      "552000 939229 /home/henning/tmp/experiments/ai/stable_diffusion/data/scrolller/img/6285140_99dc563a-0717-4a71-b7f9-203593f810e4.jpg\n",
      "553000 939229 /home/henning/tmp/experiments/ai/stable_diffusion/data/scrolller/img/62947473_878b134c-d714-4efd-8154-9e40169b8d4d.jpg\n",
      "554000 939229 /home/henning/tmp/experiments/ai/stable_diffusion/data/scrolller/img/63039817_72c9cbed-f892-4ca4-bc8c-13f2a3dc5718.jpg\n",
      "555000 939229 /home/henning/tmp/experiments/ai/stable_diffusion/data/scrolller/img/6314577_69c440be-77e5-4d7f-9ee1-d2e0b969154f.jpg\n",
      "556000 939229 /home/henning/tmp/experiments/ai/stable_diffusion/data/scrolller/img/63248385_4e716905-e99c-442c-b7ea-ef6865859d6e.jpg\n",
      "557000 939229 /home/henning/tmp/experiments/ai/stable_diffusion/data/scrolller/img/6334658_c86abb2b-45c5-4f44-a8d6-46b98155dc37.jpg\n",
      "558000 939229 /home/henning/tmp/experiments/ai/stable_diffusion/data/scrolller/img/63439766_c1a691fe-3cb1-450e-b69d-1eded359069d.jpg\n"
     ]
    },
    {
     "name": "stderr",
     "output_type": "stream",
     "text": [
      "libpng warning: iCCP: known incorrect sRGB profile\n"
     ]
    },
    {
     "name": "stdout",
     "output_type": "stream",
     "text": [
      "559000 939229 /home/henning/tmp/experiments/ai/stable_diffusion/data/scrolller/img/6353459_21f24e7d-749e-4404-8df9-cd16cd1f4772.jpg\n",
      "560000 939229 /home/henning/tmp/experiments/ai/stable_diffusion/data/scrolller/img/63640266_e558057c-f3f8-4344-b997-8d682ef971b4.jpg\n",
      "561000 939229 /home/henning/tmp/experiments/ai/stable_diffusion/data/scrolller/img/6373342_31df7c13-b367-4638-b706-20639d8a2176.jpg\n",
      "562000 939229 /home/henning/tmp/experiments/ai/stable_diffusion/data/scrolller/img/6382932_7e8985fa-bb1f-48c6-9461-4bd991b7528d.jpg\n",
      "563000 939229 /home/henning/tmp/experiments/ai/stable_diffusion/data/scrolller/img/63922554_ba616c89-46f3-4d99-a7cc-bdfd318e3474.jpg\n",
      "564000 939229 /home/henning/tmp/experiments/ai/stable_diffusion/data/scrolller/img/64021522_0271aa1b-2b80-49ea-bcf6-037d07c1b09c.jpg\n",
      "565000 939229 /home/henning/tmp/experiments/ai/stable_diffusion/data/scrolller/img/64123986_bbda9e38-afed-458b-bd39-9adcb8ba2a4e.jpg\n",
      "566000 939229 /home/henning/tmp/experiments/ai/stable_diffusion/data/scrolller/img/64224347_bcd2e48b-69ef-498b-bcfb-94655c7c93a8.jpg\n",
      "566597 939229 /home/henning/tmp/experiments/ai/stable_diffusion/data/scrolller/img/64286790_10c97e61-06b9-48c0-89d2-837c1df7571d.jpg REMOVE: None\n",
      "567000 939229 /home/henning/tmp/experiments/ai/stable_diffusion/data/scrolller/img/64328170_0088fe09-6f42-4cd9-a66e-14fed874cca6.jpg\n",
      "568000 939229 /home/henning/tmp/experiments/ai/stable_diffusion/data/scrolller/img/64423242_38f2fafb-a4ff-4120-8c2d-40c09ac5bb4f.jpg\n",
      "569000 939229 /home/henning/tmp/experiments/ai/stable_diffusion/data/scrolller/img/64517248_3b7c7103-58ed-437f-a5a5-d4b3893eecbe.jpg\n",
      "570000 939229 /home/henning/tmp/experiments/ai/stable_diffusion/data/scrolller/img/64614421_dde7d306-1774-478a-9d02-4bb778cdb51f.jpg\n",
      "571000 939229 /home/henning/tmp/experiments/ai/stable_diffusion/data/scrolller/img/64709741_4881f3b2-6366-45d4-9460-f6e967678708.jpg\n",
      "572000 939229 /home/henning/tmp/experiments/ai/stable_diffusion/data/scrolller/img/64806829_8e23271d-6a60-4b20-8500-2feb3fd276fe.jpg\n",
      "573000 939229 /home/henning/tmp/experiments/ai/stable_diffusion/data/scrolller/img/64903858_57b23b68-fbbe-4acb-9ce5-d9f5c727f915.jpg\n",
      "574000 939229 /home/henning/tmp/experiments/ai/stable_diffusion/data/scrolller/img/6499937_ab9683c0-2aa3-430e-8dc5-f15f69d51b63.jpg\n",
      "575000 939229 /home/henning/tmp/experiments/ai/stable_diffusion/data/scrolller/img/65094983_892bec01-0982-4da3-97af-b1ca5afbeecc.jpg\n",
      "576000 939229 /home/henning/tmp/experiments/ai/stable_diffusion/data/scrolller/img/65203637_1f2e429d-47e3-4207-9acb-d1a48efc605d.jpg\n",
      "577000 939229 /home/henning/tmp/experiments/ai/stable_diffusion/data/scrolller/img/65300188_ed0fc3a1-e75f-4e88-8863-b66930f6f288.jpg\n",
      "578000 939229 /home/henning/tmp/experiments/ai/stable_diffusion/data/scrolller/img/65394344_d605208f-2026-4137-afc8-2d008009882e.jpg\n",
      "579000 939229 /home/henning/tmp/experiments/ai/stable_diffusion/data/scrolller/img/65487452_9de6f780-5420-4245-9583-4de87c508630.jpg\n",
      "579235 939229 /home/henning/tmp/experiments/ai/stable_diffusion/data/scrolller/img/65512143_e16fff7f-f424-42b8-9414-fc196bfe8d12.jpg REMOVE: None\n",
      "580000 939229 /home/henning/tmp/experiments/ai/stable_diffusion/data/scrolller/img/65582215_6b46052d-3de5-4148-b214-e9bbd8b836c0.jpg\n",
      "581000 939229 /home/henning/tmp/experiments/ai/stable_diffusion/data/scrolller/img/6567080_1a612ceb-1879-4973-b08d-8fa120f252a7.jpg\n",
      "581451 939229 /home/henning/tmp/experiments/ai/stable_diffusion/data/scrolller/img/65711922_6e20c076-563d-4e66-ae73-062bd73a3248.jpg REMOVE: None\n",
      "582000 939229 /home/henning/tmp/experiments/ai/stable_diffusion/data/scrolller/img/65760647_8e55e499-2b0e-467a-b4ce-02af2c8ee313.jpg\n",
      "583000 939229 /home/henning/tmp/experiments/ai/stable_diffusion/data/scrolller/img/65858094_e1e2634a-0f7a-40ab-ac75-b89d9d346ff0.jpg\n",
      "584000 939229 /home/henning/tmp/experiments/ai/stable_diffusion/data/scrolller/img/65951356_301044eb-18f4-47a8-a66e-b38edc703623.jpg\n",
      "585000 939229 /home/henning/tmp/experiments/ai/stable_diffusion/data/scrolller/img/66046807_c00ff88a-19a8-4507-8d9c-89ecda035f64.jpg\n",
      "586000 939229 /home/henning/tmp/experiments/ai/stable_diffusion/data/scrolller/img/66146527_6525f918-c9c9-4852-b211-9bd8b3cc4a68.jpg\n",
      "587000 939229 /home/henning/tmp/experiments/ai/stable_diffusion/data/scrolller/img/66242177_c95d4428-74af-4201-a96e-00791208271e.jpg\n",
      "588000 939229 /home/henning/tmp/experiments/ai/stable_diffusion/data/scrolller/img/66335803_f21b7a1d-d9cc-49fe-8acd-f4cb2ce04c7f.jpg\n",
      "589000 939229 /home/henning/tmp/experiments/ai/stable_diffusion/data/scrolller/img/66432001_16cee44f-a813-4133-b493-b8a2c349bfda.jpg\n",
      "590000 939229 /home/henning/tmp/experiments/ai/stable_diffusion/data/scrolller/img/66517629_3081c229-eef8-4fd4-b20c-4638d44505d8.jpg\n",
      "591000 939229 /home/henning/tmp/experiments/ai/stable_diffusion/data/scrolller/img/66607849_90186965-0fba-4ff7-ba6a-9187ba654aeb.jpg\n",
      "592000 939229 /home/henning/tmp/experiments/ai/stable_diffusion/data/scrolller/img/66708600_35253cd2-3fa9-41ea-9e76-ed5c74ef83e0.jpg\n",
      "593000 939229 /home/henning/tmp/experiments/ai/stable_diffusion/data/scrolller/img/66811106_4bddc3a4-4903-4baf-88e8-483406df8c2d.jpg\n",
      "594000 939229 /home/henning/tmp/experiments/ai/stable_diffusion/data/scrolller/img/66909881_adba329b-4b3d-40d8-854d-6ab80ff18ce4.jpg\n",
      "594675 939229 /home/henning/tmp/experiments/ai/stable_diffusion/data/scrolller/img/6697422_5ace71da-977f-4332-a66e-bdd7440c187b.jpg REMOVE: None\n",
      "595000 939229 /home/henning/tmp/experiments/ai/stable_diffusion/data/scrolller/img/67004670_e6c161e5-d546-4b80-9749-37c82e12533f.jpg\n",
      "596000 939229 /home/henning/tmp/experiments/ai/stable_diffusion/data/scrolller/img/67103253_1e1be5ad-9ee8-41c2-bd19-4add385c40fc.jpg\n",
      "597000 939229 /home/henning/tmp/experiments/ai/stable_diffusion/data/scrolller/img/67197403_d909ace7-b206-41f3-a543-1a32ca57af3d.jpg\n",
      "598000 939229 /home/henning/tmp/experiments/ai/stable_diffusion/data/scrolller/img/67293108_5f6e41e4-a22b-4cc5-a8a1-7ec03e7b46fd.jpg\n"
     ]
    },
    {
     "name": "stderr",
     "output_type": "stream",
     "text": [
      "Corrupt JPEG data: bad Huffman code\n",
      "Corrupt JPEG data: bad Huffman code\n"
     ]
    },
    {
     "name": "stdout",
     "output_type": "stream",
     "text": [
      "599000 939229 /home/henning/tmp/experiments/ai/stable_diffusion/data/scrolller/img/67384959_54f38bfd-899c-466d-b704-561078cd0d73.jpg\n",
      "600000 939229 /home/henning/tmp/experiments/ai/stable_diffusion/data/scrolller/img/67480742_05479ea4-c22d-451c-a7b2-eb3431d2b5d7.jpg\n",
      "601000 939229 /home/henning/tmp/experiments/ai/stable_diffusion/data/scrolller/img/67569641_67f296b6-36a7-44c7-aad4-92a876e2e95a.jpg\n",
      "602000 939229 /home/henning/tmp/experiments/ai/stable_diffusion/data/scrolller/img/67663024_b2286787-4c02-48ba-b34c-e81e74cc32c1.jpg\n",
      "603000 939229 /home/henning/tmp/experiments/ai/stable_diffusion/data/scrolller/img/67765199_b945bd5d-54ea-406f-87cc-57e4390ebd91.jpg\n",
      "604000 939229 /home/henning/tmp/experiments/ai/stable_diffusion/data/scrolller/img/67860088_8999d2bc-97aa-4f08-86bd-f35fc2baa485.jpg\n",
      "604287 939229 /home/henning/tmp/experiments/ai/stable_diffusion/data/scrolller/img/67884054_cc91f6c0-d55c-43ff-88cf-a882c5ab8fe2.jpg REMOVE: None\n",
      "605000 939229 /home/henning/tmp/experiments/ai/stable_diffusion/data/scrolller/img/67957332_3e75263a-61f6-4930-8c76-c20e8551be53.jpg\n"
     ]
    },
    {
     "name": "stderr",
     "output_type": "stream",
     "text": [
      "libpng warning: iCCP: known incorrect sRGB profile\n"
     ]
    },
    {
     "name": "stdout",
     "output_type": "stream",
     "text": [
      "606000 939229 /home/henning/tmp/experiments/ai/stable_diffusion/data/scrolller/img/68054482_cd9d5cb1-f26c-417c-99c4-7a85487ae5e4.jpg\n",
      "606061 939229 /home/henning/tmp/experiments/ai/stable_diffusion/data/scrolller/img/68061413_4335f40a-c36c-47c3-af6e-2f9494fb8507.jpg REMOVE: None\n",
      "607000 939229 /home/henning/tmp/experiments/ai/stable_diffusion/data/scrolller/img/68157105_ec1d296c-241b-450b-ad34-0f033f0fd84b.jpg\n",
      "608000 939229 /home/henning/tmp/experiments/ai/stable_diffusion/data/scrolller/img/68253935_9ea2097f-6975-492b-abf9-20e2f2437406.jpg\n",
      "609000 939229 /home/henning/tmp/experiments/ai/stable_diffusion/data/scrolller/img/68346980_0a63aed7-6891-4187-b3bf-151811f804a5.jpg\n",
      "610000 939229 /home/henning/tmp/experiments/ai/stable_diffusion/data/scrolller/img/68446530_2ec497ee-db61-4801-9350-6aa6ad460cfa.jpg\n",
      "611000 939229 /home/henning/tmp/experiments/ai/stable_diffusion/data/scrolller/img/68541927_ee0a767e-f4cb-4a1b-be9c-1452f4e1cc5e.jpg\n",
      "612000 939229 /home/henning/tmp/experiments/ai/stable_diffusion/data/scrolller/img/68636824_04f8a33a-1e09-4474-86ae-3e14236a6131.jpg\n",
      "612329 939229 /home/henning/tmp/experiments/ai/stable_diffusion/data/scrolller/img/68661879_2834c902-3932-42e2-9ef5-9ccc0f131673.jpg REMOVE: None\n",
      "612683 939229 /home/henning/tmp/experiments/ai/stable_diffusion/data/scrolller/img/68696131_e98b5ef9-dec1-41ee-899f-f0721d978c8e.jpg REMOVE: None\n",
      "613000 939229 /home/henning/tmp/experiments/ai/stable_diffusion/data/scrolller/img/68728216_71b3aeed-f083-4eaf-ad5c-62c1c73900e7.jpg\n",
      "614000 939229 /home/henning/tmp/experiments/ai/stable_diffusion/data/scrolller/img/68825350_ade79f62-6152-4b45-b5c2-8db47da73bcb.jpg\n"
     ]
    },
    {
     "name": "stderr",
     "output_type": "stream",
     "text": [
      "libpng warning: iCCP: known incorrect sRGB profile\n",
      "libpng warning: iCCP: known incorrect sRGB profile\n"
     ]
    },
    {
     "name": "stdout",
     "output_type": "stream",
     "text": [
      "614881 939229 /home/henning/tmp/experiments/ai/stable_diffusion/data/scrolller/img/6891124_252d7af7-76f8-4aa4-bbc2-02e6ce2e4799.jpg REMOVE: None\n",
      "615000 939229 /home/henning/tmp/experiments/ai/stable_diffusion/data/scrolller/img/68919133_af2da60d-9af9-4a33-8b87-cf00fc2c5a51.jpg\n",
      "616000 939229 /home/henning/tmp/experiments/ai/stable_diffusion/data/scrolller/img/69007448_37cfb991-7771-45f7-9f94-8def1205cf36.jpg\n",
      "617000 939229 /home/henning/tmp/experiments/ai/stable_diffusion/data/scrolller/img/69100279_5b7c4678-550a-48ae-bf18-85699683af69.jpg\n",
      "618000 939229 /home/henning/tmp/experiments/ai/stable_diffusion/data/scrolller/img/69192249_1fea1aff-de95-42d9-b964-0c12d18dd1f0.jpg\n",
      "618042 939229 /home/henning/tmp/experiments/ai/stable_diffusion/data/scrolller/img/69197074_f0fa409a-eff9-4ae1-ac29-253de1f0b1ae.jpg REMOVE: None\n",
      "619000 939229 /home/henning/tmp/experiments/ai/stable_diffusion/data/scrolller/img/69290947_e2300181-11fe-4957-9c63-3766ae80f2de.jpg\n",
      "620000 939229 /home/henning/tmp/experiments/ai/stable_diffusion/data/scrolller/img/69387920_72adbbe8-eac4-4b4a-a3e3-c15baba9d764.jpg\n",
      "621000 939229 /home/henning/tmp/experiments/ai/stable_diffusion/data/scrolller/img/69486655_9c97347e-e51a-43e4-a620-595b449ec637.jpg\n",
      "621204 939229 /home/henning/tmp/experiments/ai/stable_diffusion/data/scrolller/img/69507813_271b5762-5404-4ab9-918c-273323f3452a.jpg REMOVE: None\n",
      "622000 939229 /home/henning/tmp/experiments/ai/stable_diffusion/data/scrolller/img/69581692_63170007-bc93-47c4-989a-bf097e022721.jpg\n",
      "623000 939229 /home/henning/tmp/experiments/ai/stable_diffusion/data/scrolller/img/69681940_d58d43f8-86d8-43a9-9ee6-9412d1d52ec6.jpg\n",
      "624000 939229 /home/henning/tmp/experiments/ai/stable_diffusion/data/scrolller/img/6978233_405b52a3-5669-4cd2-84e5-01966ab28202.jpg\n",
      "625000 939229 /home/henning/tmp/experiments/ai/stable_diffusion/data/scrolller/img/6988174_93ede5fe-fc67-460f-83e6-46af712c5c4d.jpg\n",
      "625825 939229 /home/henning/tmp/experiments/ai/stable_diffusion/data/scrolller/img/69959504_43229895-75be-458e-9101-75ad333b8606.jpg REMOVE: None\n",
      "626000 939229 /home/henning/tmp/experiments/ai/stable_diffusion/data/scrolller/img/69976661_2011d8c5-deaf-41ec-a80c-4fe5d98c4b7a.jpg\n",
      "627000 939229 /home/henning/tmp/experiments/ai/stable_diffusion/data/scrolller/img/70058453_79997275-a135-4e9a-8c31-59b39215551e.jpg\n",
      "628000 939229 /home/henning/tmp/experiments/ai/stable_diffusion/data/scrolller/img/70154835_0a403de5-cda8-47b4-a3ee-ec1af812663d.jpg\n",
      "628808 939229 /home/henning/tmp/experiments/ai/stable_diffusion/data/scrolller/img/70235662_ceb1f8c7-ede9-4d07-b03c-edbd8baad594.jpg REMOVE: None\n",
      "628953 939229 /home/henning/tmp/experiments/ai/stable_diffusion/data/scrolller/img/70245447_f0cbd25b-8c41-4f72-9b76-254eeee26bb9.jpg REMOVE: None\n",
      "629000 939229 /home/henning/tmp/experiments/ai/stable_diffusion/data/scrolller/img/70249948_e7989ce6-a345-4069-a7d9-c53a87aa213a.jpg\n",
      "630000 939229 /home/henning/tmp/experiments/ai/stable_diffusion/data/scrolller/img/70341662_31542e33-6789-45e2-a500-509d9478d398.jpg\n",
      "631000 939229 /home/henning/tmp/experiments/ai/stable_diffusion/data/scrolller/img/70440049_f8423ffe-73ba-4398-a2f0-82f589494ff7.jpg\n",
      "631265 939229 /home/henning/tmp/experiments/ai/stable_diffusion/data/scrolller/img/70462930_0753abbc-5f24-40fb-8d65-e48a4480b91f.jpg REMOVE: None\n",
      "632000 939229 /home/henning/tmp/experiments/ai/stable_diffusion/data/scrolller/img/70537798_d0c887bc-df38-4470-8284-2b67fc346e98.jpg\n"
     ]
    },
    {
     "name": "stderr",
     "output_type": "stream",
     "text": [
      "/home/henning/tmp/experiments/ai/stable_diffusion/venv/lib/python3.11/site-packages/PIL/Image.py:3186: DecompressionBombWarning: Image size (99630000 pixels) exceeds limit of 89478485 pixels, could be decompression bomb DOS attack.\n",
      "  warnings.warn(\n"
     ]
    },
    {
     "name": "stdout",
     "output_type": "stream",
     "text": [
      "633000 939229 /home/henning/tmp/experiments/ai/stable_diffusion/data/scrolller/img/70631084_61ee348a-1d72-4052-b688-d0f91ad2f556.jpg\n",
      "634000 939229 /home/henning/tmp/experiments/ai/stable_diffusion/data/scrolller/img/70727030_747067d1-548b-4092-b640-04ba008796a8.jpg\n",
      "635000 939229 /home/henning/tmp/experiments/ai/stable_diffusion/data/scrolller/img/70817934_8fd88fbc-2a1f-48b6-9a6a-960546d13498.jpg\n",
      "636000 939229 /home/henning/tmp/experiments/ai/stable_diffusion/data/scrolller/img/70908267_ecf1944c-016d-4a09-9e66-ef50af30f090.jpg\n",
      "637000 939229 /home/henning/tmp/experiments/ai/stable_diffusion/data/scrolller/img/71005135_5384e4cb-1d98-43b7-b02b-38f0c735c7a0.jpg\n",
      "638000 939229 /home/henning/tmp/experiments/ai/stable_diffusion/data/scrolller/img/71101777_b49e42f4-7337-4193-828d-501d703718e5.jpg\n",
      "639000 939229 /home/henning/tmp/experiments/ai/stable_diffusion/data/scrolller/img/71200665_cee188fd-29e9-4ba0-bcfc-797a357add23.jpg\n",
      "640000 939229 /home/henning/tmp/experiments/ai/stable_diffusion/data/scrolller/img/71287057_e5d5f516-021d-49a9-9e82-9370ed86556d.jpg\n",
      "641000 939229 /home/henning/tmp/experiments/ai/stable_diffusion/data/scrolller/img/71380330_bc2ed8de-b284-48b3-80fe-a29b2759873a.jpg\n",
      "642000 939229 /home/henning/tmp/experiments/ai/stable_diffusion/data/scrolller/img/71474025_e9989714-1c13-423d-a6b0-03063d6c1830.jpg\n",
      "643000 939229 /home/henning/tmp/experiments/ai/stable_diffusion/data/scrolller/img/71576747_80e7c151-95b2-4179-b9da-f263572a5998.jpg\n",
      "643640 939229 /home/henning/tmp/experiments/ai/stable_diffusion/data/scrolller/img/71640883_6d3fb2ed-521f-4fdf-b962-a89753a400e9.jpg REMOVE: None\n",
      "644000 939229 /home/henning/tmp/experiments/ai/stable_diffusion/data/scrolller/img/71678920_bf5fd62d-6bd5-4705-b10e-e3e2342e0627.jpg\n",
      "645000 939229 /home/henning/tmp/experiments/ai/stable_diffusion/data/scrolller/img/71774696_977336d9-31fa-4c36-9c4c-fad8b2e9ea51.jpg\n",
      "645012 939229 /home/henning/tmp/experiments/ai/stable_diffusion/data/scrolller/img/71775814_8e201427-cba1-4842-b210-3a0f70149da2.jpg REMOVE: None\n"
     ]
    },
    {
     "name": "stderr",
     "output_type": "stream",
     "text": [
      "libpng warning: iCCP: known incorrect sRGB profile\n"
     ]
    },
    {
     "name": "stdout",
     "output_type": "stream",
     "text": [
      "646000 939229 /home/henning/tmp/experiments/ai/stable_diffusion/data/scrolller/img/71864165_b6f5ffbd-796a-417d-86fc-f43b47651160.jpg\n",
      "647000 939229 /home/henning/tmp/experiments/ai/stable_diffusion/data/scrolller/img/71959685_5b9bca97-2e9b-4ee6-8438-44e91e718f7e.jpg\n",
      "648000 939229 /home/henning/tmp/experiments/ai/stable_diffusion/data/scrolller/img/72056489_698dfbfd-2e18-402e-9cec-465bb3075913.jpg\n",
      "648057 939229 /home/henning/tmp/experiments/ai/stable_diffusion/data/scrolller/img/72061244_bb295ed2-afb7-4711-80c7-b1f45abad3df.jpg REMOVE: None\n",
      "649000 939229 /home/henning/tmp/experiments/ai/stable_diffusion/data/scrolller/img/72151923_a4e1caa0-d9fb-460b-b3e7-4e7e527eda39.jpg\n"
     ]
    },
    {
     "name": "stderr",
     "output_type": "stream",
     "text": [
      "libpng warning: iCCP: known incorrect sRGB profile\n",
      "libpng warning: iCCP: known incorrect sRGB profile\n"
     ]
    },
    {
     "name": "stdout",
     "output_type": "stream",
     "text": [
      "650000 939229 /home/henning/tmp/experiments/ai/stable_diffusion/data/scrolller/img/72243701_81a27e94-f3e5-41e1-ab16-b25eb7810488.jpg\n",
      "650557 939229 /home/henning/tmp/experiments/ai/stable_diffusion/data/scrolller/img/72298836_2f94f1b3-1c02-4b96-af45-d6d9213d5118.jpg REMOVE: None\n",
      "650754 939229 /home/henning/tmp/experiments/ai/stable_diffusion/data/scrolller/img/72320475_6cab6d05-acd3-4953-9165-53fdb2fefc00.jpg REMOVE: None\n",
      "651000 939229 /home/henning/tmp/experiments/ai/stable_diffusion/data/scrolller/img/72342018_f996a87f-6621-4d4d-aa0b-c85335e38efd.jpg\n",
      "652000 939229 /home/henning/tmp/experiments/ai/stable_diffusion/data/scrolller/img/7243268_1f1fff53-0501-45aa-aef5-e04808fe559b.jpg\n",
      "652099 939229 /home/henning/tmp/experiments/ai/stable_diffusion/data/scrolller/img/72440688_b965f137-e532-42e2-941a-3ce0676b09a0.jpg REMOVE: None\n",
      "653000 939229 /home/henning/tmp/experiments/ai/stable_diffusion/data/scrolller/img/72532534_10ba7e89-5483-43a6-9e51-6a05614fd904.jpg\n",
      "654000 939229 /home/henning/tmp/experiments/ai/stable_diffusion/data/scrolller/img/72625268_40938304-4a23-41aa-b1fb-5a467f03720e.jpg\n",
      "655000 939229 /home/henning/tmp/experiments/ai/stable_diffusion/data/scrolller/img/72717755_4f6579ae-acc1-40f4-bab5-65aff850dac7.jpg\n",
      "656000 939229 /home/henning/tmp/experiments/ai/stable_diffusion/data/scrolller/img/72827547_96998c65-3a4f-4e65-b8d5-4f628b080067.jpg\n",
      "657000 939229 /home/henning/tmp/experiments/ai/stable_diffusion/data/scrolller/img/72926018_45a1244a-b19a-4f5f-8c3c-1d9e5d081690.jpg\n"
     ]
    },
    {
     "name": "stderr",
     "output_type": "stream",
     "text": [
      "libpng warning: iCCP: known incorrect sRGB profile\n"
     ]
    },
    {
     "name": "stdout",
     "output_type": "stream",
     "text": [
      "658000 939229 /home/henning/tmp/experiments/ai/stable_diffusion/data/scrolller/img/73014621_4319d331-cecf-4de0-8615-051ec47ccb3d.jpg\n"
     ]
    },
    {
     "name": "stderr",
     "output_type": "stream",
     "text": [
      "Corrupt JPEG data: premature end of data segment\n",
      "Corrupt JPEG data: premature end of data segment\n",
      "Corrupt JPEG data: premature end of data segment\n"
     ]
    },
    {
     "name": "stdout",
     "output_type": "stream",
     "text": [
      "659000 939229 /home/henning/tmp/experiments/ai/stable_diffusion/data/scrolller/img/73112288_321ce120-4767-4b18-83d4-132570ac3658.jpg\n",
      "660000 939229 /home/henning/tmp/experiments/ai/stable_diffusion/data/scrolller/img/73212763_92b488a6-1a18-4052-9dbf-f6b1c3c6c885.jpg\n",
      "661000 939229 /home/henning/tmp/experiments/ai/stable_diffusion/data/scrolller/img/73302773_b373b482-881f-4356-a03e-ee14b9261421.jpg\n",
      "662000 939229 /home/henning/tmp/experiments/ai/stable_diffusion/data/scrolller/img/73399710_532140ac-9826-47a8-bea0-7b20b620ce5e.jpg\n",
      "662383 939229 /home/henning/tmp/experiments/ai/stable_diffusion/data/scrolller/img/73434350_3450d9d3-314c-4424-816b-30530949b1d7.jpg REMOVE: None\n"
     ]
    },
    {
     "name": "stderr",
     "output_type": "stream",
     "text": [
      "libpng warning: sBIT: invalid\n",
      "libpng warning: sBIT: invalid\n"
     ]
    },
    {
     "name": "stdout",
     "output_type": "stream",
     "text": [
      "663000 939229 /home/henning/tmp/experiments/ai/stable_diffusion/data/scrolller/img/734946_13ae5d12-5e02-4c36-b1de-3419e76c1908.jpg\n",
      "663363 939229 /home/henning/tmp/experiments/ai/stable_diffusion/data/scrolller/img/73525415_68f30cb6-ad4e-467b-863c-d53e6cb6d669.jpg REMOVE: None\n",
      "664000 939229 /home/henning/tmp/experiments/ai/stable_diffusion/data/scrolller/img/73587330_80ce6124-71c9-4148-9219-0114e65d2983.jpg\n",
      "664004 939229 /home/henning/tmp/experiments/ai/stable_diffusion/data/scrolller/img/73587784_b1849181-bdd6-4cff-a1db-bc09d467942b.jpg REMOVE: None\n",
      "665000 939229 /home/henning/tmp/experiments/ai/stable_diffusion/data/scrolller/img/7368783_ff953411-4e24-4093-b7c9-a56aec6402c6.jpg\n",
      "666000 939229 /home/henning/tmp/experiments/ai/stable_diffusion/data/scrolller/img/73778417_f1acd8c3-6803-4a26-9632-7a8b0efcfdcf.jpg\n",
      "666471 939229 /home/henning/tmp/experiments/ai/stable_diffusion/data/scrolller/img/73820781_76aaf0dd-7b46-43fc-8b94-97be4b596afa.jpg REMOVE: None\n",
      "667000 939229 /home/henning/tmp/experiments/ai/stable_diffusion/data/scrolller/img/73867706_fb893271-d9db-4d6e-bc42-ee284daac7e6.jpg\n",
      "667067 939229 /home/henning/tmp/experiments/ai/stable_diffusion/data/scrolller/img/7387389_099edb9c-4ea5-4896-8de8-796775a8e544.jpg REMOVE: None\n"
     ]
    },
    {
     "name": "stderr",
     "output_type": "stream",
     "text": [
      "libpng warning: iCCP: known incorrect sRGB profile\n"
     ]
    },
    {
     "name": "stdout",
     "output_type": "stream",
     "text": [
      "667931 939229 /home/henning/tmp/experiments/ai/stable_diffusion/data/scrolller/img/73952704_108c34fb-0d4f-42cc-a1f6-ea4ddc62ed7a.jpg REMOVE: None\n",
      "668000 939229 /home/henning/tmp/experiments/ai/stable_diffusion/data/scrolller/img/73961253_8ab1837a-5ee4-4d42-a5ca-8bff50a6c02b.jpg\n",
      "669000 939229 /home/henning/tmp/experiments/ai/stable_diffusion/data/scrolller/img/74060726_9cff9fdf-d243-4f8c-970f-a98c2175e34a.jpg\n",
      "670000 939229 /home/henning/tmp/experiments/ai/stable_diffusion/data/scrolller/img/74152843_18142d3d-7be1-4cde-962d-1feb64d3adc9.jpg\n",
      "671000 939229 /home/henning/tmp/experiments/ai/stable_diffusion/data/scrolller/img/7425101_5cb31c30-642f-488d-97a3-4c2b46c200f2.jpg\n",
      "672000 939229 /home/henning/tmp/experiments/ai/stable_diffusion/data/scrolller/img/74340392_89d334b9-efb5-4730-98db-933c23839204.jpg\n",
      "673000 939229 /home/henning/tmp/experiments/ai/stable_diffusion/data/scrolller/img/74445132_76dd60f0-eb25-45f1-ba78-9cb3cd669120.jpg\n",
      "674000 939229 /home/henning/tmp/experiments/ai/stable_diffusion/data/scrolller/img/74551021_4a08becc-bbcf-4493-bd96-75c12cf6d397.jpg\n",
      "675000 939229 /home/henning/tmp/experiments/ai/stable_diffusion/data/scrolller/img/74649782_e271d8a8-a166-4528-a5c6-d4a525547687.jpg\n",
      "675551 939229 /home/henning/tmp/experiments/ai/stable_diffusion/data/scrolller/img/74702612_bf5bfd63-6f1d-4bff-80ca-6f1ab4b00e3c.jpg REMOVE: None\n",
      "676000 939229 /home/henning/tmp/experiments/ai/stable_diffusion/data/scrolller/img/74746434_5bfe16a0-61ee-4567-8c45-61cdc0324352.jpg\n",
      "677000 939229 /home/henning/tmp/experiments/ai/stable_diffusion/data/scrolller/img/7483678_2e484125-34ab-4d88-99da-5cc9d8beab7e.jpg\n",
      "678000 939229 /home/henning/tmp/experiments/ai/stable_diffusion/data/scrolller/img/74925774_572c1e65-4aac-4426-935f-70954de4df71.jpg\n",
      "678598 939229 /home/henning/tmp/experiments/ai/stable_diffusion/data/scrolller/img/74978903_0ecb1e5a-d8ef-4db3-a497-cd83a91dce15.jpg REMOVE: None\n",
      "679000 939229 /home/henning/tmp/experiments/ai/stable_diffusion/data/scrolller/img/75016174_fe665d96-d550-4bb8-88e1-f7169f706725.jpg\n",
      "680000 939229 /home/henning/tmp/experiments/ai/stable_diffusion/data/scrolller/img/7511463_7693d1d1-b690-4953-8222-6720ac6a3aa4.jpg\n",
      "680071 939229 /home/henning/tmp/experiments/ai/stable_diffusion/data/scrolller/img/75122276_4d655dcc-7f07-4e9a-af0a-80a434c376d0.jpg REMOVE: None\n",
      "681000 939229 /home/henning/tmp/experiments/ai/stable_diffusion/data/scrolller/img/75213673_fe95ab41-98e0-4b27-8d5a-0b9ee727dd41.jpg\n",
      "682000 939229 /home/henning/tmp/experiments/ai/stable_diffusion/data/scrolller/img/75308565_33b9c26d-8240-4dbd-9b0d-18639b8c858c.jpg\n"
     ]
    },
    {
     "name": "stderr",
     "output_type": "stream",
     "text": [
      "libpng warning: iCCP: known incorrect sRGB profile\n"
     ]
    },
    {
     "name": "stdout",
     "output_type": "stream",
     "text": [
      "683000 939229 /home/henning/tmp/experiments/ai/stable_diffusion/data/scrolller/img/75405517_0a98c5ae-0a0b-49c3-8446-f0d11560e767.jpg\n",
      "684000 939229 /home/henning/tmp/experiments/ai/stable_diffusion/data/scrolller/img/75494311_c4c1e7a2-6921-4544-8ffc-64cd0d8e286f.jpg\n",
      "685000 939229 /home/henning/tmp/experiments/ai/stable_diffusion/data/scrolller/img/75591226_c7c416f4-d3dc-409b-9488-b4c9549a5c27.jpg\n",
      "686000 939229 /home/henning/tmp/experiments/ai/stable_diffusion/data/scrolller/img/75690230_0a883ad8-22c5-4f3f-8d8d-6a33536d8ca4.jpg\n",
      "686709 939229 /home/henning/tmp/experiments/ai/stable_diffusion/data/scrolller/img/75760093_c1ada5c0-6819-41e9-bbcd-5afac1e24097.jpg REMOVE: None\n",
      "687000 939229 /home/henning/tmp/experiments/ai/stable_diffusion/data/scrolller/img/75786757_1f8f658b-5d8a-4ba0-9570-1b4f7dce0133.jpg\n",
      "688000 939229 /home/henning/tmp/experiments/ai/stable_diffusion/data/scrolller/img/75877143_aebe4d2a-c02d-4af1-a961-c7149efa814b.jpg\n",
      "688946 939229 /home/henning/tmp/experiments/ai/stable_diffusion/data/scrolller/img/75960278_cde373e7-5342-4356-9c86-f9b857ad6afe.jpg REMOVE: None\n",
      "689000 939229 /home/henning/tmp/experiments/ai/stable_diffusion/data/scrolller/img/75963747_781b0118-af2a-46d6-ba68-49f595a45cbc.jpg\n",
      "690000 939229 /home/henning/tmp/experiments/ai/stable_diffusion/data/scrolller/img/76063167_e31742b5-c519-4a5a-8af0-541dc94b9956.jpg\n",
      "690166 939229 /home/henning/tmp/experiments/ai/stable_diffusion/data/scrolller/img/76079329_95559e48-736a-460c-8ee5-90f5fba0d294.jpg REMOVE: None\n",
      "690330 939229 /home/henning/tmp/experiments/ai/stable_diffusion/data/scrolller/img/76094094_21728691-9cd8-48cf-aa7a-277056536136.jpg REMOVE: None\n",
      "690995 939229 /home/henning/tmp/experiments/ai/stable_diffusion/data/scrolller/img/76156879_3c5e47b6-aeb9-48a0-a8da-251b9d845b23.jpg REMOVE: None\n",
      "691000 939229 /home/henning/tmp/experiments/ai/stable_diffusion/data/scrolller/img/76157127_05c76bab-e4a4-490f-95cc-707c6635ba5b.jpg\n"
     ]
    },
    {
     "name": "stderr",
     "output_type": "stream",
     "text": [
      "libpng warning: iCCP: known incorrect sRGB profile\n"
     ]
    },
    {
     "name": "stdout",
     "output_type": "stream",
     "text": [
      "692000 939229 /home/henning/tmp/experiments/ai/stable_diffusion/data/scrolller/img/76255368_d5212ed6-c388-48b4-834f-86622abd2128.jpg\n",
      "693000 939229 /home/henning/tmp/experiments/ai/stable_diffusion/data/scrolller/img/76348929_9c1926a6-6acf-48ab-9ef5-7b50b7041ad1.jpg\n",
      "693329 939229 /home/henning/tmp/experiments/ai/stable_diffusion/data/scrolller/img/76381531_18971a77-d105-48cf-ad95-ac7d936a113f.jpg REMOVE: None\n",
      "694000 939229 /home/henning/tmp/experiments/ai/stable_diffusion/data/scrolller/img/76448293_03da338a-3bae-4d89-ab9d-825d2b3ddb72.jpg\n",
      "695000 939229 /home/henning/tmp/experiments/ai/stable_diffusion/data/scrolller/img/7653600_d5c43d20-2aed-42ae-90ef-bd29904c260b.jpg\n",
      "696000 939229 /home/henning/tmp/experiments/ai/stable_diffusion/data/scrolller/img/76631772_b7f48989-83c8-4a45-97b4-4ea0f41541b0.jpg\n",
      "697000 939229 /home/henning/tmp/experiments/ai/stable_diffusion/data/scrolller/img/76722232_1bab4681-5fb7-4497-b801-bb8066fb5fa1.jpg\n",
      "698000 939229 /home/henning/tmp/experiments/ai/stable_diffusion/data/scrolller/img/76832066_6fda2990-3533-4f2d-abed-6b0b9655efea.jpg\n",
      "699000 939229 /home/henning/tmp/experiments/ai/stable_diffusion/data/scrolller/img/76932024_9bbc3a15-c2ce-406c-9194-f87399fd5ab9.jpg\n",
      "699890 939229 /home/henning/tmp/experiments/ai/stable_diffusion/data/scrolller/img/77021336_7364247a-41ac-4012-b6b0-84299046f10a.jpg REMOVE: None\n",
      "700000 939229 /home/henning/tmp/experiments/ai/stable_diffusion/data/scrolller/img/77030287_0ba62630-5fb5-4f78-9edb-0893a5cdccdd.jpg\n",
      "700145 939229 /home/henning/tmp/experiments/ai/stable_diffusion/data/scrolller/img/77044910_5a1adf53-54a5-4cba-8289-8ff5743ccdee.jpg REMOVE: None\n",
      "701000 939229 /home/henning/tmp/experiments/ai/stable_diffusion/data/scrolller/img/77124666_38507943-1e4c-4584-b279-4cf0bad62e47.jpg\n",
      "701166 939229 /home/henning/tmp/experiments/ai/stable_diffusion/data/scrolller/img/7714162_17d242b0-9359-4773-8503-5a11782b88de.jpg REMOVE: None\n",
      "702000 939229 /home/henning/tmp/experiments/ai/stable_diffusion/data/scrolller/img/77215302_e5bda4f0-f2ec-4b16-89dc-2e23518ca046.jpg\n",
      "702062 939229 /home/henning/tmp/experiments/ai/stable_diffusion/data/scrolller/img/77220646_7659522a-9283-475c-9a2d-af5f22386c6f.jpg REMOVE: None\n",
      "703000 939229 /home/henning/tmp/experiments/ai/stable_diffusion/data/scrolller/img/77307444_9d3c7083-13d9-427f-a15f-bf3eae78521a.jpg\n",
      "703834 939229 /home/henning/tmp/experiments/ai/stable_diffusion/data/scrolller/img/77385940_9e6bd9f2-3eb1-4b2b-84ca-2543637e87ec.jpg REMOVE: None\n",
      "704000 939229 /home/henning/tmp/experiments/ai/stable_diffusion/data/scrolller/img/77403902_35dde719-a925-4cc0-9844-43a1f2452008.jpg\n"
     ]
    },
    {
     "name": "stderr",
     "output_type": "stream",
     "text": [
      "libpng warning: iCCP: out of place\n"
     ]
    },
    {
     "name": "stdout",
     "output_type": "stream",
     "text": [
      "705000 939229 /home/henning/tmp/experiments/ai/stable_diffusion/data/scrolller/img/77497665_cf791863-9a32-429b-b988-b7bb4315af56.jpg\n",
      "706000 939229 /home/henning/tmp/experiments/ai/stable_diffusion/data/scrolller/img/77591246_aa7d4c27-d42e-4dad-8b1d-d63e668d6e41.jpg\n"
     ]
    },
    {
     "name": "stderr",
     "output_type": "stream",
     "text": [
      "libpng warning: iCCP: profile 'ICC Profile': 0h: PCS illuminant is not D50\n"
     ]
    },
    {
     "name": "stdout",
     "output_type": "stream",
     "text": [
      "707000 939229 /home/henning/tmp/experiments/ai/stable_diffusion/data/scrolller/img/77688278_3b7b3c2a-9c5a-447c-a97f-dc0bd08eb7e3.jpg\n",
      "708000 939229 /home/henning/tmp/experiments/ai/stable_diffusion/data/scrolller/img/77791932_5a7cc419-1867-4a26-b9d8-da21386c5062.jpg\n",
      "709000 939229 /home/henning/tmp/experiments/ai/stable_diffusion/data/scrolller/img/7789338_ffb7365a-bbdd-41e1-9ffc-566fe3497e5e.jpg\n",
      "710000 939229 /home/henning/tmp/experiments/ai/stable_diffusion/data/scrolller/img/77995458_f07599f9-f640-47fb-8fc7-a6e35fd745cd.jpg\n",
      "711000 939229 /home/henning/tmp/experiments/ai/stable_diffusion/data/scrolller/img/78092654_e70e7746-4b88-4d2e-a985-82410de20e52.jpg\n",
      "711508 939229 /home/henning/tmp/experiments/ai/stable_diffusion/data/scrolller/img/7814243_7b4d4435-9e78-4c06-839b-722cce2b15d4.jpg REMOVE: None\n",
      "712000 939229 /home/henning/tmp/experiments/ai/stable_diffusion/data/scrolller/img/78187476_1758d983-19a9-4a25-80b7-e8e143303203.jpg\n",
      "713000 939229 /home/henning/tmp/experiments/ai/stable_diffusion/data/scrolller/img/78285227_51d23e14-437a-456a-8aeb-366315482249.jpg\n",
      "714000 939229 /home/henning/tmp/experiments/ai/stable_diffusion/data/scrolller/img/7837727_109ca79b-97b3-4c89-8ab2-e5b73d8f1326.jpg\n",
      "714112 939229 /home/henning/tmp/experiments/ai/stable_diffusion/data/scrolller/img/78387609_a71c1f60-7a73-480b-8447-33cf33196c90.jpg REMOVE: None\n",
      "715000 939229 /home/henning/tmp/experiments/ai/stable_diffusion/data/scrolller/img/78475612_304295ca-0d8a-4b4a-bcec-40c06260460e.jpg\n",
      "716000 939229 /home/henning/tmp/experiments/ai/stable_diffusion/data/scrolller/img/78566168_2fefebf9-7866-4308-bc1c-bb98fe9e763e.jpg\n",
      "717000 939229 /home/henning/tmp/experiments/ai/stable_diffusion/data/scrolller/img/78663102_035bfeb2-aad4-4fe6-9e8e-0a82f7a6f49a.jpg\n",
      "717396 939229 /home/henning/tmp/experiments/ai/stable_diffusion/data/scrolller/img/78702073_58f6d69a-bb5d-4f73-a340-62d6fb6446e1.jpg REMOVE: None\n",
      "718000 939229 /home/henning/tmp/experiments/ai/stable_diffusion/data/scrolller/img/78763695_6941f06a-3363-4544-a69f-2e4b787ba9c6.jpg\n",
      "718850 939229 /home/henning/tmp/experiments/ai/stable_diffusion/data/scrolller/img/78848974_21d5f374-e1e0-49a1-8c95-640ce9997495.jpg REMOVE: None\n",
      "719000 939229 /home/henning/tmp/experiments/ai/stable_diffusion/data/scrolller/img/78865284_ac179898-cc23-43ec-aebd-1eb9f3ce97e4.jpg\n",
      "720000 939229 /home/henning/tmp/experiments/ai/stable_diffusion/data/scrolller/img/78965380_17cfe261-5d6b-42df-bfa9-fc6440dc9d77.jpg\n",
      "720019 939229 /home/henning/tmp/experiments/ai/stable_diffusion/data/scrolller/img/78967130_f5a7e65e-062d-47e2-8567-f22269e36f41.jpg REMOVE: None\n",
      "721000 939229 /home/henning/tmp/experiments/ai/stable_diffusion/data/scrolller/img/79056590_9a766b95-fc1e-4b78-bede-7bf5e2020baa.jpg\n",
      "722000 939229 /home/henning/tmp/experiments/ai/stable_diffusion/data/scrolller/img/79150733_52ea9c81-0844-41e8-8468-0f7ea06d977b.jpg\n",
      "723000 939229 /home/henning/tmp/experiments/ai/stable_diffusion/data/scrolller/img/79242408_b003ff4a-cb99-49cf-a6e4-0fb0a151040d.jpg\n"
     ]
    },
    {
     "name": "stderr",
     "output_type": "stream",
     "text": [
      "libpng warning: iCCP: known incorrect sRGB profile\n"
     ]
    },
    {
     "name": "stdout",
     "output_type": "stream",
     "text": [
      "724000 939229 /home/henning/tmp/experiments/ai/stable_diffusion/data/scrolller/img/79344197_ced9cd80-337a-4c11-a1ee-cdbfc4a4516c.jpg\n",
      "725000 939229 /home/henning/tmp/experiments/ai/stable_diffusion/data/scrolller/img/79441744_47ffb5b1-defe-4793-ba25-236f8a55ce22.jpg\n",
      "726000 939229 /home/henning/tmp/experiments/ai/stable_diffusion/data/scrolller/img/79535360_fc4a1637-a52d-48cf-babb-797df649bcca.jpg\n"
     ]
    },
    {
     "name": "stderr",
     "output_type": "stream",
     "text": [
      "libpng warning: iCCP: profile 'ICC Profile': 0h: PCS illuminant is not D50\n",
      "libpng warning: iCCP: known incorrect sRGB profile\n"
     ]
    },
    {
     "name": "stdout",
     "output_type": "stream",
     "text": [
      "727000 939229 /home/henning/tmp/experiments/ai/stable_diffusion/data/scrolller/img/7963496_6619a40e-a44a-4555-82e1-5bc0a22b6270.jpg\n",
      "728000 939229 /home/henning/tmp/experiments/ai/stable_diffusion/data/scrolller/img/79731006_46b46ba6-4ea3-4616-bb53-0e24d4b5bcea.jpg\n",
      "729000 939229 /home/henning/tmp/experiments/ai/stable_diffusion/data/scrolller/img/79827000_5de394e9-ad1d-4363-bf04-6725e36476cc.jpg\n",
      "730000 939229 /home/henning/tmp/experiments/ai/stable_diffusion/data/scrolller/img/79923375_0924a1a2-e709-4351-8b7d-41ce10e29505.jpg\n",
      "730142 939229 /home/henning/tmp/experiments/ai/stable_diffusion/data/scrolller/img/79937751_ad479db3-fa86-4d9e-86be-cd8c8a3d8d19.jpg REMOVE: None\n",
      "731000 939229 /home/henning/tmp/experiments/ai/stable_diffusion/data/scrolller/img/80017278_c06e01dc-da01-451d-a39e-26d0e643d1f7.jpg\n",
      "731138 939229 /home/henning/tmp/experiments/ai/stable_diffusion/data/scrolller/img/80031158_7fefd5ff-94a1-44d0-a388-461cdf2e03ee.jpg REMOVE: None\n",
      "732000 939229 /home/henning/tmp/experiments/ai/stable_diffusion/data/scrolller/img/80110750_f691f6e4-167a-4a05-9fc7-8bb694bd8906.jpg\n",
      "733000 939229 /home/henning/tmp/experiments/ai/stable_diffusion/data/scrolller/img/80200697_e3c9ae1c-1e12-47f1-80ad-3018ec8974a6.jpg\n",
      "734000 939229 /home/henning/tmp/experiments/ai/stable_diffusion/data/scrolller/img/80288747_b19b3d4f-adec-4a2d-93fc-8ee50e028f10.jpg\n",
      "735000 939229 /home/henning/tmp/experiments/ai/stable_diffusion/data/scrolller/img/8038909_87874df1-e15d-414f-87e7-7f013d53b040.jpg\n",
      "736000 939229 /home/henning/tmp/experiments/ai/stable_diffusion/data/scrolller/img/80484134_5a88bd97-6efb-444f-8eec-f4c0411805d5.jpg\n",
      "737000 939229 /home/henning/tmp/experiments/ai/stable_diffusion/data/scrolller/img/80580234_d7b6e4cc-776a-4501-8ad4-7108a33fac6a.jpg\n",
      "738000 939229 /home/henning/tmp/experiments/ai/stable_diffusion/data/scrolller/img/80677981_2bffc7ed-9a7a-4a6c-afa6-25988b0629b4.jpg\n",
      "738582 939229 /home/henning/tmp/experiments/ai/stable_diffusion/data/scrolller/img/80726779_36b7f841-62b9-46a4-9450-941c830d81ba.jpg REMOVE: None\n",
      "739000 939229 /home/henning/tmp/experiments/ai/stable_diffusion/data/scrolller/img/80769411_e8de0510-2053-4403-981a-e5dcee6d0d86.jpg\n"
     ]
    },
    {
     "name": "stderr",
     "output_type": "stream",
     "text": [
      "Corrupt JPEG data: 13724 extraneous bytes before marker 0xc4\n",
      "Corrupt JPEG data: 13724 extraneous bytes before marker 0xc4\n"
     ]
    },
    {
     "name": "stdout",
     "output_type": "stream",
     "text": [
      "740000 939229 /home/henning/tmp/experiments/ai/stable_diffusion/data/scrolller/img/80868174_ed9533eb-0379-4dcb-b7cf-9f8f0d36e900.jpg\n",
      "741000 939229 /home/henning/tmp/experiments/ai/stable_diffusion/data/scrolller/img/80964244_1ce26a1c-1489-464e-a494-ecbcce486c29.jpg\n",
      "742000 939229 /home/henning/tmp/experiments/ai/stable_diffusion/data/scrolller/img/81061911_acfef256-e7d0-40cd-b92e-8970a51cb985.jpg\n",
      "743000 939229 /home/henning/tmp/experiments/ai/stable_diffusion/data/scrolller/img/81161320_8c7e8eae-3b2d-4d54-86ab-d6b0ccf4f3f5.jpg\n",
      "744000 939229 /home/henning/tmp/experiments/ai/stable_diffusion/data/scrolller/img/81258301_a0c9687b-41e2-4266-b624-26fdc0e89231.jpg\n",
      "745000 939229 /home/henning/tmp/experiments/ai/stable_diffusion/data/scrolller/img/81351202_92029f80-2659-4943-a9b9-91e9a08dd648.jpg\n",
      "746000 939229 /home/henning/tmp/experiments/ai/stable_diffusion/data/scrolller/img/81454581_04940aef-67f2-4495-8503-db5661967685.jpg\n",
      "747000 939229 /home/henning/tmp/experiments/ai/stable_diffusion/data/scrolller/img/81557225_d16c9737-5800-43f0-b01b-a6deb1b61d67.jpg\n",
      "748000 939229 /home/henning/tmp/experiments/ai/stable_diffusion/data/scrolller/img/81659595_12d4c5d9-f721-4453-bd0f-e5fd22952f8d.jpg\n",
      "749000 939229 /home/henning/tmp/experiments/ai/stable_diffusion/data/scrolller/img/81754845_55575dca-be9d-4072-8e78-f9d782d29568.jpg\n",
      "750000 939229 /home/henning/tmp/experiments/ai/stable_diffusion/data/scrolller/img/81854131_0c84391c-cfb1-47e0-bf11-ead6ab6f4dc8.jpg\n",
      "751000 939229 /home/henning/tmp/experiments/ai/stable_diffusion/data/scrolller/img/81950831_9814dd36-ea67-4da8-b9b4-c402defc1396.jpg\n",
      "752000 939229 /home/henning/tmp/experiments/ai/stable_diffusion/data/scrolller/img/82048329_065334bf-089b-49f6-8013-c362dee70802.jpg\n"
     ]
    },
    {
     "name": "stderr",
     "output_type": "stream",
     "text": [
      "libpng warning: iCCP: known incorrect sRGB profile\n"
     ]
    },
    {
     "name": "stdout",
     "output_type": "stream",
     "text": [
      "753000 939229 /home/henning/tmp/experiments/ai/stable_diffusion/data/scrolller/img/82143512_8a7a1383-097a-4aee-9df4-c8b61e1f683e.jpg\n",
      "754000 939229 /home/henning/tmp/experiments/ai/stable_diffusion/data/scrolller/img/82242678_24cc2628-fbb2-496b-b36c-abf84133a953.jpg\n",
      "755000 939229 /home/henning/tmp/experiments/ai/stable_diffusion/data/scrolller/img/82341612_941ac994-d81c-4950-bd43-f9590aa4134d.jpg\n"
     ]
    },
    {
     "name": "stderr",
     "output_type": "stream",
     "text": [
      "libpng warning: iCCP: known incorrect sRGB profile\n"
     ]
    },
    {
     "name": "stdout",
     "output_type": "stream",
     "text": [
      "756000 939229 /home/henning/tmp/experiments/ai/stable_diffusion/data/scrolller/img/8243635_deeee0b1-c5ed-4e08-ba8a-ce2ff51b2174.jpg\n",
      "756360 939229 /home/henning/tmp/experiments/ai/stable_diffusion/data/scrolller/img/82470425_4a226ff6-62d1-4b75-ae27-b22ea761bbb4.jpg REMOVE: None\n"
     ]
    },
    {
     "name": "stderr",
     "output_type": "stream",
     "text": [
      "libpng warning: iCCP: known incorrect sRGB profile\n"
     ]
    },
    {
     "name": "stdout",
     "output_type": "stream",
     "text": [
      "757000 939229 /home/henning/tmp/experiments/ai/stable_diffusion/data/scrolller/img/82531552_79e50ca3-80fa-43ff-a65b-7ebbef0b7034.jpg\n",
      "758000 939229 /home/henning/tmp/experiments/ai/stable_diffusion/data/scrolller/img/82631146_f23f5358-9d16-4813-9c35-e4d1d3c97049.jpg\n",
      "759000 939229 /home/henning/tmp/experiments/ai/stable_diffusion/data/scrolller/img/82730277_454aa932-33a6-4924-b67c-56fe10bc44de.jpg\n",
      "760000 939229 /home/henning/tmp/experiments/ai/stable_diffusion/data/scrolller/img/828240_c298d5e9-bd86-4fc2-a211-16d0ea185bfa.jpg\n",
      "761000 939229 /home/henning/tmp/experiments/ai/stable_diffusion/data/scrolller/img/82923367_c0361801-d631-455e-b956-a98655925dae.jpg\n",
      "762000 939229 /home/henning/tmp/experiments/ai/stable_diffusion/data/scrolller/img/83023503_542a8e93-6662-4e67-b0aa-4f749a770741.jpg\n",
      "763000 939229 /home/henning/tmp/experiments/ai/stable_diffusion/data/scrolller/img/831248_63cb8f0b-afa0-48af-9c2d-6113b341b053.jpg\n",
      "764000 939229 /home/henning/tmp/experiments/ai/stable_diffusion/data/scrolller/img/83212433_f6d07d85-80f9-4243-9d2a-7369fab6bd1f.jpg\n",
      "765000 939229 /home/henning/tmp/experiments/ai/stable_diffusion/data/scrolller/img/83306793_6f554367-5432-448a-83e8-55e41bac14bb.jpg\n",
      "765644 939229 /home/henning/tmp/experiments/ai/stable_diffusion/data/scrolller/img/83372575_42515951-f9be-4e62-b7e8-4ed16414b754.jpg REMOVE: None\n",
      "765685 939229 /home/henning/tmp/experiments/ai/stable_diffusion/data/scrolller/img/83375694_f7df3cf4-e59d-45d7-af79-b0bd71157277.jpg REMOVE: None\n",
      "766000 939229 /home/henning/tmp/experiments/ai/stable_diffusion/data/scrolller/img/83406974_6ec245c5-9b44-49b3-8269-9d849a51340b.jpg\n",
      "767000 939229 /home/henning/tmp/experiments/ai/stable_diffusion/data/scrolller/img/83504182_d3acb32c-26d3-4c5d-b843-67cc397a5eb1.jpg\n",
      "768000 939229 /home/henning/tmp/experiments/ai/stable_diffusion/data/scrolller/img/83602721_37cc5fd7-2c18-4ef5-8277-7237b3a5aee4.jpg\n",
      "769000 939229 /home/henning/tmp/experiments/ai/stable_diffusion/data/scrolller/img/83692386_c7151752-14b7-49fe-8606-5427d1fca857.jpg\n"
     ]
    },
    {
     "name": "stderr",
     "output_type": "stream",
     "text": [
      "libpng warning: iCCP: known incorrect sRGB profile\n"
     ]
    },
    {
     "name": "stdout",
     "output_type": "stream",
     "text": [
      "770000 939229 /home/henning/tmp/experiments/ai/stable_diffusion/data/scrolller/img/83790135_8274ec51-936f-436d-8952-6eae5c8283ad.jpg\n",
      "771000 939229 /home/henning/tmp/experiments/ai/stable_diffusion/data/scrolller/img/83893473_8dbe5c62-4fbb-4d7b-9eae-bb098f4db21c.jpg\n",
      "772000 939229 /home/henning/tmp/experiments/ai/stable_diffusion/data/scrolller/img/83985246_5f6b2878-aa8e-4780-a3ca-c35c53e70b2d.jpg\n",
      "772369 939229 /home/henning/tmp/experiments/ai/stable_diffusion/data/scrolller/img/84020881_03d8d57f-ec96-4801-a248-c1ad78576421.jpg REMOVE: None\n",
      "773000 939229 /home/henning/tmp/experiments/ai/stable_diffusion/data/scrolller/img/84084812_e0b271bf-b6bb-46d8-9dd2-b1bb9e315518.jpg\n",
      "774000 939229 /home/henning/tmp/experiments/ai/stable_diffusion/data/scrolller/img/84193997_41a0200b-ca32-47b8-b37a-4059126f16b8.jpg\n",
      "775000 939229 /home/henning/tmp/experiments/ai/stable_diffusion/data/scrolller/img/84291758_0f936163-f5df-48cc-aec5-42b0a1b13f78.jpg\n",
      "776000 939229 /home/henning/tmp/experiments/ai/stable_diffusion/data/scrolller/img/84390068_412de4fa-740c-483a-bae9-02a9c6b4f61e.jpg\n",
      "777000 939229 /home/henning/tmp/experiments/ai/stable_diffusion/data/scrolller/img/84489021_c9f3c629-ff65-4226-8bc4-909b6b2ffd8b.jpg\n",
      "778000 939229 /home/henning/tmp/experiments/ai/stable_diffusion/data/scrolller/img/84589126_f884fdba-ea7c-4eb7-857a-aab885e23374.jpg\n",
      "778299 939229 /home/henning/tmp/experiments/ai/stable_diffusion/data/scrolller/img/84617857_552c672d-8e73-46f8-9bfe-b805647f76bd.jpg REMOVE: None\n",
      "779000 939229 /home/henning/tmp/experiments/ai/stable_diffusion/data/scrolller/img/84687193_dd467052-37bd-4aee-9153-4dca4dd20fe5.jpg\n",
      "779066 939229 /home/henning/tmp/experiments/ai/stable_diffusion/data/scrolller/img/84695145_64b62c77-ddd0-4242-9cf3-98637a3b8cbc.jpg REMOVE: None\n",
      "780000 939229 /home/henning/tmp/experiments/ai/stable_diffusion/data/scrolller/img/84778795_a545d82c-3e76-48ea-9a0f-bc5fcb3e7189.jpg\n",
      "781000 939229 /home/henning/tmp/experiments/ai/stable_diffusion/data/scrolller/img/84873948_bd39580b-3975-4ebd-afad-0084a28444f8.jpg\n",
      "782000 939229 /home/henning/tmp/experiments/ai/stable_diffusion/data/scrolller/img/84969220_dddd15ba-82dc-4746-aa4b-f79abc59a942.jpg\n",
      "783000 939229 /home/henning/tmp/experiments/ai/stable_diffusion/data/scrolller/img/85058190_50558e9f-a168-40d0-98f3-de9ecd104d66.jpg\n",
      "783227 939229 /home/henning/tmp/experiments/ai/stable_diffusion/data/scrolller/img/8508036_fb396209-28fe-4c8f-9f7d-145fdf38d6f3.jpg REMOVE: None\n",
      "784000 939229 /home/henning/tmp/experiments/ai/stable_diffusion/data/scrolller/img/85148334_c2fef59d-a6ce-42f4-b71c-38aa63b5b050.jpg\n",
      "785000 939229 /home/henning/tmp/experiments/ai/stable_diffusion/data/scrolller/img/85240672_f7bb8453-ea38-43d7-abcb-08c10b6654c6.jpg\n",
      "786000 939229 /home/henning/tmp/experiments/ai/stable_diffusion/data/scrolller/img/85325804_f3d18e5a-f6a4-44d4-a071-372d25f2bdb7.jpg\n",
      "787000 939229 /home/henning/tmp/experiments/ai/stable_diffusion/data/scrolller/img/8542594_e9ff4f04-2c4d-4190-ad25-bd3b6ff24b01.jpg\n",
      "788000 939229 /home/henning/tmp/experiments/ai/stable_diffusion/data/scrolller/img/855240_4a8a73d4-af7b-4d94-953d-d95bc7bfa92d.jpg\n",
      "789000 939229 /home/henning/tmp/experiments/ai/stable_diffusion/data/scrolller/img/85614848_54cd73fc-dc67-4e5b-a3c7-cf11e9232c5a.jpg\n",
      "790000 939229 /home/henning/tmp/experiments/ai/stable_diffusion/data/scrolller/img/85703942_4b8b102d-c283-40fb-8d9f-13a3ee10ec20.jpg\n",
      "791000 939229 /home/henning/tmp/experiments/ai/stable_diffusion/data/scrolller/img/85797339_0e70febe-1790-4e1b-82bc-c63fb79aa9df.jpg\n",
      "792000 939229 /home/henning/tmp/experiments/ai/stable_diffusion/data/scrolller/img/85895902_d61ca6e6-48ce-485e-8ce1-0294cfdce156.jpg\n",
      "793000 939229 /home/henning/tmp/experiments/ai/stable_diffusion/data/scrolller/img/85996104_f1a9cc89-677a-49c0-88dc-c6b74e6d9c1a.jpg\n"
     ]
    },
    {
     "name": "stderr",
     "output_type": "stream",
     "text": [
      "libpng warning: iCCP: profile 'ICC Profile': 0h: PCS illuminant is not D50\n"
     ]
    },
    {
     "name": "stdout",
     "output_type": "stream",
     "text": [
      "794000 939229 /home/henning/tmp/experiments/ai/stable_diffusion/data/scrolller/img/86092716_24f648eb-f7e1-4c7b-ba9d-c80023fc5f32.jpg\n",
      "795000 939229 /home/henning/tmp/experiments/ai/stable_diffusion/data/scrolller/img/86193237_7c2cbd2c-4789-4c26-8c5c-b95e8e9ef9ad.jpg\n",
      "796000 939229 /home/henning/tmp/experiments/ai/stable_diffusion/data/scrolller/img/86286296_5875876f-2b02-4094-b555-49a8ad8b9baf.jpg\n"
     ]
    },
    {
     "name": "stderr",
     "output_type": "stream",
     "text": [
      "/home/henning/tmp/experiments/ai/stable_diffusion/venv/lib/python3.11/site-packages/PIL/Image.py:3186: DecompressionBombWarning: Image size (95316625 pixels) exceeds limit of 89478485 pixels, could be decompression bomb DOS attack.\n",
      "  warnings.warn(\n"
     ]
    },
    {
     "name": "stdout",
     "output_type": "stream",
     "text": [
      "797000 939229 /home/henning/tmp/experiments/ai/stable_diffusion/data/scrolller/img/86385681_3753eb2a-f65d-412f-8389-97d9362fdddf.jpg\n"
     ]
    },
    {
     "name": "stderr",
     "output_type": "stream",
     "text": [
      "libpng warning: iCCP: known incorrect sRGB profile\n"
     ]
    },
    {
     "name": "stdout",
     "output_type": "stream",
     "text": [
      "798000 939229 /home/henning/tmp/experiments/ai/stable_diffusion/data/scrolller/img/86480909_ce4c5a94-4e08-477f-9cba-f02fec8336d0.jpg\n",
      "799000 939229 /home/henning/tmp/experiments/ai/stable_diffusion/data/scrolller/img/86580011_88285dbe-daae-43e5-b246-6d0662b8aaa6.jpg\n",
      "800000 939229 /home/henning/tmp/experiments/ai/stable_diffusion/data/scrolller/img/86678090_51c2a837-1975-41aa-8301-84fd5aefcf12.jpg\n",
      "801000 939229 /home/henning/tmp/experiments/ai/stable_diffusion/data/scrolller/img/86762729_a216bcbe-4dff-4567-9e71-ddbaecf42bef.jpg\n",
      "801573 939229 /home/henning/tmp/experiments/ai/stable_diffusion/data/scrolller/img/86823868_0b9a46ea-3015-4b06-8c75-d22811386d43.jpg REMOVE: None\n",
      "802000 939229 /home/henning/tmp/experiments/ai/stable_diffusion/data/scrolller/img/86866026_c4c438a2-7bb1-472c-bd6e-1d369b28baef.jpg\n",
      "803000 939229 /home/henning/tmp/experiments/ai/stable_diffusion/data/scrolller/img/86954935_38f4c523-33f5-4eb6-af7c-1efc6c463f41.jpg\n"
     ]
    },
    {
     "name": "stderr",
     "output_type": "stream",
     "text": [
      "libpng warning: iCCP: known incorrect sRGB profile\n"
     ]
    },
    {
     "name": "stdout",
     "output_type": "stream",
     "text": [
      "803846 939229 /home/henning/tmp/experiments/ai/stable_diffusion/data/scrolller/img/8703611_1048c199-ccdf-4b03-a3c9-517c473a8520.jpg REMOVE: None\n",
      "804000 939229 /home/henning/tmp/experiments/ai/stable_diffusion/data/scrolller/img/87053067_637dce96-13c0-40b4-9c65-f5169fbd622a.jpg\n",
      "805000 939229 /home/henning/tmp/experiments/ai/stable_diffusion/data/scrolller/img/87148100_0fb801a7-f855-49a8-b555-1dae4eea9cae.jpg\n",
      "806000 939229 /home/henning/tmp/experiments/ai/stable_diffusion/data/scrolller/img/87234916_cc05def4-1269-43f3-96fd-0dabefb493f3.jpg\n",
      "807000 939229 /home/henning/tmp/experiments/ai/stable_diffusion/data/scrolller/img/87321501_3c3a20d3-38a5-4193-bedd-b37a8983f715.jpg\n",
      "808000 939229 /home/henning/tmp/experiments/ai/stable_diffusion/data/scrolller/img/87424148_653e54e9-1d7f-4282-b196-da5542342c1f.jpg\n",
      "809000 939229 /home/henning/tmp/experiments/ai/stable_diffusion/data/scrolller/img/87515915_2d2f1e87-4972-43ab-9a93-5981fcb444f6.jpg\n",
      "810000 939229 /home/henning/tmp/experiments/ai/stable_diffusion/data/scrolller/img/87605888_6f647548-73d1-4f4b-bd2a-0e660b9c6e6e.jpg\n",
      "810536 939229 /home/henning/tmp/experiments/ai/stable_diffusion/data/scrolller/img/87659772_4f6239d6-0895-4f31-8375-a24e63227c81.jpg REMOVE: None\n",
      "811000 939229 /home/henning/tmp/experiments/ai/stable_diffusion/data/scrolller/img/87706167_92a0b710-6785-402f-8472-2cd0e32045b8.jpg\n",
      "812000 939229 /home/henning/tmp/experiments/ai/stable_diffusion/data/scrolller/img/87803178_442d131f-0ace-4e7b-bafb-7e6c728dc959.jpg\n",
      "813000 939229 /home/henning/tmp/experiments/ai/stable_diffusion/data/scrolller/img/87901159_2550f0e2-d448-45e2-b33e-26f833e91edc.jpg\n",
      "814000 939229 /home/henning/tmp/experiments/ai/stable_diffusion/data/scrolller/img/88001058_bcff59c8-6e6f-4210-ae19-f48b52f3af88.jpg\n",
      "815000 939229 /home/henning/tmp/experiments/ai/stable_diffusion/data/scrolller/img/8809574_03d2bfd0-c6e7-4973-89d9-3df868fa71d6.jpg\n"
     ]
    },
    {
     "name": "stderr",
     "output_type": "stream",
     "text": [
      "libpng warning: iCCP: known incorrect sRGB profile\n"
     ]
    },
    {
     "name": "stdout",
     "output_type": "stream",
     "text": [
      "816000 939229 /home/henning/tmp/experiments/ai/stable_diffusion/data/scrolller/img/88194379_0d62b3f9-78a4-40f7-b59c-a1c50a1b98c8.jpg\n"
     ]
    },
    {
     "name": "stderr",
     "output_type": "stream",
     "text": [
      "libpng warning: iCCP: known incorrect sRGB profile\n"
     ]
    },
    {
     "name": "stdout",
     "output_type": "stream",
     "text": [
      "817000 939229 /home/henning/tmp/experiments/ai/stable_diffusion/data/scrolller/img/88278472_efd02888-aad6-49e1-9218-292a12fa786c.jpg\n",
      "817377 939229 /home/henning/tmp/experiments/ai/stable_diffusion/data/scrolller/img/88312037_e3cc0b88-3fef-433b-a68e-a3ec95c51978.jpg REMOVE: None\n",
      "817451 939229 /home/henning/tmp/experiments/ai/stable_diffusion/data/scrolller/img/88320079_dc85baf0-1b6f-422d-b7e5-bf44722ff94d.jpg REMOVE: None\n",
      "818000 939229 /home/henning/tmp/experiments/ai/stable_diffusion/data/scrolller/img/88373379_1a78ed7a-82b3-4ba6-ba5c-cf2f4151e4d8.jpg\n",
      "819000 939229 /home/henning/tmp/experiments/ai/stable_diffusion/data/scrolller/img/88467592_cd833360-a193-482c-b148-b87d38eadd02.jpg\n",
      "820000 939229 /home/henning/tmp/experiments/ai/stable_diffusion/data/scrolller/img/88562316_f2566ab1-d5ca-4986-aa99-81795d6704de.jpg\n",
      "820007 939229 /home/henning/tmp/experiments/ai/stable_diffusion/data/scrolller/img/8856347_8ddc9e96-0ada-4c68-8283-9b96877e5391.jpg REMOVE: None\n",
      "821000 939229 /home/henning/tmp/experiments/ai/stable_diffusion/data/scrolller/img/88657288_0c5447a5-04eb-4841-af74-d3eea8c812ce.jpg\n",
      "822000 939229 /home/henning/tmp/experiments/ai/stable_diffusion/data/scrolller/img/88758508_83326998-37e6-4929-b838-36c7e17d8000.jpg\n",
      "823000 939229 /home/henning/tmp/experiments/ai/stable_diffusion/data/scrolller/img/88856778_7024efe7-b4fd-4c78-a0ac-7bc2ca43b4c1.jpg\n",
      "823458 939229 /home/henning/tmp/experiments/ai/stable_diffusion/data/scrolller/img/88899970_793a1bc7-a8af-475b-a795-f3521a46c9f5.jpg REMOVE: None\n",
      "824000 939229 /home/henning/tmp/experiments/ai/stable_diffusion/data/scrolller/img/88954557_bc235746-9a47-4e9a-a27a-6f22a607aed5.jpg\n",
      "825000 939229 /home/henning/tmp/experiments/ai/stable_diffusion/data/scrolller/img/89053201_b1bb2914-140c-4cf3-8cc9-ff4aaad94322.jpg\n",
      "826000 939229 /home/henning/tmp/experiments/ai/stable_diffusion/data/scrolller/img/89150038_62e735f2-b661-4be2-8293-d0324f63a28e.jpg\n",
      "826620 939229 /home/henning/tmp/experiments/ai/stable_diffusion/data/scrolller/img/89213225_5675577e-078d-46a8-a926-43881b104c69.jpg REMOVE: None\n",
      "827000 939229 /home/henning/tmp/experiments/ai/stable_diffusion/data/scrolller/img/89250289_f1fdead4-cee8-4a52-87f4-b39e004813e1.jpg\n",
      "828000 939229 /home/henning/tmp/experiments/ai/stable_diffusion/data/scrolller/img/89351445_e9723847-b109-44e0-9076-9ed9096bdf38.jpg\n"
     ]
    },
    {
     "name": "stderr",
     "output_type": "stream",
     "text": [
      "Corrupt JPEG data: 11054 extraneous bytes before marker 0xc4\n",
      "Corrupt JPEG data: 11054 extraneous bytes before marker 0xc4\n"
     ]
    },
    {
     "name": "stdout",
     "output_type": "stream",
     "text": [
      "829000 939229 /home/henning/tmp/experiments/ai/stable_diffusion/data/scrolller/img/89442980_30ffb4da-63ee-4e9e-bfb0-becff51ee9ba.jpg\n",
      "829793 939229 /home/henning/tmp/experiments/ai/stable_diffusion/data/scrolller/img/89511731_e9dd20b9-2b04-4bed-837c-383ee7ab58a1.jpg REMOVE: None\n",
      "830000 939229 /home/henning/tmp/experiments/ai/stable_diffusion/data/scrolller/img/89532481_92fdf77b-5427-40ea-a703-8ecf51f4c676.jpg\n",
      "831000 939229 /home/henning/tmp/experiments/ai/stable_diffusion/data/scrolller/img/89626034_211cb6fe-cde1-4f72-9064-2f475ad54bda.jpg\n",
      "832000 939229 /home/henning/tmp/experiments/ai/stable_diffusion/data/scrolller/img/89725142_648b1650-bfbc-4737-a9fc-870fb7a14b0b.jpg\n",
      "833000 939229 /home/henning/tmp/experiments/ai/stable_diffusion/data/scrolller/img/89825695_b2adef2d-0e74-4180-be1f-61a3ef96afbb.jpg\n",
      "834000 939229 /home/henning/tmp/experiments/ai/stable_diffusion/data/scrolller/img/89925145_cb96987c-4e90-47c0-b0dd-fb819f5f3ce1.jpg\n",
      "835000 939229 /home/henning/tmp/experiments/ai/stable_diffusion/data/scrolller/img/90019912_56852502-49e2-45a1-9644-0f6838ea0dc3.jpg\n",
      "836000 939229 /home/henning/tmp/experiments/ai/stable_diffusion/data/scrolller/img/90114658_108b3061-3764-4e6b-90e1-1b6a6e035fa9.jpg\n",
      "836768 939229 /home/henning/tmp/experiments/ai/stable_diffusion/data/scrolller/img/90188183_bb0c8ee1-abd5-4114-867d-154ac459aaab.jpg REMOVE: None\n",
      "837000 939229 /home/henning/tmp/experiments/ai/stable_diffusion/data/scrolller/img/90213544_37275b96-dfd7-40c8-9c71-8e097e3a067c.jpg\n",
      "837249 939229 /home/henning/tmp/experiments/ai/stable_diffusion/data/scrolller/img/90236149_6e9beb32-282c-4767-952b-49735d917695.jpg REMOVE: None\n",
      "838000 939229 /home/henning/tmp/experiments/ai/stable_diffusion/data/scrolller/img/90308490_6cfeb784-f121-44af-867e-78d5e2d69f56.jpg\n",
      "839000 939229 /home/henning/tmp/experiments/ai/stable_diffusion/data/scrolller/img/90410974_ecdf65af-90a1-4cd2-885b-9fd49ea65fb4.jpg\n",
      "839100 939229 /home/henning/tmp/experiments/ai/stable_diffusion/data/scrolller/img/9042095_aadfc230-0a96-4906-8f71-e9b506e6f42e.jpg REMOVE: None\n",
      "840000 939229 /home/henning/tmp/experiments/ai/stable_diffusion/data/scrolller/img/90502810_fe30b0f4-3f27-4596-bb49-0dc97dd1bbb8.jpg\n",
      "841000 939229 /home/henning/tmp/experiments/ai/stable_diffusion/data/scrolller/img/90596634_99eca42d-2e8a-404c-b0c9-838117d0691a.jpg\n",
      "842000 939229 /home/henning/tmp/experiments/ai/stable_diffusion/data/scrolller/img/90697137_694ed075-a358-4478-b679-dcdf08947b83.jpg\n",
      "843000 939229 /home/henning/tmp/experiments/ai/stable_diffusion/data/scrolller/img/90787819_c1441ad9-9b5f-4ab9-9004-7e5739a1260a.jpg\n",
      "844000 939229 /home/henning/tmp/experiments/ai/stable_diffusion/data/scrolller/img/90884746_33fc1f43-4b68-4707-a446-f18c0f3e07a8.jpg\n",
      "845000 939229 /home/henning/tmp/experiments/ai/stable_diffusion/data/scrolller/img/90981767_ed4a7536-ef97-442e-9c71-7abaec2edd61.jpg\n",
      "846000 939229 /home/henning/tmp/experiments/ai/stable_diffusion/data/scrolller/img/91076203_78b558df-73b5-4e7f-90be-42b9c4999b9b.jpg\n",
      "846088 939229 /home/henning/tmp/experiments/ai/stable_diffusion/data/scrolller/img/91084824_f008b7ff-6f11-4fe6-95ca-66ac76577347.jpg REMOVE: None\n",
      "847000 939229 /home/henning/tmp/experiments/ai/stable_diffusion/data/scrolller/img/91173787_e4412d2c-0e27-486b-876e-8dac68d9fef0.jpg\n",
      "848000 939229 /home/henning/tmp/experiments/ai/stable_diffusion/data/scrolller/img/91267628_fe7ba1b0-2f5f-431d-9e67-a5a98a77c471.jpg\n",
      "849000 939229 /home/henning/tmp/experiments/ai/stable_diffusion/data/scrolller/img/91360940_4e4abe40-5864-4d78-a2fa-25f11f2d6f6c.jpg\n"
     ]
    },
    {
     "name": "stderr",
     "output_type": "stream",
     "text": [
      "/home/henning/tmp/experiments/ai/stable_diffusion/venv/lib/python3.11/site-packages/PIL/Image.py:3186: DecompressionBombWarning: Image size (155520000 pixels) exceeds limit of 89478485 pixels, could be decompression bomb DOS attack.\n",
      "  warnings.warn(\n"
     ]
    },
    {
     "name": "stdout",
     "output_type": "stream",
     "text": [
      "850000 939229 /home/henning/tmp/experiments/ai/stable_diffusion/data/scrolller/img/91454726_79e2ad87-4b45-4036-bb62-d82693d7812f.jpg\n",
      "850604 939229 /home/henning/tmp/experiments/ai/stable_diffusion/data/scrolller/img/91517019_d93620a1-172c-47a2-8cbf-c80e4590105a.jpg REMOVE: None\n",
      "851000 939229 /home/henning/tmp/experiments/ai/stable_diffusion/data/scrolller/img/91548611_8a6ca4db-3b43-4a18-9489-eb955ffccd0a.jpg\n",
      "852000 939229 /home/henning/tmp/experiments/ai/stable_diffusion/data/scrolller/img/91642730_4253bfb5-c637-4c0a-ba8c-94cbcd002592.jpg\n",
      "853000 939229 /home/henning/tmp/experiments/ai/stable_diffusion/data/scrolller/img/91735618_e32aa399-7bd3-41cc-b845-8ee3eb7a546c.jpg\n"
     ]
    },
    {
     "name": "stderr",
     "output_type": "stream",
     "text": [
      "libpng warning: iCCP: known incorrect sRGB profile\n"
     ]
    },
    {
     "name": "stdout",
     "output_type": "stream",
     "text": [
      "853562 939229 /home/henning/tmp/experiments/ai/stable_diffusion/data/scrolller/img/9179788_33b4657f-fd36-4ea2-9803-61f36b3553dd.jpg REMOVE: None\n",
      "854000 939229 /home/henning/tmp/experiments/ai/stable_diffusion/data/scrolller/img/91838206_43406dd3-a426-433b-b431-784052dc0cee.jpg\n"
     ]
    },
    {
     "name": "stderr",
     "output_type": "stream",
     "text": [
      "libpng warning: iCCP: known incorrect sRGB profile\n"
     ]
    },
    {
     "name": "stdout",
     "output_type": "stream",
     "text": [
      "855000 939229 /home/henning/tmp/experiments/ai/stable_diffusion/data/scrolller/img/91926132_226c6c9d-28c6-407d-9d5e-4f5c4b0e50f0.jpg\n",
      "855967 939229 /home/henning/tmp/experiments/ai/stable_diffusion/data/scrolller/img/92022259_1116dd56-3f3f-429d-8cc8-3a78df3ff2cc.jpg REMOVE: None\n",
      "856000 939229 /home/henning/tmp/experiments/ai/stable_diffusion/data/scrolller/img/9202488_1e34df63-819c-4915-ac41-19d8b5bf38f9.jpg\n",
      "856776 939229 /home/henning/tmp/experiments/ai/stable_diffusion/data/scrolller/img/92103040_b14379e8-a513-47d3-bcac-aea734961faa.jpg REMOVE: None\n",
      "857000 939229 /home/henning/tmp/experiments/ai/stable_diffusion/data/scrolller/img/92128229_3644ae42-16cb-4378-beba-aefca9760511.jpg\n",
      "858000 939229 /home/henning/tmp/experiments/ai/stable_diffusion/data/scrolller/img/92224819_14752fed-13d9-47ba-b64b-f50c39aeee93.jpg\n",
      "859000 939229 /home/henning/tmp/experiments/ai/stable_diffusion/data/scrolller/img/92328558_be0a2aa9-5e93-47ca-8684-65e174463d72.jpg\n",
      "859166 939229 /home/henning/tmp/experiments/ai/stable_diffusion/data/scrolller/img/92342661_7355e4bb-aee8-46b8-bd8c-8d09e9c20467.jpg REMOVE: None\n",
      "860000 939229 /home/henning/tmp/experiments/ai/stable_diffusion/data/scrolller/img/92413903_b8ce95bd-663a-4ef6-8cbe-96b546670ed7.jpg\n",
      "860837 939229 /home/henning/tmp/experiments/ai/stable_diffusion/data/scrolller/img/9249893_154d7862-abfe-4763-84b6-c2fa14933370.jpg REMOVE: None\n",
      "861000 939229 /home/henning/tmp/experiments/ai/stable_diffusion/data/scrolller/img/92514105_495c3f65-155a-4cd0-9c09-453f1997f5c0.jpg\n",
      "862000 939229 /home/henning/tmp/experiments/ai/stable_diffusion/data/scrolller/img/926130_c50ca202-7c1d-4f65-a3ac-e9a7d3ff1383.jpg\n",
      "863000 939229 /home/henning/tmp/experiments/ai/stable_diffusion/data/scrolller/img/92713598_e5ee6bcf-7f83-49df-be34-46ee8c9930e7.jpg\n",
      "864000 939229 /home/henning/tmp/experiments/ai/stable_diffusion/data/scrolller/img/92807870_78d9e8e4-7134-4df5-bf65-42607d08b8a1.jpg\n",
      "865000 939229 /home/henning/tmp/experiments/ai/stable_diffusion/data/scrolller/img/92909322_a2270122-e626-4ed9-98ca-f1e5e974f02f.jpg\n",
      "866000 939229 /home/henning/tmp/experiments/ai/stable_diffusion/data/scrolller/img/92999616_5f0cca64-d920-4cac-a5ea-f8b5d0f528bf.jpg\n",
      "867000 939229 /home/henning/tmp/experiments/ai/stable_diffusion/data/scrolller/img/93100305_ebe96a7c-f33b-44e9-9101-a0e759d017d8.jpg\n",
      "868000 939229 /home/henning/tmp/experiments/ai/stable_diffusion/data/scrolller/img/93195512_08ee1f87-f187-4587-9709-ba6bcf65e2ad.jpg\n",
      "869000 939229 /home/henning/tmp/experiments/ai/stable_diffusion/data/scrolller/img/93289838_051cc0b2-c768-4c51-8bac-196400bf933f.jpg\n",
      "869341 939229 /home/henning/tmp/experiments/ai/stable_diffusion/data/scrolller/img/93318647_58f7c4c8-56da-480a-b0cd-fddc4922392c.jpg REMOVE: None\n",
      "870000 939229 /home/henning/tmp/experiments/ai/stable_diffusion/data/scrolller/img/93383918_6bd9988c-a154-4367-8787-f4024d4c03b6.jpg\n",
      "871000 939229 /home/henning/tmp/experiments/ai/stable_diffusion/data/scrolller/img/93475537_a56ed203-3d72-4cb9-8278-2d716ee817d3.jpg\n",
      "872000 939229 /home/henning/tmp/experiments/ai/stable_diffusion/data/scrolller/img/93576759_5d12dbdc-51f3-497e-9fcf-e05fc4a8d4e1.jpg\n",
      "873000 939229 /home/henning/tmp/experiments/ai/stable_diffusion/data/scrolller/img/93672991_242a0944-d5ab-42fd-9980-688c5a121c09.jpg\n",
      "874000 939229 /home/henning/tmp/experiments/ai/stable_diffusion/data/scrolller/img/93769512_fc947deb-7e0e-41c7-b3c9-5d9e26412a17.jpg\n",
      "874301 939229 /home/henning/tmp/experiments/ai/stable_diffusion/data/scrolller/img/93798633_e994a262-75d0-4a6b-8494-9cb400d9bd51.jpg REMOVE: None\n"
     ]
    },
    {
     "name": "stderr",
     "output_type": "stream",
     "text": [
      "libpng warning: iCCP: known incorrect sRGB profile\n"
     ]
    },
    {
     "name": "stdout",
     "output_type": "stream",
     "text": [
      "875000 939229 /home/henning/tmp/experiments/ai/stable_diffusion/data/scrolller/img/93864287_2da5e626-e68c-4d0a-8427-648ff54a1c99.jpg\n",
      "876000 939229 /home/henning/tmp/experiments/ai/stable_diffusion/data/scrolller/img/93962606_9fa0c4f1-429b-4790-9512-b9cb0a064574.jpg\n",
      "876563 939229 /home/henning/tmp/experiments/ai/stable_diffusion/data/scrolller/img/94013997_fc77dd8d-3b1d-4567-844d-8040c4439a90.jpg REMOVE: None\n",
      "877000 939229 /home/henning/tmp/experiments/ai/stable_diffusion/data/scrolller/img/94052691_85aa8c3d-d486-4ca3-92c1-10b43cdc68f8.jpg\n",
      "878000 939229 /home/henning/tmp/experiments/ai/stable_diffusion/data/scrolller/img/9414766_260db13b-1df9-470b-9fd9-a4a38aead0da.jpg\n",
      "878549 939229 /home/henning/tmp/experiments/ai/stable_diffusion/data/scrolller/img/94196062_bb5e82f9-67e5-4c7a-be8e-fcb537caa98b.jpg REMOVE: None\n",
      "879000 939229 /home/henning/tmp/experiments/ai/stable_diffusion/data/scrolller/img/94236920_450af5e1-7bde-450b-be82-206e124ceda7.jpg\n"
     ]
    },
    {
     "name": "stderr",
     "output_type": "stream",
     "text": [
      "libpng warning: iCCP: known incorrect sRGB profile\n"
     ]
    },
    {
     "name": "stdout",
     "output_type": "stream",
     "text": [
      "880000 939229 /home/henning/tmp/experiments/ai/stable_diffusion/data/scrolller/img/94327993_32b185c7-307c-4836-a288-f2727f839a73.jpg\n",
      "881000 939229 /home/henning/tmp/experiments/ai/stable_diffusion/data/scrolller/img/94423970_f4877316-ef27-4f19-8a9f-da4f48ac5efd.jpg\n",
      "882000 939229 /home/henning/tmp/experiments/ai/stable_diffusion/data/scrolller/img/94523618_d1729f7e-af57-4f90-8703-54027f000fc7.jpg\n",
      "882131 939229 /home/henning/tmp/experiments/ai/stable_diffusion/data/scrolller/img/9453546_82e4f6af-0bc9-4d4d-b4f8-d7214e9f7064.jpg REMOVE: None\n",
      "883000 939229 /home/henning/tmp/experiments/ai/stable_diffusion/data/scrolller/img/94626519_ce324f1f-7b61-4119-aab7-920648e664cc.jpg\n",
      "884000 939229 /home/henning/tmp/experiments/ai/stable_diffusion/data/scrolller/img/94716065_26d4a843-6ef8-4230-9c56-edf035445ace.jpg\n",
      "885000 939229 /home/henning/tmp/experiments/ai/stable_diffusion/data/scrolller/img/94810585_2b33ce21-0b34-4e96-9e1e-b98aa72821b1.jpg\n",
      "886000 939229 /home/henning/tmp/experiments/ai/stable_diffusion/data/scrolller/img/94910239_c006665b-ee12-49ea-90f8-de6bed081e25.jpg\n",
      "887000 939229 /home/henning/tmp/experiments/ai/stable_diffusion/data/scrolller/img/95002788_ad2115ae-71fc-482e-a59b-90eee27597db.jpg\n",
      "888000 939229 /home/henning/tmp/experiments/ai/stable_diffusion/data/scrolller/img/95102185_65595ee0-3b76-4976-bc2d-ab78cebd66a9.jpg\n",
      "889000 939229 /home/henning/tmp/experiments/ai/stable_diffusion/data/scrolller/img/95199667_8efb3b36-5f24-449d-92ab-3a0ade83a185.jpg\n",
      "889566 939229 /home/henning/tmp/experiments/ai/stable_diffusion/data/scrolller/img/9525470_2a6f735a-a8be-4425-b541-5531109271f3.jpg REMOVE: None\n",
      "890000 939229 /home/henning/tmp/experiments/ai/stable_diffusion/data/scrolller/img/95295484_708fcbc1-5f1b-4de7-bde0-208bcb25d168.jpg\n",
      "891000 939229 /home/henning/tmp/experiments/ai/stable_diffusion/data/scrolller/img/95388423_887d526d-3af8-4e82-856c-3b9defc70849.jpg\n",
      "892000 939229 /home/henning/tmp/experiments/ai/stable_diffusion/data/scrolller/img/95486936_cd0056f6-6ebf-4c5c-b4a6-ba2769c49c2a.jpg\n",
      "893000 939229 /home/henning/tmp/experiments/ai/stable_diffusion/data/scrolller/img/95581219_5fe3a9c7-4af0-4038-8fcf-ae9a790d3322.jpg\n",
      "894000 939229 /home/henning/tmp/experiments/ai/stable_diffusion/data/scrolller/img/95676701_a6c00c58-762b-4ed2-b3d6-43c994ecb603.jpg\n",
      "895000 939229 /home/henning/tmp/experiments/ai/stable_diffusion/data/scrolller/img/95778725_4b8fc0b7-b922-4647-9727-4d3a9653c6c2.jpg\n",
      "896000 939229 /home/henning/tmp/experiments/ai/stable_diffusion/data/scrolller/img/95872610_c2bf78a6-2d4f-45f1-8c54-19254d0dba4d.jpg\n",
      "897000 939229 /home/henning/tmp/experiments/ai/stable_diffusion/data/scrolller/img/95967133_3a18f583-15e2-4664-aa1c-a31a1372dfa2.jpg\n",
      "898000 939229 /home/henning/tmp/experiments/ai/stable_diffusion/data/scrolller/img/96061876_73ea7cd2-df55-4a8a-a3ca-50a30b885f7a.jpg\n",
      "899000 939229 /home/henning/tmp/experiments/ai/stable_diffusion/data/scrolller/img/9615475_82e60810-c989-43db-9982-b090997d8544.jpg\n",
      "900000 939229 /home/henning/tmp/experiments/ai/stable_diffusion/data/scrolller/img/96255753_96566022-a262-47c2-bbde-f3d35cf41e66.jpg\n",
      "901000 939229 /home/henning/tmp/experiments/ai/stable_diffusion/data/scrolller/img/96349945_fd1c0e0b-1492-4e17-9040-8d3b9b7e072e.jpg\n",
      "902000 939229 /home/henning/tmp/experiments/ai/stable_diffusion/data/scrolller/img/96447781_df96cc96-b68b-4aca-885f-440efa0b60bc.jpg\n",
      "903000 939229 /home/henning/tmp/experiments/ai/stable_diffusion/data/scrolller/img/96544905_802a857a-e575-4bd9-b89a-8abfe8fa8029.jpg\n",
      "904000 939229 /home/henning/tmp/experiments/ai/stable_diffusion/data/scrolller/img/96647642_b92e5577-41b8-4fe4-910f-d7fb5b311c27.jpg\n",
      "905000 939229 /home/henning/tmp/experiments/ai/stable_diffusion/data/scrolller/img/96745318_cc44c80e-d98d-428e-86d4-575c8eab3e8d.jpg\n",
      "906000 939229 /home/henning/tmp/experiments/ai/stable_diffusion/data/scrolller/img/96843958_7f0a0772-7106-4d57-9e92-4bc1b2e28fba.jpg\n",
      "907000 939229 /home/henning/tmp/experiments/ai/stable_diffusion/data/scrolller/img/9694197_330d28dc-0e27-4781-b7e7-88f507bf1932.jpg\n",
      "908000 939229 /home/henning/tmp/experiments/ai/stable_diffusion/data/scrolller/img/97034432_41bddf35-b6be-42be-a2e5-08735122bfbd.jpg\n",
      "909000 939229 /home/henning/tmp/experiments/ai/stable_diffusion/data/scrolller/img/97130864_8f1c401a-3c42-4cc9-a16b-54bbb1bbd030.jpg\n",
      "910000 939229 /home/henning/tmp/experiments/ai/stable_diffusion/data/scrolller/img/97222261_752e189e-02cf-4d47-8324-1f100922c538.jpg\n",
      "911000 939229 /home/henning/tmp/experiments/ai/stable_diffusion/data/scrolller/img/97314167_bdbb5399-ee1c-429f-905f-ec6fdba90050.jpg\n",
      "912000 939229 /home/henning/tmp/experiments/ai/stable_diffusion/data/scrolller/img/97415991_63c8e657-f46f-4683-8e48-695603b09ba4.jpg\n",
      "913000 939229 /home/henning/tmp/experiments/ai/stable_diffusion/data/scrolller/img/9751375_60deb87d-bd60-464f-86c3-2367a4015d0b.jpg\n",
      "914000 939229 /home/henning/tmp/experiments/ai/stable_diffusion/data/scrolller/img/97611373_e790be71-655f-423d-9daf-4bee2ea69d79.jpg\n",
      "915000 939229 /home/henning/tmp/experiments/ai/stable_diffusion/data/scrolller/img/97704891_269d8a86-d65a-4780-ad90-6828a6bb7cbf.jpg\n",
      "916000 939229 /home/henning/tmp/experiments/ai/stable_diffusion/data/scrolller/img/97798270_11bba66c-3101-4c77-9b99-44508d6ec9df.jpg\n"
     ]
    },
    {
     "name": "stderr",
     "output_type": "stream",
     "text": [
      "libpng warning: iCCP: extra compressed data\n"
     ]
    },
    {
     "name": "stdout",
     "output_type": "stream",
     "text": [
      "917000 939229 /home/henning/tmp/experiments/ai/stable_diffusion/data/scrolller/img/97894321_35885d38-63c1-4347-a069-4833af05337d.jpg\n",
      "918000 939229 /home/henning/tmp/experiments/ai/stable_diffusion/data/scrolller/img/97992466_fae43be2-6fa1-4232-bc5b-6a9c7b36ddb3.jpg\n",
      "919000 939229 /home/henning/tmp/experiments/ai/stable_diffusion/data/scrolller/img/980833_9b6b44cf-001e-4f74-9d45-49d8f8da7ed4.jpg\n",
      "920000 939229 /home/henning/tmp/experiments/ai/stable_diffusion/data/scrolller/img/981769_bdc86808-b510-4d16-9702-83271b75ed28.jpg\n",
      "921000 939229 /home/henning/tmp/experiments/ai/stable_diffusion/data/scrolller/img/98276668_076fb89d-3495-4b2d-adbc-abc97f5110f2.jpg\n",
      "922000 939229 /home/henning/tmp/experiments/ai/stable_diffusion/data/scrolller/img/9836571_5f9feec7-cb3f-41a2-9924-dbf3d8080c5d.jpg\n",
      "922039 939229 /home/henning/tmp/experiments/ai/stable_diffusion/data/scrolller/img/98369851_0debe31f-f21f-4ce5-abd1-b55616cd0ac5.jpg REMOVE: None\n",
      "923000 939229 /home/henning/tmp/experiments/ai/stable_diffusion/data/scrolller/img/98457062_2c366554-b135-4f96-8dd4-bd2515004857.jpg\n",
      "923530 939229 /home/henning/tmp/experiments/ai/stable_diffusion/data/scrolller/img/98504453_c6ca5206-78e4-4a83-811e-84608d37fa22.jpg REMOVE: None\n",
      "924000 939229 /home/henning/tmp/experiments/ai/stable_diffusion/data/scrolller/img/98546180_eb2e90f2-2d64-4616-b3d0-74bffc8b4aaf.jpg\n",
      "924267 939229 /home/henning/tmp/experiments/ai/stable_diffusion/data/scrolller/img/9857475_bf6af50a-8ca8-495e-9fa7-98c2b9d55958.jpg REMOVE: None\n"
     ]
    },
    {
     "name": "stderr",
     "output_type": "stream",
     "text": [
      "libpng warning: iCCP: known incorrect sRGB profile\n"
     ]
    },
    {
     "name": "stdout",
     "output_type": "stream",
     "text": [
      "925000 939229 /home/henning/tmp/experiments/ai/stable_diffusion/data/scrolller/img/98649095_ec18226b-1dc9-4d5f-a323-6bf02a952e86.jpg\n",
      "926000 939229 /home/henning/tmp/experiments/ai/stable_diffusion/data/scrolller/img/98745515_9cedab8f-3bb1-4519-85fb-7e6af2b1d94c.jpg\n",
      "927000 939229 /home/henning/tmp/experiments/ai/stable_diffusion/data/scrolller/img/98834645_1fb65b60-ef66-4157-ae9d-cca473e59152.jpg\n",
      "928000 939229 /home/henning/tmp/experiments/ai/stable_diffusion/data/scrolller/img/98933043_889ebeda-d0ec-4622-89b0-5cbfacd9818b.jpg\n",
      "929000 939229 /home/henning/tmp/experiments/ai/stable_diffusion/data/scrolller/img/9902181_505c98b7-bf49-486e-a89e-b67c8c013300.jpg\n",
      "930000 939229 /home/henning/tmp/experiments/ai/stable_diffusion/data/scrolller/img/9911190_472631ac-f57a-4fce-ba64-e4cd7f9d2db0.jpg\n",
      "931000 939229 /home/henning/tmp/experiments/ai/stable_diffusion/data/scrolller/img/99204469_9eb4b361-3c9a-4e26-a5ab-9572046a1b3a.jpg\n",
      "932000 939229 /home/henning/tmp/experiments/ai/stable_diffusion/data/scrolller/img/99301416_14e85aef-d11c-4bd8-9cbe-b2c8523f3a1d.jpg\n",
      "933000 939229 /home/henning/tmp/experiments/ai/stable_diffusion/data/scrolller/img/9940013_e83d27ec-f816-49cc-9958-6c3a86c255c2.jpg\n",
      "934000 939229 /home/henning/tmp/experiments/ai/stable_diffusion/data/scrolller/img/99497133_726dceb7-4cf7-4c5f-b342-284e0e2ad862.jpg\n"
     ]
    },
    {
     "name": "stderr",
     "output_type": "stream",
     "text": [
      "libpng warning: iCCP: known incorrect sRGB profile\n"
     ]
    },
    {
     "name": "stdout",
     "output_type": "stream",
     "text": [
      "935000 939229 /home/henning/tmp/experiments/ai/stable_diffusion/data/scrolller/img/99592892_73595e7a-ba98-4313-b295-cb9d7fc71f55.jpg\n",
      "936000 939229 /home/henning/tmp/experiments/ai/stable_diffusion/data/scrolller/img/99685397_a37ce9d9-1bc7-4c8a-8a3a-1d31f56d2c25.jpg\n",
      "937000 939229 /home/henning/tmp/experiments/ai/stable_diffusion/data/scrolller/img/99785947_e608fb5e-e9a7-4817-9985-bcfad100f475.jpg\n",
      "938000 939229 /home/henning/tmp/experiments/ai/stable_diffusion/data/scrolller/img/99886142_a41a5f8b-6e72-43bc-8317-73cc24c526ef.jpg\n",
      "939000 939229 /home/henning/tmp/experiments/ai/stable_diffusion/data/scrolller/img/99980999_194d5bbf-0e32-4b3b-9ae9-3c1783317437.jpg\n"
     ]
    }
   ],
   "source": [
    "BASE_PATH = \"/home/henning/tmp/experiments/ai/stable_diffusion/data/scrolller\"\n",
    "img_path = os.path.join(BASE_PATH, f\"img\")\n",
    "img_filenames = glob.glob(os.path.join(img_path, \"*\"))\n",
    "img_filenames = sorted(img_filenames)\n",
    "LEN = len(img_filenames)\n",
    "for i in range(0, LEN):\n",
    "    img_filename = img_filenames[i]\n",
    "\n",
    "    if (i % 1000) == 0:\n",
    "        print(i, LEN, img_filename)\n",
    "\n",
    "    check_img = os.path.exists(img_filename)\n",
    "\n",
    "    if \"aria\" in img_filename:\n",
    "        print(i, LEN, img_filename, \"SKIP: aria\")\n",
    "        continue\n",
    "        \n",
    "    try:\n",
    "        if check_img:\n",
    "            img = cv2.imread(img_filename)\n",
    "            \n",
    "            if img is None:\n",
    "                print(i, LEN, img_filename, \"REMOVE: None\")\n",
    "                os.remove(img_filename)\n",
    "                continue\n",
    "                \n",
    "            if len(img.shape) == 2:\n",
    "                print(i, LEN, img_filename, \"REMOVE: Gray\")\n",
    "                os.remove(img_filename)\n",
    "                continue\n",
    "            \n",
    "            img = Image.open(img_filename)\n",
    "            img = img.convert('RGB')\n",
    "            if 'icc_profile' not in img.info:\n",
    "                continue\n",
    "            img.info.pop('icc_profile')\n",
    "            img.save(img_filename)\n",
    "\n",
    "    except Exception as e:\n",
    "        print(img_filename, e)"
   ]
  },
  {
   "cell_type": "code",
   "execution_count": null,
   "id": "25d64474-5c30-41ac-9312-f1524402f5bb",
   "metadata": {},
   "outputs": [],
   "source": []
  }
 ],
 "metadata": {
  "kernelspec": {
   "display_name": "Python 3 (ipykernel)",
   "language": "python",
   "name": "python3"
  },
  "language_info": {
   "codemirror_mode": {
    "name": "ipython",
    "version": 3
   },
   "file_extension": ".py",
   "mimetype": "text/x-python",
   "name": "python",
   "nbconvert_exporter": "python",
   "pygments_lexer": "ipython3",
   "version": "3.11.6"
  }
 },
 "nbformat": 4,
 "nbformat_minor": 5
}
